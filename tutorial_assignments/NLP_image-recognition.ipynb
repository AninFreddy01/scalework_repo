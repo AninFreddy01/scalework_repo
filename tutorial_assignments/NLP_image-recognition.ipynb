{
 "cells": [
  {
   "cell_type": "markdown",
   "metadata": {},
   "source": [
    "### Image Reccognition on MNIST dataset"
   ]
  },
  {
   "cell_type": "markdown",
   "metadata": {},
   "source": [
    "What is Deep Learning\n",
    "Deep Learning is a subfield of machine learning, which itself is a branch of artificial intelligence (AI). \n",
    "\n",
    "Deep learning is a method that uses artificial neural networks to model and solve problems that are difficult for traditional algorithms. \n",
    "\n",
    "It's called \"deep\" because the neural networks have many layers of nodes (also known as neurons), which is what makes them \"deep\".\n",
    "\n",
    "\n",
    "Deep learning can automatically learn from large amounts of data and improve its performance over time. It is especially powerful for tasks like:\n",
    "\n",
    "\n",
    "Image recognition\n",
    "\n",
    "\n",
    "Speech recognition\n",
    "\n",
    "\n",
    "Natural language processing\n",
    "\n",
    "\n",
    "Self-driving cars\n",
    "\n",
    "\n",
    "Playing complex games (e.g., chess, Go)\n",
    "\n",
    "\n",
    "What are Neural Networks\n",
    "\n",
    "\n",
    "A Neural Network is a computational model inspired by how the human brain works. It consists of layers of interconnected nodes (neurons), which process data and pass it from one layer to the next.\n",
    "\n",
    "\n",
    "Here's a breakdown of the basic components of a neural network:\n",
    "Neurons (Nodes): Each neuron receives input data, processes it, and passes the result to the next layer. Each neuron is connected to others through weights and biases that are adjusted during training.\n",
    "\n",
    "\n",
    "Layers:\n",
    "Input Layer: This layer receives the raw data (e.g., an image, text, etc.).\n",
    "\n",
    "\n",
    "Hidden Layers: These layers process the data. Each hidden layer applies mathematical operations (e.g., weights, activation functions) to the input data to extract important features.\n",
    "\n",
    "\n",
    "Output Layer: The final layer produces the model's prediction (e.g., classifying an image as a cat or a dog).\n",
    "\n",
    "\n",
    "Weights and Biases: These are parameters that the model adjusts during training. Weights define the importance of the input, and biases help shift the results to make the model more accurate.\n",
    "\n",
    "\n",
    "Activation Function: This function helps determine whether a neuron should be activated or not, adding non-linearity to the network. Common activation functions include ReLU (Rectified Linear Unit) and sigmoid.\n",
    "\n",
    "\n",
    "How Do Neural Networks Work\n",
    "Input Data: You start with input data (e.g., an image, a set of numbers, etc.).\n",
    "Forward Propagation: The input data passes through the neurons in each layer. The data is transformed by the weights, biases, and activation functions.\n",
    "\n",
    "\n",
    "Prediction: The final layer gives the output (e.g., the prediction or classification result).\n",
    "\n",
    "\n",
    "Loss Calculation: The difference between the model’s prediction and the actual value (called the loss) is calculated.\n",
    "\n",
    "\n",
    "Backpropagation: The loss is then used to adjust the weights and biases using a method called backpropagation, which helps the model improve its predictions.\n",
    "\n",
    "\n",
    "Training: This process is repeated many times with different data, and the model learns to make better predictions over time.\n",
    "\n",
    "\n",
    "\""
   ]
  },
  {
   "cell_type": "markdown",
   "metadata": {},
   "source": []
  }
 ],
 "metadata": {
  "language_info": {
   "name": "python"
  }
 },
 "nbformat": 4,
 "nbformat_minor": 2
}
