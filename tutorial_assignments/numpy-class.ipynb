{
 "cells": [
  {
   "cell_type": "markdown",
   "id": "0e553330-e663-4ebd-a06c-d4ff758e1a0b",
   "metadata": {},
   "source": [
    "![Quote](http://darlington.infinityfreeapp.com/images/quote7.png)"
   ]
  },
  {
   "cell_type": "markdown",
   "id": "c9222354-c095-4ea4-8dd7-e2758e25d479",
   "metadata": {},
   "source": [
    "# 1. Introduction"
   ]
  },
  {
   "cell_type": "markdown",
   "id": "7c43a124-ce76-47e7-8309-ccb46a887dfd",
   "metadata": {},
   "source": [
    "Welcome to another insightful lesson in our Python Essentials course! In this important session, we will explore the basics of **using Python for data analysis**. Python, due to its simplicity and powerful libraries, stands out as the preferred language for data analysis worldwide. As data analysis has become increasingly important in various fields and industries, both individuals and organizations rely heavily on Python to make well-informed decisions based on data. By the end of this lesson, you'll gain valuable knowledge that will empower you and enhance your proficiency in this essential skill."
   ]
  },
  {
   "cell_type": "markdown",
   "id": "bec454a7-219c-4f44-8972-3b39e5e234a3",
   "metadata": {},
   "source": [
    "# 2. What is Data Analysis?"
   ]
  },
  {
   "cell_type": "markdown",
   "id": "a4075f73-d750-41f4-9534-ac867ef8d13f",
   "metadata": {},
   "source": [
    "Data analysis is the systematic process of **extracting valuable insights and knowledge from raw data**. In today's data-driven world, organizations across various sectors such as *business*, *finance*, *healthcare*, *marketing*, and *research* heavily depend on it to make informed decisions. By analyzing data, organizations and individuals can effectively solve real-world problems, identify emerging trends, detect anomalies, make accurate predictions, and optimize their business processes."
   ]
  },
  {
   "cell_type": "markdown",
   "id": "9f088f3d-f22f-4aa1-815d-01cf4da3212e",
   "metadata": {},
   "source": [
    "# 3. Python Libraries for Data Analysis"
   ]
  },
  {
   "cell_type": "markdown",
   "id": "bbc314cb-e8ee-4ec2-adfe-81c34188cec1",
   "metadata": {},
   "source": [
    "Python offers a wide range of libraries, such as **Pandas**, **NumPy**, and **Matplotlib**, for data analysis. These libraries provide powerful tools and functions to efficiently manipulate, clean, visualize, and analyze data."
   ]
  },
  {
   "cell_type": "markdown",
   "id": "7e161611-5f3c-46f2-9093-5e9c15e5246c",
   "metadata": {},
   "source": [
    "### 3.2 NumPy"
   ]
  },
  {
   "cell_type": "markdown",
   "id": "f98f1a19-59bc-476f-9951-28d298286d7a",
   "metadata": {},
   "source": [
    "NumPy (**Numerical Python**) is a powerful Python library used for **working with arrays and performing mathematical operations** on them."
   ]
  },
  {
   "cell_type": "markdown",
   "id": "8431100c-3b75-4304-adfe-4e9098b49e21",
   "metadata": {},
   "source": [
    "#### Using NumPy"
   ]
  },
  {
   "cell_type": "markdown",
   "id": "85fb5fb1-bec3-438f-8e56-0f8154cc89e6",
   "metadata": {},
   "source": [
    "**Install NumPy**: Before using NumPy, you need to install it. You can install NumPy using the following command:"
   ]
  },
  {
   "cell_type": "code",
   "execution_count": 60,
   "id": "984c4330-2549-4720-86b0-10cf0220265c",
   "metadata": {},
   "outputs": [
    {
     "name": "stdout",
     "output_type": "stream",
     "text": [
      "Defaulting to user installation because normal site-packages is not writeable\n",
      "Requirement already satisfied: numpy in c:\\programdata\\anaconda3\\lib\\site-packages (1.21.5)\n"
     ]
    }
   ],
   "source": [
    "# Installing numpy using Jupyter notebook\n",
    "!pip install numpy"
   ]
  },
  {
   "cell_type": "markdown",
   "id": "5af8b857-6fda-4e92-acc3-8cc04ed9b7e5",
   "metadata": {},
   "source": [
    "**Import NumPy**: Once NumPy is installed, you can import it into your Python program using the import statement. It is common practice to import NumPy with the alias **np** for better readability."
   ]
  },
  {
   "cell_type": "code",
   "execution_count": 61,
   "id": "656ad8eb-7668-4a00-b8f7-058b53e8e3ec",
   "metadata": {},
   "outputs": [],
   "source": [
    "# Importing numpy library\n",
    "import numpy as np"
   ]
  },
  {
   "cell_type": "markdown",
   "id": "1ee8bf4a-4fba-451f-919d-d168e32d9f69",
   "metadata": {},
   "source": [
    "**Performing Operations**: NumPy offers a wide range of functions and methods for efficiently performing various numerical operations on arrays, including data from your CSV file. With NumPy, we can effortlessly analyze our sales data, perform calculations, and tackle a variety of numerical tasks with ease."
   ]
  },
  {
   "cell_type": "markdown",
   "id": "bc37820a-009c-46d8-8bf0-4feb0390e8fd",
   "metadata": {},
   "source": [
    "### 3.3 Matplotlib"
   ]
  },
  {
   "cell_type": "markdown",
   "id": "402d6adf-4763-4729-8afe-dbc7305ebeb1",
   "metadata": {},
   "source": [
    "Matplotlib is a **plotting and visualization library** that enables you to create a wide variety of static, animated, and interactive visualizations in Python. With Matplotlib, you can generate plots, histograms, scatterplots, and more to explore and communicate your data effectively."
   ]
  },
  {
   "cell_type": "markdown",
   "id": "10c7b7b7-bc37-4b3e-b44e-e45d32d7b49e",
   "metadata": {},
   "source": [
    "#### Using Matplotlib"
   ]
  },
  {
   "cell_type": "markdown",
   "id": "b8e0b376-3812-4605-a1ed-c796e6e734cc",
   "metadata": {},
   "source": [
    "**Install Matplotlib**: Before you can use Matplotlib, you need to install it by running the following command:"
   ]
  },
  {
   "cell_type": "code",
   "execution_count": 62,
   "id": "6ab52d5d-7674-429d-9571-62eb38870329",
   "metadata": {},
   "outputs": [
    {
     "name": "stdout",
     "output_type": "stream",
     "text": [
      "Defaulting to user installation because normal site-packages is not writeable\n",
      "Requirement already satisfied: matplotlib in c:\\programdata\\anaconda3\\lib\\site-packages (3.5.2)\n",
      "Requirement already satisfied: kiwisolver>=1.0.1 in c:\\programdata\\anaconda3\\lib\\site-packages (from matplotlib) (1.4.2)\n",
      "Requirement already satisfied: pillow>=6.2.0 in c:\\programdata\\anaconda3\\lib\\site-packages (from matplotlib) (9.2.0)\n",
      "Requirement already satisfied: pyparsing>=2.2.1 in c:\\programdata\\anaconda3\\lib\\site-packages (from matplotlib) (3.0.9)\n",
      "Requirement already satisfied: python-dateutil>=2.7 in c:\\programdata\\anaconda3\\lib\\site-packages (from matplotlib) (2.8.2)\n",
      "Requirement already satisfied: packaging>=20.0 in c:\\programdata\\anaconda3\\lib\\site-packages (from matplotlib) (21.3)\n",
      "Requirement already satisfied: cycler>=0.10 in c:\\programdata\\anaconda3\\lib\\site-packages (from matplotlib) (0.11.0)\n",
      "Requirement already satisfied: numpy>=1.17 in c:\\programdata\\anaconda3\\lib\\site-packages (from matplotlib) (1.21.5)\n",
      "Requirement already satisfied: fonttools>=4.22.0 in c:\\programdata\\anaconda3\\lib\\site-packages (from matplotlib) (4.25.0)\n",
      "Requirement already satisfied: six>=1.5 in c:\\programdata\\anaconda3\\lib\\site-packages (from python-dateutil>=2.7->matplotlib) (1.16.0)\n"
     ]
    }
   ],
   "source": [
    "# Installing matplotlib using Jupyter notebook\n",
    "!pip install matplotlib"
   ]
  },
  {
   "cell_type": "markdown",
   "id": "a0855a51",
   "metadata": {},
   "source": [
    "At the core of the NumPy package, is the ndarray object. This encapsulates n-dimensional arrays of homogeneous data types, with many operations being performed in compiled code for performance. There are several important differences between NumPy arrays and the standard Python sequences:\n",
    "\n",
    "- NumPy arrays have a fixed size at creation, unlike Python lists (which can grow dynamically). Changing the size of an ndarray will create a new array and delete the original.\n",
    "\n",
    "- The elements in a NumPy array are all required to be of the same data type, and thus will be the same size in memory. The exception: one can have arrays of (Python, including NumPy) objects, thereby allowing for arrays of different sized elements.\n",
    "\n",
    "- NumPy arrays facilitate advanced mathematical and other types of operations on large numbers of data. Typically, such operations are executed more efficiently and with less code than is possible using Python’s built-in sequences.\n",
    "\n",
    "A growing plethora of scientific and mathematical Python-based packages are using NumPy arrays; though these typically support Python-sequence input, they convert such input to NumPy arrays prior to processing, and they often output NumPy arrays. In other words, in order to efficiently use much (perhaps even most) of today’s scientific/mathematical Python-based software, just knowing how to use Python’s built-in sequence types is insufficient - one also needs to know how to use NumPy arrays."
   ]
  },
  {
   "cell_type": "code",
   "execution_count": null,
   "id": "a656969c",
   "metadata": {},
   "outputs": [],
   "source": [
    "import numpy as np"
   ]
  },
  {
   "cell_type": "markdown",
   "id": "6dc32a82",
   "metadata": {},
   "source": [
    "Data Analysis and Visualization"
   ]
  },
  {
   "cell_type": "markdown",
   "id": "299fee14",
   "metadata": {},
   "source": [
    "Financial Mathematics"
   ]
  },
  {
   "cell_type": "code",
   "execution_count": null,
   "id": "0d9da62a",
   "metadata": {},
   "outputs": [],
   "source": []
  },
  {
   "cell_type": "markdown",
   "id": "d41cc08d",
   "metadata": {},
   "source": [
    "### Exersice"
   ]
  },
  {
   "cell_type": "markdown",
   "id": "874ed40a",
   "metadata": {},
   "source": [
    "You have daily stock prices of a company for the last month, and you want to calculate important statistics like the average price, highest and lowest prices, and the percentage changes day-to-day."
   ]
  },
  {
   "cell_type": "markdown",
   "id": "6ca4dfbc",
   "metadata": {},
   "source": [
    "[150.5, 152.3, 151.2, 154.1, 153.7, 152.8, 151.0, 149.8, 151.7,\n",
    "                         152.4, 153.1, 154.7, 155.2, 157.0, 156.5, 158.1, 159.2, 160.0,\n",
    "                         161.5, 162.7, 161.2, 160.8, 159.6, 158.2, 157.3, 156.1, 157.9,\n",
    "                         159.0, 158.4, 157.7]"
   ]
  },
  {
   "cell_type": "code",
   "execution_count": 3,
   "id": "cbec25d7",
   "metadata": {},
   "outputs": [],
   "source": [
    "import numpy as np"
   ]
  },
  {
   "cell_type": "code",
   "execution_count": 4,
   "id": "afb7e894",
   "metadata": {},
   "outputs": [],
   "source": [
    "stock_price = np.array([150.5, 152.3, 151.2, 154.1, 153.7, 152.8, 151.0, 149.8, 151.7,\n",
    "                         152.4, 153.1, 154.7, 155.2, 157.0, 156.5, 158.1, 159.2, 160.0,\n",
    "                         161.5, 162.7, 161.2, 160.8, 159.6, 158.2, 157.3, 156.1, 157.9,\n",
    "                         159.0, 158.4, 157.7])"
   ]
  },
  {
   "cell_type": "code",
   "execution_count": 8,
   "id": "f0de94c6",
   "metadata": {},
   "outputs": [
    {
     "data": {
      "text/plain": [
       "156.12"
      ]
     },
     "execution_count": 8,
     "metadata": {},
     "output_type": "execute_result"
    }
   ],
   "source": [
    "average_price= np.mean(stock_price)\n",
    "np.round(average_price,2)"
   ]
  },
  {
   "cell_type": "code",
   "execution_count": 10,
   "id": "7ad529d0",
   "metadata": {},
   "outputs": [
    {
     "data": {
      "text/plain": [
       "162.7"
      ]
     },
     "execution_count": 10,
     "metadata": {},
     "output_type": "execute_result"
    }
   ],
   "source": [
    "highest_price = np.max(stock_price)\n",
    "highest_price"
   ]
  },
  {
   "cell_type": "code",
   "execution_count": 11,
   "id": "bf3de3e1",
   "metadata": {},
   "outputs": [
    {
     "data": {
      "text/plain": [
       "149.8"
      ]
     },
     "execution_count": 11,
     "metadata": {},
     "output_type": "execute_result"
    }
   ],
   "source": [
    "lowest_price = np.min(stock_price)\n",
    "lowest_price"
   ]
  },
  {
   "cell_type": "code",
   "execution_count": 30,
   "id": "0c24f5b0",
   "metadata": {},
   "outputs": [
    {
     "name": "stdout",
     "output_type": "stream",
     "text": [
      "152.3 1.2\n",
      "151.2 -0.72\n",
      "154.1 1.92\n",
      "153.7 -0.26\n",
      "152.8 -0.59\n",
      "151.0 -1.18\n",
      "149.8 -0.79\n",
      "151.7 1.27\n",
      "152.4 0.46\n",
      "153.1 0.46\n",
      "154.7 1.05\n",
      "155.2 0.32\n",
      "157.0 1.16\n",
      "156.5 -0.32\n",
      "158.1 1.02\n",
      "159.2 0.7\n",
      "160.0 0.5\n",
      "161.5 0.94\n",
      "162.7 0.74\n",
      "161.2 -0.92\n",
      "160.8 -0.25\n",
      "159.6 -0.75\n",
      "158.2 -0.88\n",
      "157.3 -0.57\n",
      "156.1 -0.76\n",
      "157.9 1.15\n",
      "159.0 0.7\n",
      "158.4 -0.38\n",
      "157.7 -0.44\n"
     ]
    }
   ],
   "source": [
    "for i in range(len(stock_price) - 1): #to match length with the last index\n",
    "    percentage_change = ((stock_price[i+1] - stock_price[i]) / stock_price[i]) * 100 #(Next price - current price) / current price time 100\n",
    "    print(stock_price[i+1], np.round(percentage_change,2)) #output the next price with the percentage change"
   ]
  },
  {
   "cell_type": "code",
   "execution_count": null,
   "id": "1d430347",
   "metadata": {},
   "outputs": [],
   "source": []
  }
 ],
 "metadata": {
  "kernelspec": {
   "display_name": "Python 3",
   "language": "python",
   "name": "python3"
  },
  "language_info": {
   "codemirror_mode": {
    "name": "ipython",
    "version": 3
   },
   "file_extension": ".py",
   "mimetype": "text/x-python",
   "name": "python",
   "nbconvert_exporter": "python",
   "pygments_lexer": "ipython3",
   "version": "3.12.0"
  }
 },
 "nbformat": 4,
 "nbformat_minor": 5
}
