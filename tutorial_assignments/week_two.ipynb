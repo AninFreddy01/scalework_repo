{
 "cells": [
  {
   "cell_type": "code",
   "execution_count": 3,
   "metadata": {},
   "outputs": [
    {
     "name": "stdout",
     "output_type": "stream",
     "text": [
      "Wednesday is a weekday\n"
     ]
    }
   ],
   "source": [
    "#Given a specific day of the week, such as Wednesday, write a Python program to determine whether it is a weekday or a weekend day. \n",
    "# Consider Monday to Friday as weekdays and Saturday and Sunday as weekends. Print an error message for invalid input.\n",
    "\n",
    "day = \"Wednesday\"\n",
    "\n",
    "days_of_week = [\"Monday\", \"Tuesday\", \"Wednesday\", \"Thursday\", \"Friday\"]\n",
    "weekends = [\"Saturday\", \"Sunday\"]\n",
    "\n",
    "if day in days_of_week:\n",
    "    print(f\"{day} is a weekday\")\n",
    "elif day in weekends:\n",
    "    print(f\"{day} is a weekend\")\n",
    "else:\n",
    "    print(f\"{day} is an invalid input\")"
   ]
  },
  {
   "cell_type": "code",
   "execution_count": 5,
   "metadata": {},
   "outputs": [
    {
     "name": "stdout",
     "output_type": "stream",
     "text": [
      "You are not old enough\n"
     ]
    }
   ],
   "source": [
    "#Write a Python program to simulate a simple password authentication system. \n",
    "# Set a password (\"MyPass@247\") and an age (25). \n",
    "# Check if the password has more than 8 characters using the len() function. \n",
    "# If it does, check if the user is 18 or older. \n",
    "# If both conditions are true, print \"Access\n",
    "\n",
    "password = \"MyPass@247\"\n",
    "age = 5\n",
    "\n",
    "if len(password) >= 8:\n",
    "    if age >= 18:\n",
    "        print(\"Access granted\")\n",
    "    else:\n",
    "        print(\"You are not old enough\")\n",
    "else:\n",
    "    print(\"Access denied\")"
   ]
  },
  {
   "cell_type": "code",
   "execution_count": null,
   "metadata": {},
   "outputs": [],
   "source": []
  }
 ],
 "metadata": {
  "kernelspec": {
   "display_name": "Python 3",
   "language": "python",
   "name": "python3"
  },
  "language_info": {
   "codemirror_mode": {
    "name": "ipython",
    "version": 3
   },
   "file_extension": ".py",
   "mimetype": "text/x-python",
   "name": "python",
   "nbconvert_exporter": "python",
   "pygments_lexer": "ipython3",
   "version": "3.12.0"
  }
 },
 "nbformat": 4,
 "nbformat_minor": 2
}
