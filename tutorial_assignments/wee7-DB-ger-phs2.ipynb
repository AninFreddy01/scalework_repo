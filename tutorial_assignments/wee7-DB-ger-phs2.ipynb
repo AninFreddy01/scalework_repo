{
 "cells": [
  {
   "cell_type": "markdown",
   "id": "2f56c23a-6995-429e-a999-537047a90ac7",
   "metadata": {},
   "source": [
    "# Working with Databases in Python\n",
    "\n",
    "\n"
   ]
  },
  {
   "cell_type": "markdown",
   "id": "5e7dcc26-e3f8-4cff-a854-184d02924b52",
   "metadata": {
    "jp-MarkdownHeadingCollapsed": true,
    "tags": []
   },
   "source": [
    "## Reading from the Database\n",
    "\n",
    "For this lesson, we will be using the MySQL Database from your Data Query and Dashboarding Module\n",
    "\n",
    "\n",
    "```{python}\n",
    "# !pip install sqlalchemy\n",
    "# !pip install MySQLdb\n",
    "import sqlalchemy as sa\n",
    "\n",
    "# Import pandas\n",
    "import pandas as pd\n",
    "\n",
    "HOST_AND_PORT = \"20.218.241.192:3306\"\n",
    "DB_NAME = \"sakila\"\n",
    "USERNAME = \"dapLearner\"\n",
    "PASSWORD = \"$qlQu3ry&B!gData\"\n",
    "\n",
    "# Create the DB engine connector\n",
    "db_cnx = sa.create_engine(f'mysql://{USERNAME}:{PASSWORD}@{HOST_AND_PORT}/{DB_NAME}')\n",
    "\n",
    "# Read the Customer Table\n",
    "db_query = '''\n",
    "        SELECT *\n",
    "        FROM customer\n",
    "        '''\n",
    "cust_df = pd.read_sql(db_query, db_cnx)\n",
    "```"
   ]
  },
  {
   "cell_type": "markdown",
   "id": "3c5f1e72-1d4d-470d-b629-906717fc92fc",
   "metadata": {},
   "source": [
    "## Working with Environment Variables in Jupyter Lab "
   ]
  },
  {
   "cell_type": "markdown",
   "id": "96f5e72b-fa89-4b97-b441-e426adeb44c3",
   "metadata": {},
   "source": [
    "The dotenv library in Python is used to read environment variables from a .env file and make them available in the environment of your Python application. This is particularly useful for managing configuration values and sensitive information such as API keys, database credentials, and other settings that you don't want to hard-code into your application's source code."
   ]
  },
  {
   "cell_type": "code",
   "execution_count": 17,
   "id": "67d7046b-1102-40ea-95e2-af7b0dd39251",
   "metadata": {},
   "outputs": [
    {
     "name": "stdout",
     "output_type": "stream",
     "text": [
      "Requirement already satisfied: python-dotenv in c:\\users\\owner\\appdata\\local\\programs\\python\\python312\\lib\\site-packages (1.0.1)Note: you may need to restart the kernel to use updated packages.\n"
     ]
    },
    {
     "name": "stderr",
     "output_type": "stream",
     "text": [
      "\n",
      "[notice] A new release of pip is available: 24.1.1 -> 24.2\n",
      "[notice] To update, run: python.exe -m pip install --upgrade pip\n"
     ]
    },
    {
     "name": "stdout",
     "output_type": "stream",
     "text": [
      "\n"
     ]
    }
   ],
   "source": [
    "# installing the dotenv library\n",
    "%pip install python-dotenv"
   ]
  },
  {
   "cell_type": "markdown",
   "id": "4994dd02-4f36-40af-b949-001ebb78b544",
   "metadata": {},
   "source": [
    "When working with environment variables, the os library is used to access these variables within your Python code.\n",
    "The dotenv library helps load environment variables from a .env file into the environment, but the os library is required to actually fetch and use these variables in your application."
   ]
  },
  {
   "cell_type": "markdown",
   "id": "b0379133-ec47-4b4f-839a-06f40278aa61",
   "metadata": {},
   "source": [
    "SQLAlchemy is a powerful SQL toolkit and Object-Relational Mapping (ORM) library for Python. It provides a comprehensive set of tools for working with databases in a more Pythonic way, abstracting much of the complexity involved in interacting with relational databases."
   ]
  },
  {
   "cell_type": "code",
   "execution_count": 18,
   "id": "7e178324-ba23-46b3-801f-ccae0eff0344",
   "metadata": {},
   "outputs": [
    {
     "name": "stdout",
     "output_type": "stream",
     "text": [
      "Requirement already satisfied: sqlalchemy in c:\\users\\owner\\appdata\\local\\programs\\python\\python312\\lib\\site-packages (2.0.36)Note: you may need to restart the kernel to use updated packages.\n"
     ]
    },
    {
     "name": "stderr",
     "output_type": "stream",
     "text": [
      "\n",
      "[notice] A new release of pip is available: 24.1.1 -> 24.2\n",
      "[notice] To update, run: python.exe -m pip install --upgrade pip\n"
     ]
    },
    {
     "name": "stdout",
     "output_type": "stream",
     "text": [
      "\n",
      "Requirement already satisfied: typing-extensions>=4.6.0 in c:\\users\\owner\\appdata\\local\\programs\\python\\python312\\lib\\site-packages (from sqlalchemy) (4.12.2)\n",
      "Requirement already satisfied: greenlet!=0.4.17 in c:\\users\\owner\\appdata\\local\\programs\\python\\python312\\lib\\site-packages (from sqlalchemy) (3.1.1)\n"
     ]
    }
   ],
   "source": [
    "# installing sqlalchemy\n",
    "%pip install sqlalchemy\n"
   ]
  },
  {
   "cell_type": "markdown",
   "id": "3963b959-2fb9-444d-8a85-bedb411d7abd",
   "metadata": {},
   "source": [
    "The mysqlclient package is a Python interface to MySQL databases, providing the necessary functionality for connecting and interacting with MySQL servers."
   ]
  },
  {
   "cell_type": "code",
   "execution_count": 19,
   "id": "46e46191-0986-43af-8743-d71e7270d5e4",
   "metadata": {},
   "outputs": [
    {
     "name": "stdout",
     "output_type": "stream",
     "text": [
      "Requirement already satisfied: mysqlclient in c:\\users\\owner\\appdata\\local\\programs\\python\\python312\\lib\\site-packages (2.2.5)Note: you may need to restart the kernel to use updated packages.\n",
      "\n"
     ]
    },
    {
     "name": "stderr",
     "output_type": "stream",
     "text": [
      "\n",
      "[notice] A new release of pip is available: 24.1.1 -> 24.2\n",
      "[notice] To update, run: python.exe -m pip install --upgrade pip\n"
     ]
    }
   ],
   "source": [
    "# install mysqlclient package\n",
    "%pip install mysqlclient"
   ]
  },
  {
   "cell_type": "code",
   "execution_count": 21,
   "id": "a05d91ab",
   "metadata": {},
   "outputs": [
    {
     "data": {
      "text/plain": [
       "'20.218.241.192:3306'"
      ]
     },
     "execution_count": 21,
     "metadata": {},
     "output_type": "execute_result"
    }
   ],
   "source": [
    "import sqlalchemy as sa \n",
    "from dotenv import load_dotenv\n",
    "import os\n",
    "\n",
    "load_dotenv(r\"C:\\Users\\Owner\\Downloads\\Scalework\\scalework_repo\\data_external.txt\")\n",
    "\n",
    "USER = os.getenv(\"USER\")\n",
    "PASSWORD = os.getenv(\"PASSWORD\")\n",
    "HOST_AND_PORT = os.getenv(\"HOST_AND_PORT\")\n",
    "DB_NAME = os.getenv(\"DB_NAME\")\n",
    "\n",
    "HOST_AND_PORT"
   ]
  },
  {
   "cell_type": "code",
   "execution_count": 24,
   "id": "4f471664",
   "metadata": {},
   "outputs": [
    {
     "name": "stdout",
     "output_type": "stream",
     "text": [
      "Collecting pymysqlNote: you may need to restart the kernel to use updated packages.\n",
      "\n",
      "  Downloading PyMySQL-1.1.1-py3-none-any.whl.metadata (4.4 kB)\n",
      "Downloading PyMySQL-1.1.1-py3-none-any.whl (44 kB)\n",
      "   ---------------------------------------- 0.0/45.0 kB ? eta -:--:--\n",
      "   ------------------------------------ --- 41.0/45.0 kB 2.0 MB/s eta 0:00:01\n",
      "   ---------------------------------------- 45.0/45.0 kB 1.1 MB/s eta 0:00:00\n",
      "Installing collected packages: pymysql\n",
      "Successfully installed pymysql-1.1.1\n"
     ]
    },
    {
     "name": "stderr",
     "output_type": "stream",
     "text": [
      "\n",
      "[notice] A new release of pip is available: 24.1.1 -> 24.2\n",
      "[notice] To update, run: python.exe -m pip install --upgrade pip\n"
     ]
    }
   ],
   "source": [
    "%pip install pymysql"
   ]
  },
  {
   "cell_type": "code",
   "execution_count": 27,
   "id": "00bdce7a",
   "metadata": {},
   "outputs": [
    {
     "data": {
      "text/html": [
       "<div>\n",
       "<style scoped>\n",
       "    .dataframe tbody tr th:only-of-type {\n",
       "        vertical-align: middle;\n",
       "    }\n",
       "\n",
       "    .dataframe tbody tr th {\n",
       "        vertical-align: top;\n",
       "    }\n",
       "\n",
       "    .dataframe thead th {\n",
       "        text-align: right;\n",
       "    }\n",
       "</style>\n",
       "<table border=\"1\" class=\"dataframe\">\n",
       "  <thead>\n",
       "    <tr style=\"text-align: right;\">\n",
       "      <th></th>\n",
       "      <th>Tables_in_sakila</th>\n",
       "    </tr>\n",
       "  </thead>\n",
       "  <tbody>\n",
       "    <tr>\n",
       "      <th>0</th>\n",
       "      <td>actor</td>\n",
       "    </tr>\n",
       "    <tr>\n",
       "      <th>1</th>\n",
       "      <td>actor_info</td>\n",
       "    </tr>\n",
       "    <tr>\n",
       "      <th>2</th>\n",
       "      <td>address</td>\n",
       "    </tr>\n",
       "    <tr>\n",
       "      <th>3</th>\n",
       "      <td>category</td>\n",
       "    </tr>\n",
       "    <tr>\n",
       "      <th>4</th>\n",
       "      <td>city</td>\n",
       "    </tr>\n",
       "    <tr>\n",
       "      <th>5</th>\n",
       "      <td>country</td>\n",
       "    </tr>\n",
       "    <tr>\n",
       "      <th>6</th>\n",
       "      <td>customer</td>\n",
       "    </tr>\n",
       "    <tr>\n",
       "      <th>7</th>\n",
       "      <td>customer_list</td>\n",
       "    </tr>\n",
       "    <tr>\n",
       "      <th>8</th>\n",
       "      <td>film</td>\n",
       "    </tr>\n",
       "    <tr>\n",
       "      <th>9</th>\n",
       "      <td>film_actor</td>\n",
       "    </tr>\n",
       "    <tr>\n",
       "      <th>10</th>\n",
       "      <td>film_category</td>\n",
       "    </tr>\n",
       "    <tr>\n",
       "      <th>11</th>\n",
       "      <td>film_list</td>\n",
       "    </tr>\n",
       "    <tr>\n",
       "      <th>12</th>\n",
       "      <td>film_text</td>\n",
       "    </tr>\n",
       "    <tr>\n",
       "      <th>13</th>\n",
       "      <td>inventory</td>\n",
       "    </tr>\n",
       "    <tr>\n",
       "      <th>14</th>\n",
       "      <td>language</td>\n",
       "    </tr>\n",
       "    <tr>\n",
       "      <th>15</th>\n",
       "      <td>nicer_but_slower_film_list</td>\n",
       "    </tr>\n",
       "    <tr>\n",
       "      <th>16</th>\n",
       "      <td>payment</td>\n",
       "    </tr>\n",
       "    <tr>\n",
       "      <th>17</th>\n",
       "      <td>rental</td>\n",
       "    </tr>\n",
       "    <tr>\n",
       "      <th>18</th>\n",
       "      <td>sales_by_film_category</td>\n",
       "    </tr>\n",
       "    <tr>\n",
       "      <th>19</th>\n",
       "      <td>sales_by_store</td>\n",
       "    </tr>\n",
       "    <tr>\n",
       "      <th>20</th>\n",
       "      <td>staff</td>\n",
       "    </tr>\n",
       "    <tr>\n",
       "      <th>21</th>\n",
       "      <td>staff_list</td>\n",
       "    </tr>\n",
       "    <tr>\n",
       "      <th>22</th>\n",
       "      <td>store</td>\n",
       "    </tr>\n",
       "  </tbody>\n",
       "</table>\n",
       "</div>"
      ],
      "text/plain": [
       "              Tables_in_sakila\n",
       "0                        actor\n",
       "1                   actor_info\n",
       "2                      address\n",
       "3                     category\n",
       "4                         city\n",
       "5                      country\n",
       "6                     customer\n",
       "7                customer_list\n",
       "8                         film\n",
       "9                   film_actor\n",
       "10               film_category\n",
       "11                   film_list\n",
       "12                   film_text\n",
       "13                   inventory\n",
       "14                    language\n",
       "15  nicer_but_slower_film_list\n",
       "16                     payment\n",
       "17                      rental\n",
       "18      sales_by_film_category\n",
       "19              sales_by_store\n",
       "20                       staff\n",
       "21                  staff_list\n",
       "22                       store"
      ]
     },
     "execution_count": 27,
     "metadata": {},
     "output_type": "execute_result"
    }
   ],
   "source": [
    "import pandas as pd\n",
    "db_cnx = sa.create_engine(f\"mysql+pymysql://{USER}:{PASSWORD}@{HOST_AND_PORT}/{DB_NAME}\")\n",
    "\n",
    "\n",
    "db_query = '''SHOW TABLES'''\n",
    "df = pd.read_sql(db_query, db_cnx)\n",
    "df"
   ]
  },
  {
   "cell_type": "markdown",
   "id": "0a0ed7b6-566c-4a91-9045-f2d891870cc3",
   "metadata": {},
   "source": [
    "### Exercises\n",
    "\n",
    "1. Select the title, rating and rental duration from the film table\n",
    "2. Filter the above result in SQL for where `rating = 'G' AND rental_duration >= 7`\n",
    "\n",
    "\n",
    "\n",
    "> Please perform the above exercise in Python "
   ]
  },
  {
   "cell_type": "markdown",
   "id": "418e6e33-58b3-468f-9df2-a6151f05320b",
   "metadata": {},
   "source": [
    "### Exercise\n",
    "\n",
    "Please repeat the DB Query above using the `.merge` method.\n",
    "\n",
    "This means, load the two tables in and use the merge method to build your combined dataset."
   ]
  },
  {
   "cell_type": "markdown",
   "id": "94482c6c-4c85-48dd-b7c3-2c59ee2dbd89",
   "metadata": {},
   "source": [
    "# Working with Time Series Data \n",
    "\n",
    "In this lesson, we will explore working with time-series data."
   ]
  },
  {
   "cell_type": "markdown",
   "id": "4677ca7a-1970-4e24-b4b6-4c9ee566fa86",
   "metadata": {},
   "source": [
    "## Slicing Timeseries\n",
    "\n",
    "When working with timeseries data always set the datetime as index of the dataframe"
   ]
  },
  {
   "cell_type": "markdown",
   "id": "8687d1c3-313a-49fa-bb27-3be42e3c036a",
   "metadata": {},
   "source": [
    "> Because the index is a time series, we can leverage the ability to resample. A common operation\n",
    "these days is to plot rolling 7-day average data on top of daily data. The .rolling method accepts\n",
    "a moving window size, window, and like a grouping operation, you generally aggregate the result."
   ]
  },
  {
   "cell_type": "code",
   "execution_count": null,
   "id": "ef924b74-0283-40ef-81a4-62d7cb341343",
   "metadata": {},
   "outputs": [],
   "source": []
  }
 ],
 "metadata": {
  "kernelspec": {
   "display_name": "Python 3",
   "language": "python",
   "name": "python3"
  },
  "language_info": {
   "codemirror_mode": {
    "name": "ipython",
    "version": 3
   },
   "file_extension": ".py",
   "mimetype": "text/x-python",
   "name": "python",
   "nbconvert_exporter": "python",
   "pygments_lexer": "ipython3",
   "version": "3.12.0"
  }
 },
 "nbformat": 4,
 "nbformat_minor": 5
}
