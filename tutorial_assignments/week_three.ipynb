{
 "cells": [
  {
   "cell_type": "code",
   "execution_count": 2,
   "metadata": {},
   "outputs": [
    {
     "name": "stdout",
     "output_type": "stream",
     "text": [
      "Ghana\n",
      "Togo\n",
      "Germany\n"
     ]
    }
   ],
   "source": [
    "#Write a Python program to create a list of your favorite countries and then print each country on a new line.\n",
    "\n",
    "country = [\"Ghana\", \"Togo\", \"Germany\"]\n",
    "\n",
    "for i in country:\n",
    "    print(i)\n"
   ]
  },
  {
   "cell_type": "code",
   "execution_count": 23,
   "metadata": {},
   "outputs": [
    {
     "name": "stdout",
     "output_type": "stream",
     "text": [
      "{2, 3, 4, 5, 6, 7, 9}\n"
     ]
    }
   ],
   "source": [
    "#Write a Python program that removes duplicates from the list of numbers provided below and prints a new list with unique elements. \n",
    "# Include comments to explain each\n",
    "\n",
    "my_list = [2,4,5,6,6,6,2,3,4,5,7,9]\n",
    "\n",
    "new_list = set(my_list)\n",
    "print(new_list)"
   ]
  },
  {
   "cell_type": "code",
   "execution_count": 32,
   "metadata": {},
   "outputs": [
    {
     "name": "stdout",
     "output_type": "stream",
     "text": [
      "Typescript is in the set\n"
     ]
    }
   ],
   "source": [
    "#Write a Python program that adds \"TypeScript\" to the set below, and then checks to confirm \n",
    "# if \"TypeScript\" is in the set.\n",
    "\n",
    "lang = {\"C\", \"Java\",\"Python\"}\n",
    "\n",
    "new_lang = \"Typescript\"\n",
    "lang.add(new_lang)\n",
    "\n",
    "if new_lang in lang:\n",
    "    print(\"Typescript is in the set\")\n",
    "else:\n",
    "    print(\"Typescript is not in the set\")"
   ]
  },
  {
   "cell_type": "code",
   "execution_count": 8,
   "metadata": {},
   "outputs": [],
   "source": [
    "#Write a Python function that asks the user to enter their name and prints a greeting message \n",
    "# including their name when the function is called. For example, if the user enters \"Team\", the program should \n",
    "# print \"*Hello, Team!*\".\n",
    "\n",
    "def greet():\n",
    "    name = input(\"Enter your name: \")\n",
    "    print(\"hello\", name)"
   ]
  },
  {
   "cell_type": "code",
   "execution_count": 9,
   "metadata": {},
   "outputs": [
    {
     "name": "stdout",
     "output_type": "stream",
     "text": [
      "hello Team\n"
     ]
    }
   ],
   "source": [
    "greet()"
   ]
  },
  {
   "cell_type": "code",
   "execution_count": 10,
   "metadata": {},
   "outputs": [],
   "source": [
    "#Create a function that asks the user for two numbers, adds them together, and prints the result. \n",
    "# Ensure the program handles the case where the user does not enter a valid number.\n",
    "\n",
    "def add():\n",
    "    num1 = int(input(\"Enter the first number: \"))\n",
    "    num2 = int(input(\"Enter the second number: \"))\n",
    "    return num1 + num2"
   ]
  },
  {
   "cell_type": "code",
   "execution_count": 11,
   "metadata": {},
   "outputs": [
    {
     "data": {
      "text/plain": [
       "7"
      ]
     },
     "execution_count": 11,
     "metadata": {},
     "output_type": "execute_result"
    }
   ],
   "source": [
    "add()"
   ]
  },
  {
   "cell_type": "code",
   "execution_count": null,
   "metadata": {},
   "outputs": [],
   "source": []
  }
 ],
 "metadata": {
  "kernelspec": {
   "display_name": "Python 3",
   "language": "python",
   "name": "python3"
  },
  "language_info": {
   "codemirror_mode": {
    "name": "ipython",
    "version": 3
   },
   "file_extension": ".py",
   "mimetype": "text/x-python",
   "name": "python",
   "nbconvert_exporter": "python",
   "pygments_lexer": "ipython3",
   "version": "3.12.0"
  }
 },
 "nbformat": 4,
 "nbformat_minor": 2
}
