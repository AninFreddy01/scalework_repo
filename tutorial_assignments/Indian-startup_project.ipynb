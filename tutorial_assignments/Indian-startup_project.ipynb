{
 "cells": [
  {
   "cell_type": "markdown",
   "metadata": {},
   "source": [
    "## Title: Indian Startup Funding Analysis"
   ]
  },
  {
   "cell_type": "markdown",
   "metadata": {},
   "source": [
    "## Business Understanding"
   ]
  },
  {
   "cell_type": "markdown",
   "metadata": {},
   "source": [
    "### Background\n",
    " A \"startup\" is typically characterized by its age, size, and funding method, though there isn't a strict definition. Generally, a startup is a young company, only a few years old, that hasn't yet achieved consistent revenue. These companies operate on a small scale, often with just a working prototype or a paid pilot, but they have the potential for rapid growth and expansion. Initially, they are funded by the founders' personal networks, including friends and family, and they actively seek additional financing to support their growth and establish a sustainable business.\n",
    "\n",
    "As an example, the Government of India’s Startup India program defines a “startup” as a company (PIB 2017) that is:\n",
    "\n",
    "     1. Headquartered in India with not more than ten years since incorporation or registration\n",
    "\n",
    "     2. Having an annual turnover of less than INR 1 billion (roughly $14 million) (Startup India 2019)\n",
    "\n",
    "`Available:` [ADBI Working Paper Series](https://www.adb.org/publications/startup-environment-and-funding-activity-india)\n",
    "\n",
    "### Scenario\n",
    "Your team is trying to venture into the Indian start-up ecosystem. As the data expert of the team, you are to investigate the ecosystem and propose the best course of action. \n",
    "\n",
    "\n",
    "## Business Objective:\n",
    "The goal of this project is to investigate the Indian Startup Ecosystem to better understand and provide valuable insight into the opportunities and challenges in the ecosystem to help stakeholders who plan on venturing into the startup ecosystem in India to make informed decisions based on findings from analyzing the dataset from 2018 to 2021."
   ]
  },
  {
   "cell_type": "markdown",
   "metadata": {},
   "source": [
    "<h3>Hypothesis</h3>"
   ]
  },
  {
   "cell_type": "markdown",
   "metadata": {},
   "source": [
    "<h3> Business Questions</h3>"
   ]
  },
  {
   "cell_type": "markdown",
   "metadata": {},
   "source": [
    "## Step 2: Data Understanding\n",
    "\n",
    "`Data Collection`\n",
    "\n",
    "To effectively analyze the Indian start-up ecosystem from 2018 to 2021, comprehensive data collection is crucial. The data will be sourced from multiple datasets that detail startup funding activities within this period. Each dataset will encompass various aspects essential for a holistic understanding of the funding landscape. Specifically, the datasets will include:\n",
    "\n",
    "**A. Start-up Details:**\n",
    "\n",
    "-   Company/Brand: Name of the company/start-up\n",
    "\n",
    "-   Founded: Year start-up was founded\n",
    "\n",
    "-   Headquarters/Location: The geographical location of the start-up, including city and region.\n",
    "\n",
    "-   Sector/Industry: The industry or sector in which the start-up operates, such as health tech, fintech, etc.\n",
    "\n",
    "-   What it does/About Company: Description about the Company\n",
    "\n",
    "-   Founders: Founders of the Company\n",
    "\n",
    "**B. Funding Information:**\n",
    "\n",
    "-   Amount: The total amount of funding received by the start-up in each funding round.\n",
    "\n",
    "-   Stage/Round: Details of the funding stages such as seed, series A, series B, etc.\n",
    "\n",
    "**C. Investors' Information:**\n",
    "\n",
    "-   Investors: The names of the investors or investment firms involved.\n",
    "\n",
    "`Data Quality Considerations`\n",
    "\n",
    "Ensuring high data quality is paramount for reliable analysis and actionable insights. Key considerations for maintaining data quality include:\n",
    "\n",
    "**A. Completeness:**\n",
    "\n",
    "Ensure that all necessary fields are filled in across the datasets. This includes making sure that no critical information is missing for any of the start-ups, funding rounds, or investors.\n",
    "\n",
    "**B. Consistency:**\n",
    "\n",
    "Handle any inconsistencies in data entries. This may involve standardizing entries for sectors, locations, and investor names to ensure uniformity. For example, variations in how sectors are labeled (e.g., \"Healthtech\" vs. \"Health Technology\") should be standardized to a single format.\n",
    "\n",
    "**C. Handling Missing Data:**\n",
    "\n",
    "Identify and address missing data points. Techniques such as imputation, where appropriate, or excluding certain records if the missing data is minimal and does not impact overall analysis, will be employed."
   ]
  },
  {
   "cell_type": "code",
   "execution_count": 1,
   "metadata": {},
   "outputs": [
    {
     "name": "stdout",
     "output_type": "stream",
     "text": [
      "Note: you may need to restart the kernel to use updated packages.\n"
     ]
    },
    {
     "name": "stderr",
     "output_type": "stream",
     "text": [
      "ERROR: Could not find a version that satisfies the requirement pyodbt (from versions: none)\n",
      "ERROR: No matching distribution found for pyodbt\n",
      "\n",
      "[notice] A new release of pip is available: 24.1.1 -> 24.2\n",
      "[notice] To update, run: python.exe -m pip install --upgrade pip\n"
     ]
    }
   ],
   "source": [
    "%pip install pyodbt"
   ]
  },
  {
   "cell_type": "code",
   "execution_count": 14,
   "metadata": {},
   "outputs": [
    {
     "name": "stdout",
     "output_type": "stream",
     "text": [
      "Requirement already satisfied: sqlalchemy in c:\\users\\owner\\appdata\\local\\programs\\python\\python312\\lib\\site-packages (2.0.36)\n",
      "Collecting pyodbc\n",
      "  Downloading pyodbc-5.2.0-cp312-cp312-win_amd64.whl.metadata (2.8 kB)\n",
      "Requirement already satisfied: typing-extensions>=4.6.0 in c:\\users\\owner\\appdata\\local\\programs\\python\\python312\\lib\\site-packages (from sqlalchemy) (4.12.2)\n",
      "Requirement already satisfied: greenlet!=0.4.17 in c:\\users\\owner\\appdata\\local\\programs\\python\\python312\\lib\\site-packages (from sqlalchemy) (3.1.1)\n",
      "Downloading pyodbc-5.2.0-cp312-cp312-win_amd64.whl (69 kB)\n",
      "   ---------------------------------------- 0.0/69.5 kB ? eta -:--:--\n",
      "   ----------------- ---------------------- 30.7/69.5 kB ? eta -:--:--\n",
      "   ---------------------------------------- 69.5/69.5 kB 940.4 kB/s eta 0:00:00\n",
      "Installing collected packages: pyodbc\n",
      "Successfully installed pyodbc-5.2.0\n",
      "Note: you may need to restart the kernel to use updated packages.\n"
     ]
    },
    {
     "name": "stderr",
     "output_type": "stream",
     "text": [
      "\n",
      "[notice] A new release of pip is available: 24.1.1 -> 24.2\n",
      "[notice] To update, run: python.exe -m pip install --upgrade pip\n"
     ]
    }
   ],
   "source": [
    "%pip install sqlalchemy pyodbc"
   ]
  },
  {
   "cell_type": "code",
   "execution_count": 16,
   "metadata": {},
   "outputs": [],
   "source": [
    "import warnings\n",
    "import pandas as pd\n",
    "warnings.filterwarnings(\"ignore\")\n",
    "\n",
    "#set display\n",
    "pd.set_option(\"display.max_rows\", None)\n",
    "pd.set_option(\"display.max_columns\", 11)"
   ]
  },
  {
   "cell_type": "code",
   "execution_count": 17,
   "metadata": {},
   "outputs": [],
   "source": [
    "from sqlalchemy import create_engine, text, inspect"
   ]
  },
  {
   "cell_type": "code",
   "execution_count": 18,
   "metadata": {},
   "outputs": [],
   "source": [
    "host=\"dap-projects-database.database.windows.net\";\n",
    "database_name=\"dapDB\";\n",
    "username=\"LP1_learner\";\n",
    "password=\"Hyp0th3s!$T3$t!ng\";"
   ]
  },
  {
   "cell_type": "code",
   "execution_count": 21,
   "metadata": {},
   "outputs": [],
   "source": [
    "conn_string = f\"mssql+pyodbc://{username}:{password}@{host}/{database_name}?driver=ODBC+Driver+18+for+SQL+Server\"\n",
    "\n",
    "\n",
    "engine = create_engine(conn_string)\n",
    "tables = inspect(engine)\n",
    "my_tables = tables.get_table_names()"
   ]
  },
  {
   "cell_type": "code",
   "execution_count": null,
   "metadata": {},
   "outputs": [],
   "source": []
  },
  {
   "cell_type": "code",
   "execution_count": null,
   "metadata": {},
   "outputs": [],
   "source": []
  }
 ],
 "metadata": {
  "kernelspec": {
   "display_name": "Python 3",
   "language": "python",
   "name": "python3"
  },
  "language_info": {
   "codemirror_mode": {
    "name": "ipython",
    "version": 3
   },
   "file_extension": ".py",
   "mimetype": "text/x-python",
   "name": "python",
   "nbconvert_exporter": "python",
   "pygments_lexer": "ipython3",
   "version": "3.12.0"
  }
 },
 "nbformat": 4,
 "nbformat_minor": 2
}
