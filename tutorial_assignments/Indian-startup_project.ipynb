{
 "cells": [
  {
   "cell_type": "markdown",
   "metadata": {},
   "source": [
    "## Title: Indian Startup Funding Analysis"
   ]
  },
  {
   "cell_type": "markdown",
   "metadata": {},
   "source": [
    "## Business Understanding"
   ]
  },
  {
   "cell_type": "markdown",
   "metadata": {},
   "source": [
    "### Background\n",
    " A \"startup\" is typically characterized by its age, size, and funding method, though there isn't a strict definition. Generally, a startup is a young company, only a few years old, that hasn't yet achieved consistent revenue. These companies operate on a small scale, often with just a working prototype or a paid pilot, but they have the potential for rapid growth and expansion. Initially, they are funded by the founders' personal networks, including friends and family, and they actively seek additional financing to support their growth and establish a sustainable business.\n",
    "\n",
    "As an example, the Government of India’s Startup India program defines a “startup” as a company (PIB 2017) that is:\n",
    "\n",
    "     1. Headquartered in India with not more than ten years since incorporation or registration\n",
    "\n",
    "     2. Having an annual turnover of less than INR 1 billion (roughly $14 million) (Startup India 2019)\n",
    "\n",
    "`Available:` [ADBI Working Paper Series](https://www.adb.org/publications/startup-environment-and-funding-activity-india)\n",
    "\n",
    "### Scenario\n",
    "Your team is trying to venture into the Indian start-up ecosystem. As the data expert of the team, you are to investigate the ecosystem and propose the best course of action. \n",
    "\n",
    "\n",
    "## Business Objective:\n",
    "The goal of this project is to investigate the Indian Startup Ecosystem to better understand and provide valuable insight into the opportunities and challenges in the ecosystem to help stakeholders who plan on venturing into the startup ecosystem in India to make informed decisions based on findings from analyzing the dataset from 2018 to 2021."
   ]
  },
  {
   "cell_type": "markdown",
   "metadata": {},
   "source": [
    "<h3>Hypothesis</h3>"
   ]
  },
  {
   "cell_type": "markdown",
   "metadata": {},
   "source": [
    "<h3> Business Questions</h3>"
   ]
  },
  {
   "cell_type": "markdown",
   "metadata": {},
   "source": [
    "## Step 2: Data Understanding\n",
    "\n",
    "`Data Collection`\n",
    "\n",
    "To effectively analyze the Indian start-up ecosystem from 2018 to 2021, comprehensive data collection is crucial. The data will be sourced from multiple datasets that detail startup funding activities within this period. Each dataset will encompass various aspects essential for a holistic understanding of the funding landscape. Specifically, the datasets will include:\n",
    "\n",
    "**A. Start-up Details:**\n",
    "\n",
    "-   Company/Brand: Name of the company/start-up\n",
    "\n",
    "-   Founded: Year start-up was founded\n",
    "\n",
    "-   Headquarters/Location: The geographical location of the start-up, including city and region.\n",
    "\n",
    "-   Sector/Industry: The industry or sector in which the start-up operates, such as health tech, fintech, etc.\n",
    "\n",
    "-   What it does/About Company: Description about the Company\n",
    "\n",
    "-   Founders: Founders of the Company\n",
    "\n",
    "**B. Funding Information:**\n",
    "\n",
    "-   Amount: The total amount of funding received by the start-up in each funding round.\n",
    "\n",
    "-   Stage/Round: Details of the funding stages such as seed, series A, series B, etc.\n",
    "\n",
    "**C. Investors' Information:**\n",
    "\n",
    "-   Investors: The names of the investors or investment firms involved.\n",
    "\n",
    "`Data Quality Considerations`\n",
    "\n",
    "Ensuring high data quality is paramount for reliable analysis and actionable insights. Key considerations for maintaining data quality include:\n",
    "\n",
    "**A. Completeness:**\n",
    "\n",
    "Ensure that all necessary fields are filled in across the datasets. This includes making sure that no critical information is missing for any of the start-ups, funding rounds, or investors.\n",
    "\n",
    "**B. Consistency:**\n",
    "\n",
    "Handle any inconsistencies in data entries. This may involve standardizing entries for sectors, locations, and investor names to ensure uniformity. For example, variations in how sectors are labeled (e.g., \"Healthtech\" vs. \"Health Technology\") should be standardized to a single format.\n",
    "\n",
    "**C. Handling Missing Data:**\n",
    "\n",
    "Identify and address missing data points. Techniques such as imputation, where appropriate, or excluding certain records if the missing data is minimal and does not impact overall analysis, will be employed."
   ]
  }
 ],
 "metadata": {
  "language_info": {
   "name": "python"
  }
 },
 "nbformat": 4,
 "nbformat_minor": 2
}
