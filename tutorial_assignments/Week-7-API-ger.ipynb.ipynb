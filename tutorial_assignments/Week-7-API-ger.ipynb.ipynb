{
 "cells": [
  {
   "cell_type": "markdown",
   "id": "fb3408ef-edd0-4ce6-be3c-60765f027462",
   "metadata": {},
   "source": [
    "# Working with Application Programming Interfaces (APIs)\n"
   ]
  },
  {
   "cell_type": "markdown",
   "id": "473f40f7-be75-4068-8614-cc3439760493",
   "metadata": {},
   "source": [
    "\n",
    "\n",
    "## What is an API?\n",
    "Application Programming Interfaces (APIs) are constructs made available in programming languages to allow developers to create complex functionality more easily. They abstract more complex code away from you, providing some easier syntax to use in its place.\n",
    "\n",
    "## How do APIs Work?\n",
    "Knowing how to consume an API is one of those magical skills that, once mastered, will crack open a whole new world of possibilities, and consuming APIs using Python is a great way to learn such a skill.\n",
    "\n",
    "A lot of apps and systems that you use on a daily basis are connected to an API. From very simple and mundane tasks, like checking the weather in the morning, to more addictive and time-consuming actions, such as scrolling through your Instagram, TikTok, or Twitter feed, APIs play a central rol/)\n"
   ]
  },
  {
   "cell_type": "markdown",
   "id": "7a925bb2-2c47-4461-9491-d78b50b2f382",
   "metadata": {},
   "source": [
    "## Working with Free APIs\n",
    "\n",
    "You usually make a request for information or data, and the API returns a response with what you requested. For example, every time you open Twitter or scroll down your Instagram feed, you’re basically making a `request` to the API behind that app and getting a `response` in return. This is also known as `calling` an API.\n",
    "\n",
    "\n",
    "- Sample Weather API - [Weather API](https://openweathermap.org/)\n",
    "- Random User Generator - [Random-User-API](https://random-data-api.com/api/v2/users?size=20&is_json=true)\n",
    "\n",
    "\n"
   ]
  },
  {
   "cell_type": "code",
   "execution_count": 6,
   "id": "185ed01e-c2ba-46e6-a84b-d2ab89b0d632",
   "metadata": {},
   "outputs": [
    {
     "name": "stdout",
     "output_type": "stream",
     "text": [
      "Requirement already satisfied: requests in c:\\users\\owner\\appdata\\local\\programs\\python\\python312\\lib\\site-packages (2.32.3)\n",
      "Requirement already satisfied: charset-normalizer<4,>=2 in c:\\users\\owner\\appdata\\local\\programs\\python\\python312\\lib\\site-packages (from requests) (3.3.2)\n",
      "Requirement already satisfied: idna<4,>=2.5 in c:\\users\\owner\\appdata\\local\\programs\\python\\python312\\lib\\site-packages (from requests) (3.7)\n",
      "Requirement already satisfied: urllib3<3,>=1.21.1 in c:\\users\\owner\\appdata\\local\\programs\\python\\python312\\lib\\site-packages (from requests) (2.2.2)\n",
      "Requirement already satisfied: certifi>=2017.4.17 in c:\\users\\owner\\appdata\\local\\programs\\python\\python312\\lib\\site-packages (from requests) (2024.6.2)\n",
      "Note: you may need to restart the kernel to use updated packages.\n"
     ]
    },
    {
     "name": "stderr",
     "output_type": "stream",
     "text": [
      "\n",
      "[notice] A new release of pip is available: 24.1.1 -> 24.2\n",
      "[notice] To update, run: python.exe -m pip install --upgrade pip\n"
     ]
    }
   ],
   "source": [
    "# intsalling the requests library\n",
    "\n",
    "%pip install requests"
   ]
  },
  {
   "cell_type": "code",
   "execution_count": 11,
   "id": "a9fdd6b7-864d-465a-a740-2793ded957a8",
   "metadata": {},
   "outputs": [
    {
     "data": {
      "text/plain": [
       "'{\"coord\":{\"lon\":-0.2012,\"lat\":5.5571},\"weather\":[{\"id\":211,\"main\":\"Thunderstorm\",\"description\":\"thunderstorm\",\"icon\":\"11d\"}],\"base\":\"stations\",\"main\":{\"temp\":299.34,\"feels_like\":299.34,\"temp_min\":299.34,\"temp_max\":299.34,\"pressure\":1013,\"humidity\":89,\"sea_level\":1013,\"grnd_level\":1010},\"visibility\":10000,\"wind\":{\"speed\":3.09,\"deg\":250},\"clouds\":{\"all\":20},\"dt\":1729668900,\"sys\":{\"type\":1,\"id\":1126,\"country\":\"GH\",\"sunrise\":1729662365,\"sunset\":1729705427},\"timezone\":0,\"id\":2306104,\"name\":\"Accra\",\"cod\":200}'"
      ]
     },
     "execution_count": 11,
     "metadata": {},
     "output_type": "execute_result"
    }
   ],
   "source": [
    "# https://api.frankfurter.app/2020-01-01..2023-08-\n",
    "\n",
    "import requests\n",
    "import pandas as pd\n",
    "\n",
    "url = \"https://api.openweathermap.org/data/2.5/weather?lat=5.556&lon=-0.1969&appid=c7fe49970e5ff83d2fefdb9638afd749\"\n",
    "\n",
    "response = requests.get(url)"
   ]
  },
  {
   "cell_type": "code",
   "execution_count": 14,
   "id": "521b4128-9f36-4f5b-971a-7601ae00ff5a",
   "metadata": {
    "tags": []
   },
   "outputs": [
    {
     "data": {
      "text/plain": [
       "'{\"coord\":{\"lon\":-0.2012,\"lat\":5.5571},\"weather\":[{\"id\":211,\"main\":\"Thunderstorm\",\"description\":\"thunderstorm\",\"icon\":\"11d\"}],\"base\":\"stations\",\"main\":{\"temp\":299.34,\"feels_like\":299.34,\"temp_min\":299.34,\"temp_max\":299.34,\"pressure\":1013,\"humidity\":89,\"sea_level\":1013,\"grnd_level\":1010},\"visibility\":10000,\"wind\":{\"speed\":3.09,\"deg\":250},\"clouds\":{\"all\":20},\"dt\":1729668900,\"sys\":{\"type\":1,\"id\":1126,\"country\":\"GH\",\"sunrise\":1729662365,\"sunset\":1729705427},\"timezone\":0,\"id\":2306104,\"name\":\"Accra\",\"cod\":200}'"
      ]
     },
     "execution_count": 14,
     "metadata": {},
     "output_type": "execute_result"
    }
   ],
   "source": [
    "# preview the response\n",
    "response.text"
   ]
  },
  {
   "cell_type": "code",
   "execution_count": 15,
   "id": "1fd11162-c9c1-42a4-810f-f92fde556d6a",
   "metadata": {
    "tags": []
   },
   "outputs": [
    {
     "data": {
      "text/plain": [
       "{'coord': {'lon': -0.2012, 'lat': 5.5571},\n",
       " 'weather': [{'id': 211,\n",
       "   'main': 'Thunderstorm',\n",
       "   'description': 'thunderstorm',\n",
       "   'icon': '11d'}],\n",
       " 'base': 'stations',\n",
       " 'main': {'temp': 299.34,\n",
       "  'feels_like': 299.34,\n",
       "  'temp_min': 299.34,\n",
       "  'temp_max': 299.34,\n",
       "  'pressure': 1013,\n",
       "  'humidity': 89,\n",
       "  'sea_level': 1013,\n",
       "  'grnd_level': 1010},\n",
       " 'visibility': 10000,\n",
       " 'wind': {'speed': 3.09, 'deg': 250},\n",
       " 'clouds': {'all': 20},\n",
       " 'dt': 1729668900,\n",
       " 'sys': {'type': 1,\n",
       "  'id': 1126,\n",
       "  'country': 'GH',\n",
       "  'sunrise': 1729662365,\n",
       "  'sunset': 1729705427},\n",
       " 'timezone': 0,\n",
       " 'id': 2306104,\n",
       " 'name': 'Accra',\n",
       " 'cod': 200}"
      ]
     },
     "execution_count": 15,
     "metadata": {},
     "output_type": "execute_result"
    }
   ],
   "source": [
    "# Convert the text response to a dictionary [also known as json]\n",
    "response_dict = response.json()\n",
    "response_dict"
   ]
  },
  {
   "cell_type": "code",
   "execution_count": 18,
   "id": "495d9128",
   "metadata": {},
   "outputs": [
    {
     "data": {
      "text/html": [
       "<div>\n",
       "<style scoped>\n",
       "    .dataframe tbody tr th:only-of-type {\n",
       "        vertical-align: middle;\n",
       "    }\n",
       "\n",
       "    .dataframe tbody tr th {\n",
       "        vertical-align: top;\n",
       "    }\n",
       "\n",
       "    .dataframe thead th {\n",
       "        text-align: right;\n",
       "    }\n",
       "</style>\n",
       "<table border=\"1\" class=\"dataframe\">\n",
       "  <thead>\n",
       "    <tr style=\"text-align: right;\">\n",
       "      <th></th>\n",
       "      <th>weather</th>\n",
       "      <th>base</th>\n",
       "      <th>visibility</th>\n",
       "      <th>dt</th>\n",
       "      <th>timezone</th>\n",
       "      <th>id</th>\n",
       "      <th>name</th>\n",
       "      <th>cod</th>\n",
       "      <th>coord.lon</th>\n",
       "      <th>coord.lat</th>\n",
       "      <th>...</th>\n",
       "      <th>main.sea_level</th>\n",
       "      <th>main.grnd_level</th>\n",
       "      <th>wind.speed</th>\n",
       "      <th>wind.deg</th>\n",
       "      <th>clouds.all</th>\n",
       "      <th>sys.type</th>\n",
       "      <th>sys.id</th>\n",
       "      <th>sys.country</th>\n",
       "      <th>sys.sunrise</th>\n",
       "      <th>sys.sunset</th>\n",
       "    </tr>\n",
       "  </thead>\n",
       "  <tbody>\n",
       "    <tr>\n",
       "      <th>0</th>\n",
       "      <td>[{'id': 211, 'main': 'Thunderstorm', 'descript...</td>\n",
       "      <td>stations</td>\n",
       "      <td>10000</td>\n",
       "      <td>1729668900</td>\n",
       "      <td>0</td>\n",
       "      <td>2306104</td>\n",
       "      <td>Accra</td>\n",
       "      <td>200</td>\n",
       "      <td>-0.2012</td>\n",
       "      <td>5.5571</td>\n",
       "      <td>...</td>\n",
       "      <td>1013</td>\n",
       "      <td>1010</td>\n",
       "      <td>3.09</td>\n",
       "      <td>250</td>\n",
       "      <td>20</td>\n",
       "      <td>1</td>\n",
       "      <td>1126</td>\n",
       "      <td>GH</td>\n",
       "      <td>1729662365</td>\n",
       "      <td>1729705427</td>\n",
       "    </tr>\n",
       "  </tbody>\n",
       "</table>\n",
       "<p>1 rows × 26 columns</p>\n",
       "</div>"
      ],
      "text/plain": [
       "                                             weather      base  visibility  \\\n",
       "0  [{'id': 211, 'main': 'Thunderstorm', 'descript...  stations       10000   \n",
       "\n",
       "           dt  timezone       id   name  cod  coord.lon  coord.lat  ...  \\\n",
       "0  1729668900         0  2306104  Accra  200    -0.2012     5.5571  ...   \n",
       "\n",
       "   main.sea_level  main.grnd_level  wind.speed  wind.deg  clouds.all  \\\n",
       "0            1013             1010        3.09       250          20   \n",
       "\n",
       "   sys.type  sys.id  sys.country  sys.sunrise  sys.sunset  \n",
       "0         1    1126           GH   1729662365  1729705427  \n",
       "\n",
       "[1 rows x 26 columns]"
      ]
     },
     "execution_count": 18,
     "metadata": {},
     "output_type": "execute_result"
    }
   ],
   "source": [
    "df = pd.json_normalize(response_dict)\n",
    "df"
   ]
  },
  {
   "cell_type": "code",
   "execution_count": 19,
   "id": "83ca54f2",
   "metadata": {},
   "outputs": [
    {
     "data": {
      "text/html": [
       "<div>\n",
       "<style scoped>\n",
       "    .dataframe tbody tr th:only-of-type {\n",
       "        vertical-align: middle;\n",
       "    }\n",
       "\n",
       "    .dataframe tbody tr th {\n",
       "        vertical-align: top;\n",
       "    }\n",
       "\n",
       "    .dataframe thead th {\n",
       "        text-align: right;\n",
       "    }\n",
       "</style>\n",
       "<table border=\"1\" class=\"dataframe\">\n",
       "  <thead>\n",
       "    <tr style=\"text-align: right;\">\n",
       "      <th></th>\n",
       "      <th>0</th>\n",
       "    </tr>\n",
       "  </thead>\n",
       "  <tbody>\n",
       "    <tr>\n",
       "      <th>0</th>\n",
       "      <td>{'id': 211, 'main': 'Thunderstorm', 'descripti...</td>\n",
       "    </tr>\n",
       "  </tbody>\n",
       "</table>\n",
       "</div>"
      ],
      "text/plain": [
       "                                                   0\n",
       "0  {'id': 211, 'main': 'Thunderstorm', 'descripti..."
      ]
     },
     "execution_count": 19,
     "metadata": {},
     "output_type": "execute_result"
    }
   ],
   "source": [
    "weather_df = pd.json_normalize(df[\"weather\"])\n",
    "weather_df"
   ]
  },
  {
   "cell_type": "markdown",
   "id": "6d2e854f-3258-401a-a9e6-ddc8be876233",
   "metadata": {},
   "source": [
    "## EDA"
   ]
  },
  {
   "cell_type": "markdown",
   "id": "72ff422c-8bd9-4716-a1b9-5a61a8c1a22d",
   "metadata": {},
   "source": [
    "## 1.  How has the exchange rate of the Euro (EUR) against the US Dollar (USD) changed over time?\n",
    "\n",
    "### Visualization: A line chart showing the exchange rate for EUR to USD"
   ]
  },
  {
   "cell_type": "markdown",
   "id": "05e915fd-1155-4013-a726-653f6c7fa8be",
   "metadata": {},
   "source": [
    "## 2.  Is there a correlation between the exchange rates of the Canadian Dollar (CAD) and the American Dollar (USD)?\n",
    "\n",
    "### Visualization: Scatter plot with CAD to USD and data points representing the exchange rates."
   ]
  },
  {
   "cell_type": "markdown",
   "id": "e5c84278-981d-4d32-96e3-40b729eea3a7",
   "metadata": {},
   "source": [
    "From the diagram, one can say that they are positively correated"
   ]
  },
  {
   "cell_type": "markdown",
   "id": "c3bdf0c6-4354-428a-b1b1-79127ac0c19b",
   "metadata": {},
   "source": [
    "### Exercise\n",
    "\n",
    "- Please use the Weather API, register for the key and grab data from the API based on your location.\n",
    "- Please transform this data into a DataFrame and perform an EDA on your dataset."
   ]
  }
 ],
 "metadata": {
  "kernelspec": {
   "display_name": "Python 3",
   "language": "python",
   "name": "python3"
  },
  "language_info": {
   "codemirror_mode": {
    "name": "ipython",
    "version": 3
   },
   "file_extension": ".py",
   "mimetype": "text/x-python",
   "name": "python",
   "nbconvert_exporter": "python",
   "pygments_lexer": "ipython3",
   "version": "3.12.0"
  }
 },
 "nbformat": 4,
 "nbformat_minor": 5
}
