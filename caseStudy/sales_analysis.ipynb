{
 "cells": [
  {
   "cell_type": "markdown",
   "metadata": {},
   "source": [
    "You have been given a dataset containing information about sales transactions for the month of September and October. Your task is to perform data analysis to answer the following questions and provide insights to improve business decisions.\n",
    "\n",
    "\n",
    "\n",
    "1. What is the total sales for each month?\n",
    "2. What is the average daily sales for each month?\n",
    "3. What Region generated the highest sales?\n",
    "4. Which product category had the lowest impact?\n",
    "5. Identify the top selling products\n",
    "6. Based on your analysis what recommendation would to give to improve sales in November.\n",
    "Sales.csv"
   ]
  },
  {
   "cell_type": "code",
   "execution_count": 1,
   "metadata": {},
   "outputs": [
    {
     "name": "stdout",
     "output_type": "stream",
     "text": [
      "Requirement already satisfied: pandas in c:\\users\\owner\\appdata\\local\\programs\\python\\python312\\lib\\site-packages (2.2.0)\n",
      "Requirement already satisfied: numpy<2,>=1.26.0 in c:\\users\\owner\\appdata\\local\\programs\\python\\python312\\lib\\site-packages (from pandas) (1.26.4)\n",
      "Requirement already satisfied: python-dateutil>=2.8.2 in c:\\users\\owner\\appdata\\local\\programs\\python\\python312\\lib\\site-packages (from pandas) (2.8.2)\n",
      "Requirement already satisfied: pytz>=2020.1 in c:\\users\\owner\\appdata\\local\\programs\\python\\python312\\lib\\site-packages (from pandas) (2024.1)\n",
      "Requirement already satisfied: tzdata>=2022.7 in c:\\users\\owner\\appdata\\local\\programs\\python\\python312\\lib\\site-packages (from pandas) (2024.1)\n",
      "Requirement already satisfied: six>=1.5 in c:\\users\\owner\\appdata\\local\\programs\\python\\python312\\lib\\site-packages (from python-dateutil>=2.8.2->pandas) (1.16.0)\n",
      "Note: you may need to restart the kernel to use updated packages.\n"
     ]
    },
    {
     "name": "stderr",
     "output_type": "stream",
     "text": [
      "\n",
      "[notice] A new release of pip is available: 24.1.1 -> 24.2\n",
      "[notice] To update, run: python.exe -m pip install --upgrade pip\n"
     ]
    }
   ],
   "source": [
    "%pip install pandas"
   ]
  },
  {
   "cell_type": "code",
   "execution_count": 5,
   "metadata": {},
   "outputs": [],
   "source": [
    "import pandas as pd\n",
    "\n",
    "sales_df = pd.read_csv(\"data/sales_week5.csv\")"
   ]
  },
  {
   "cell_type": "code",
   "execution_count": 6,
   "metadata": {},
   "outputs": [
    {
     "data": {
      "text/html": [
       "<div>\n",
       "<style scoped>\n",
       "    .dataframe tbody tr th:only-of-type {\n",
       "        vertical-align: middle;\n",
       "    }\n",
       "\n",
       "    .dataframe tbody tr th {\n",
       "        vertical-align: top;\n",
       "    }\n",
       "\n",
       "    .dataframe thead th {\n",
       "        text-align: right;\n",
       "    }\n",
       "</style>\n",
       "<table border=\"1\" class=\"dataframe\">\n",
       "  <thead>\n",
       "    <tr style=\"text-align: right;\">\n",
       "      <th></th>\n",
       "      <th>Date</th>\n",
       "      <th>Region</th>\n",
       "      <th>Category</th>\n",
       "      <th>Sales($)</th>\n",
       "      <th>ProductID</th>\n",
       "    </tr>\n",
       "  </thead>\n",
       "  <tbody>\n",
       "    <tr>\n",
       "      <th>0</th>\n",
       "      <td>01/09/2023</td>\n",
       "      <td>East</td>\n",
       "      <td>Electronics</td>\n",
       "      <td>1200.50</td>\n",
       "      <td>E1234</td>\n",
       "    </tr>\n",
       "    <tr>\n",
       "      <th>1</th>\n",
       "      <td>02/09/2023</td>\n",
       "      <td>West</td>\n",
       "      <td>Apparel</td>\n",
       "      <td>350.75</td>\n",
       "      <td>A4567</td>\n",
       "    </tr>\n",
       "    <tr>\n",
       "      <th>2</th>\n",
       "      <td>03/09/2023</td>\n",
       "      <td>North</td>\n",
       "      <td>Furniture</td>\n",
       "      <td>890.20</td>\n",
       "      <td>F7890</td>\n",
       "    </tr>\n",
       "    <tr>\n",
       "      <th>3</th>\n",
       "      <td>04/09/2023</td>\n",
       "      <td>South</td>\n",
       "      <td>Electronics</td>\n",
       "      <td>550.40</td>\n",
       "      <td>E2345</td>\n",
       "    </tr>\n",
       "    <tr>\n",
       "      <th>4</th>\n",
       "      <td>05/09/2023</td>\n",
       "      <td>East</td>\n",
       "      <td>Appliances</td>\n",
       "      <td>420.60</td>\n",
       "      <td>A6789</td>\n",
       "    </tr>\n",
       "  </tbody>\n",
       "</table>\n",
       "</div>"
      ],
      "text/plain": [
       "         Date Region     Category  Sales($) ProductID\n",
       "0  01/09/2023   East  Electronics   1200.50     E1234\n",
       "1  02/09/2023   West      Apparel    350.75     A4567\n",
       "2  03/09/2023  North    Furniture    890.20     F7890\n",
       "3  04/09/2023  South  Electronics    550.40     E2345\n",
       "4  05/09/2023   East   Appliances    420.60     A6789"
      ]
     },
     "execution_count": 6,
     "metadata": {},
     "output_type": "execute_result"
    }
   ],
   "source": [
    "sales_df.head()"
   ]
  },
  {
   "cell_type": "code",
   "execution_count": 7,
   "metadata": {},
   "outputs": [
    {
     "name": "stdout",
     "output_type": "stream",
     "text": [
      "<class 'pandas.core.frame.DataFrame'>\n",
      "RangeIndex: 61 entries, 0 to 60\n",
      "Data columns (total 5 columns):\n",
      " #   Column     Non-Null Count  Dtype  \n",
      "---  ------     --------------  -----  \n",
      " 0   Date       61 non-null     object \n",
      " 1   Region     61 non-null     object \n",
      " 2   Category   61 non-null     object \n",
      " 3   Sales($)   61 non-null     float64\n",
      " 4   ProductID  61 non-null     object \n",
      "dtypes: float64(1), object(4)\n",
      "memory usage: 2.5+ KB\n"
     ]
    }
   ],
   "source": [
    "sales_df.info()"
   ]
  },
  {
   "cell_type": "code",
   "execution_count": 16,
   "metadata": {},
   "outputs": [],
   "source": [
    "#convert Date column to DateTime data type\n",
    "\n",
    "sales_df['Date'] = pd.to_datetime(sales_df['Date'], dayfirst=True)"
   ]
  },
  {
   "cell_type": "markdown",
   "metadata": {},
   "source": [
    "### 1. What is the total sales for each month?"
   ]
  },
  {
   "cell_type": "code",
   "execution_count": 31,
   "metadata": {},
   "outputs": [],
   "source": [
    "#create a new column called Month\n",
    "sales_df['Month'] = sales_df['Date'].dt.to_period('M')"
   ]
  },
  {
   "cell_type": "code",
   "execution_count": 32,
   "metadata": {},
   "outputs": [
    {
     "data": {
      "text/plain": [
       "Month\n",
       "2023-09    17924.40\n",
       "2023-10    17354.65\n",
       "Freq: M, Name: Sales($), dtype: float64"
      ]
     },
     "execution_count": 32,
     "metadata": {},
     "output_type": "execute_result"
    }
   ],
   "source": [
    "sales_df.groupby('Month')['Sales($)'].sum()"
   ]
  },
  {
   "cell_type": "markdown",
   "metadata": {},
   "source": [
    "### 2. What is the average daily sales for each month?"
   ]
  },
  {
   "cell_type": "code",
   "execution_count": 33,
   "metadata": {},
   "outputs": [
    {
     "data": {
      "text/plain": [
       "Month\n",
       "2023-09    597.480000\n",
       "2023-10    559.827419\n",
       "Freq: M, Name: Sales($), dtype: float64"
      ]
     },
     "execution_count": 33,
     "metadata": {},
     "output_type": "execute_result"
    }
   ],
   "source": [
    "sales_df.groupby('Month')['Sales($)'].mean()"
   ]
  },
  {
   "cell_type": "markdown",
   "metadata": {},
   "source": [
    "### 3. What Region generated the highest sales?"
   ]
  },
  {
   "cell_type": "code",
   "execution_count": 35,
   "metadata": {},
   "outputs": [
    {
     "data": {
      "text/plain": [
       "Region  Month  \n",
       "East    2023-09    1200.50\n",
       "        2023-10     440.60\n",
       "North   2023-09    1100.20\n",
       "        2023-10     970.90\n",
       "South   2023-09     750.30\n",
       "        2023-10     730.40\n",
       "West    2023-09     420.75\n",
       "        2023-10     430.75\n",
       "Name: Sales($), dtype: float64"
      ]
     },
     "execution_count": 43,
     "metadata": {},
     "output_type": "execute_result"
    }
   ],
   "source": [
    "sales_df.groupby(['Region', 'Month'])['Sales($)'].max()"
   ]
  },
  {
   "cell_type": "markdown",
   "metadata": {},
   "source": [
    "### 4. Which product category had the lowest impact?"
   ]
  },
  {
   "cell_type": "code",
   "execution_count": 36,
   "metadata": {},
   "outputs": [
    {
     "data": {
      "text/plain": [
       "Category     Month  \n",
       "Apparel      2023-09    280.25\n",
       "             2023-10    320.25\n",
       "Appliances   2023-09    320.60\n",
       "             2023-10    350.50\n",
       "Electronics  2023-09    550.40\n",
       "             2023-10    600.40\n",
       "Furniture    2023-09    850.20\n",
       "             2023-10    800.20\n",
       "Name: Sales($), dtype: float64"
      ]
     },
     "execution_count": 44,
     "metadata": {},
     "output_type": "execute_result"
    }
   ],
   "source": [
    "sales_df.groupby(['Category', 'Month'])['Sales($)'].min()"
   ]
  },
  {
   "cell_type": "markdown",
   "metadata": {},
   "source": [
    "### 5. Identify the top selling products"
   ]
  },
  {
   "cell_type": "code",
   "execution_count": 46,
   "metadata": {},
   "outputs": [
    {
     "data": {
      "text/plain": [
       "ProductID\n",
       "F5678    3642.2\n",
       "E2345    2621.4\n",
       "A6789    2413.5\n",
       "F1236    1841.8\n",
       "A1234    1742.0\n",
       "Name: Sales($), dtype: float64"
      ]
     },
     "execution_count": 46,
     "metadata": {},
     "output_type": "execute_result"
    }
   ],
   "source": [
    "sales_df.groupby('ProductID')['Sales($)'].sum().sort_values(ascending=False).head(5)"
   ]
  },
  {
   "cell_type": "markdown",
   "metadata": {},
   "source": [
    "### Based on your analysis what recommendation would to give to improve sales in November."
   ]
  },
  {
   "cell_type": "markdown",
   "metadata": {},
   "source": [
    "#### Recommendation: Stock more electronics to the East and North region"
   ]
  }
 ],
 "metadata": {
  "kernelspec": {
   "display_name": "Python 3",
   "language": "python",
   "name": "python3"
  },
  "language_info": {
   "codemirror_mode": {
    "name": "ipython",
    "version": 3
   },
   "file_extension": ".py",
   "mimetype": "text/x-python",
   "name": "python",
   "nbconvert_exporter": "python",
   "pygments_lexer": "ipython3",
   "version": "3.12.0"
  }
 },
 "nbformat": 4,
 "nbformat_minor": 2
}
