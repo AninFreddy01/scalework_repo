{
 "cells": [
  {
   "cell_type": "markdown",
   "metadata": {},
   "source": [
    "Azubi store has products that customers love. Below are the products, prices and the number of customers that patronize each product last week.\n",
    "\n",
    "The owner wants you to do some analysis on data with these criteria's:\n",
    "\n",
    "    -calculate the total price average for all products\n",
    "\n",
    "    -create a new price list that reduces the old prices by GHC5\n",
    "\n",
    "    -calculate the total revenue generated from the products\n",
    "\n",
    "    -calculate the average daily revenue generated from the products\n",
    "\n",
    "    -based on the new prices, which products are less than GHC30 \n",
    "    "
   ]
  },
  {
   "cell_type": "code",
   "execution_count": 1,
   "metadata": {},
   "outputs": [],
   "source": [
    "products = [\"Sankofa Foods\", \"Jamestown Coffee\", \"Bioko Chocolate\", \"Blue Skies Ice Cream\", \"Fair Afric Chocolate\", \"Kawa Moka Coffee\", \"Aphro Spirit\", \"Mensado Bissap\", \"Voltic\"]\n",
    "\n",
    "prices = [30, 25, 40, 20, 20, 35, 45, 50, 35]\n",
    "\n",
    "last_week = [2, 3, 5, 8, 4, 4, 6, 2, 9] #number of people who purchsed the item"
   ]
  },
  {
   "cell_type": "markdown",
   "metadata": {},
   "source": []
  },
  {
   "cell_type": "markdown",
   "metadata": {},
   "source": [
    "### .1.calculating sum average of the prices"
   ]
  },
  {
   "cell_type": "code",
   "execution_count": 7,
   "metadata": {},
   "outputs": [
    {
     "data": {
      "text/plain": [
       "33.33"
      ]
     },
     "execution_count": 7,
     "metadata": {},
     "output_type": "execute_result"
    }
   ],
   "source": [
    "sum_of_price = sum(prices) #calculating the sum of price\n",
    "sum_of_price\n",
    "\n",
    "length_of_price = len(prices) #calculate the length of the price\n",
    "length_of_price\n",
    "\n",
    "sum_average_of_price = sum_of_price / length_of_price #calculate the sum average of the price\n",
    "round(sum_average_of_price, 2)"
   ]
  },
  {
   "cell_type": "markdown",
   "metadata": {},
   "source": [
    "### 2. create a new price list that reduces the old prices by GHC5"
   ]
  },
  {
   "cell_type": "code",
   "execution_count": 12,
   "metadata": {},
   "outputs": [
    {
     "name": "stdout",
     "output_type": "stream",
     "text": [
      "[25, 20, 35, 15, 15, 30, 40, 45, 30]\n"
     ]
    }
   ],
   "source": [
    "new_price = [] #create an empty list\n",
    "\n",
    "for i in prices:\n",
    "    new_price.append(i-5)\n",
    "print(new_price)"
   ]
  },
  {
   "cell_type": "code",
   "execution_count": 14,
   "metadata": {},
   "outputs": [
    {
     "data": {
      "text/plain": [
       "[25, 20, 35, 15, 15, 30, 40, 45, 30]"
      ]
     },
     "execution_count": 14,
     "metadata": {},
     "output_type": "execute_result"
    }
   ],
   "source": [
    "#using list compprehension\n",
    "#new_prices = [price - 5 for price in prices if price > 10]\n",
    "\n",
    "new_price1 = [i-5 for i in prices]\n",
    "new_price1"
   ]
  },
  {
   "cell_type": "markdown",
   "metadata": {},
   "source": [
    "### 3. calculate the total revenue generated from the products"
   ]
  },
  {
   "cell_type": "code",
   "execution_count": 15,
   "metadata": {},
   "outputs": [
    {
     "data": {
      "text/plain": [
       "1400"
      ]
     },
     "execution_count": 15,
     "metadata": {},
     "output_type": "execute_result"
    }
   ],
   "source": [
    "total_revenue = 0\n",
    "\n",
    "for i in range(len(products)):\n",
    "    #total_revenue = total_revenue + prices[i] * last_week[i]\n",
    "    total_revenue += prices[i] * last_week[i]\n",
    "total_revenue"
   ]
  },
  {
   "cell_type": "markdown",
   "metadata": {},
   "source": [
    "### 4.calculate the average daily revenue generated from the products"
   ]
  },
  {
   "cell_type": "code",
   "execution_count": 16,
   "metadata": {},
   "outputs": [
    {
     "data": {
      "text/plain": [
       "200.0"
      ]
     },
     "execution_count": 16,
     "metadata": {},
     "output_type": "execute_result"
    }
   ],
   "source": [
    "#average revenue from 7 working days\n",
    "\n",
    "average_daily_revenue = total_revenue / 7\n",
    "average_daily_revenue"
   ]
  },
  {
   "cell_type": "markdown",
   "metadata": {},
   "source": [
    "### 5. -based on the new prices, which products are less than GHC30 "
   ]
  },
  {
   "cell_type": "markdown",
   "metadata": {},
   "source": []
  },
  {
   "cell_type": "code",
   "execution_count": null,
   "metadata": {},
   "outputs": [],
   "source": [
    "'''products = ['Product A', 'Product B', 'Product C']\n",
    "prices = [20, 15, 8]\n",
    " \n",
    "# Create new prices with a condition\n",
    "new_prices = [price - 5 for price in prices if price > 10]\n",
    " \n",
    "# Map the new prices to the products\n",
    "product_price_map = dict(zip(products, new_prices))\n",
    " \n",
    "print(product_price_map)'''\n"
   ]
  },
  {
   "cell_type": "code",
   "execution_count": 17,
   "metadata": {},
   "outputs": [
    {
     "data": {
      "text/plain": [
       "['Sankofa Foods',\n",
       " 'Jamestown Coffee',\n",
       " 'Blue Skies Ice Cream',\n",
       " 'Fair Afric Chocolate']"
      ]
     },
     "execution_count": 17,
     "metadata": {},
     "output_type": "execute_result"
    }
   ],
   "source": [
    "product_below30 = []\n",
    "\n",
    "for i in range(len(products)):\n",
    "    if new_price[i] < 30:\n",
    "        product_below30.append(products[i])\n",
    "\n",
    "product_below30"
   ]
  },
  {
   "cell_type": "code",
   "execution_count": null,
   "metadata": {},
   "outputs": [],
   "source": []
  }
 ],
 "metadata": {
  "kernelspec": {
   "display_name": "Python 3",
   "language": "python",
   "name": "python3"
  },
  "language_info": {
   "codemirror_mode": {
    "name": "ipython",
    "version": 3
   },
   "file_extension": ".py",
   "mimetype": "text/x-python",
   "name": "python",
   "nbconvert_exporter": "python",
   "pygments_lexer": "ipython3",
   "version": "3.12.0"
  }
 },
 "nbformat": 4,
 "nbformat_minor": 2
}
