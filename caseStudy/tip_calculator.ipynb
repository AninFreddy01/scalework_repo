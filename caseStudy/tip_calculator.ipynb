{
 "cells": [
  {
   "cell_type": "code",
   "execution_count": 4,
   "metadata": {},
   "outputs": [
    {
     "name": "stdout",
     "output_type": "stream",
     "text": [
      "Tip= $9.00\n",
      "Sales Tax= $3.50\n",
      "Grand Total= $62.50\n"
     ]
    }
   ],
   "source": [
    "#Get user input on charge for the food\n",
    "charge_for_food = float(input(\"Enter the charge of food ($): \"))\n",
    "\n",
    "#Calculate tip and sales tax percentage\n",
    "tip_percentage = charge_for_food * 0.18\n",
    "sales_tax = charge_for_food * 0.07\n",
    "\n",
    "#display the outcomes\n",
    "print(f\"Tip= ${tip_percentage :.2f}\")\n",
    "print(f\"Sales Tax= ${sales_tax :.2f}\")\n",
    "print(f\"Grand Total= ${tip_percentage + sales_tax + charge_for_food :.2f}\")\n"
   ]
  },
  {
   "cell_type": "code",
   "execution_count": null,
   "metadata": {},
   "outputs": [],
   "source": []
  }
 ],
 "metadata": {
  "kernelspec": {
   "display_name": "Python 3",
   "language": "python",
   "name": "python3"
  },
  "language_info": {
   "codemirror_mode": {
    "name": "ipython",
    "version": 3
   },
   "file_extension": ".py",
   "mimetype": "text/x-python",
   "name": "python",
   "nbconvert_exporter": "python",
   "pygments_lexer": "ipython3",
   "version": "3.12.0"
  }
 },
 "nbformat": 4,
 "nbformat_minor": 2
}
