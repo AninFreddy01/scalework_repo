{
 "cells": [
  {
   "cell_type": "markdown",
   "metadata": {},
   "source": [
    "The IT team needs to comply with the companies' policies on data privacy,  \n",
    "\n",
    "your boss tasks you to write an algorithm to encrypt and decrypt its internal messages using Caesar's Cipher.\n",
    "\n",
    "In cryptography, a Caesar cipher, also known as shift cipher, is one of the simplest and most widely known encryption techniques. \n",
    "\n",
    "It is a type of substitution cipher in which each letter in the plaintext is replaced by a letter of some fixed number of positions down the alphabet. \n",
    "\n",
    "For example, with a left shift of 3, D would be replaced by A, E would become B, and so on.\n",
    "\n",
    " \n",
    "The method is named after Julius Caesar, who used it in his private correspondence.\n",
    "\n",
    "The transformation can be represented by aligning two alphabets; \n",
    "\n",
    "the cipher alphabet is the plain alphabet rotated left or right by some number of positions. \n",
    "\n",
    "For instance, here is a Caesar cipher using a left rotation of three places, equivalent to a right shift of 23 (the shift parameter is used as the key):\n",
    "\n",
    "Plain:  ABCDEFGHIJKLMNOPQRSTUVWXYZ \n",
    "\n",
    "Cipher: XYZABCDEFGHIJKLMNOPQRSTUVW "
   ]
  },
  {
   "cell_type": "code",
   "execution_count": 1,
   "metadata": {},
   "outputs": [],
   "source": [
    "\n",
    "def encryption(text, shift): #parameter 1 is the text to cypher and parameter is the number of shift\n",
    "\n",
    "    encrypted_text = \"\" \n",
    "\n",
    "    for i in text.upper(): #make text uppercase and iterate through\n",
    "        encrypted_text += chr((ord(i) - shift - 65) % 26 + 65) #using chr to convert unicode to characters and ord to get unicode\n",
    "\n",
    "        if i == \" \": #keep the space in text when cypher\n",
    "            encrypted_text += i\n",
    "    \n",
    "\n",
    "    return encrypted_text\n"
   ]
  },
  {
   "cell_type": "code",
   "execution_count": 2,
   "metadata": {},
   "outputs": [
    {
     "data": {
      "text/plain": [
       "'QEBQ NRFZHQ YOLTKQ CLUQ GRJMPQ LSBOQ QEBQ IXWVQ ALDZFMEBO'"
      ]
     },
     "execution_count": 2,
     "metadata": {},
     "output_type": "execute_result"
    }
   ],
   "source": [
    "text = \"THE QUICK BROWN FOX JUMPS OVER THE LAZY DOGCipher\"\n",
    "shift = 3\n",
    "\n",
    "encryption(text,shift)"
   ]
  },
  {
   "cell_type": "code",
   "execution_count": 5,
   "metadata": {},
   "outputs": [
    {
     "name": "stdout",
     "output_type": "stream",
     "text": [
      "Index 0... value apple\n",
      "Index 1... value orange\n",
      "Index 2... value pear\n",
      "Index 3... value banana\n"
     ]
    }
   ],
   "source": [
    "fruits = [\"apple\", \"orange\", \"pear\", \"banana\"]\n",
    "\n",
    "for fruit,value in enumerate(fruits):\n",
    "    print(f\"Index {fruit}... value {value}\")"
   ]
  },
  {
   "cell_type": "code",
   "execution_count": null,
   "metadata": {},
   "outputs": [],
   "source": []
  }
 ],
 "metadata": {
  "kernelspec": {
   "display_name": "Python 3",
   "language": "python",
   "name": "python3"
  },
  "language_info": {
   "codemirror_mode": {
    "name": "ipython",
    "version": 3
   },
   "file_extension": ".py",
   "mimetype": "text/x-python",
   "name": "python",
   "nbconvert_exporter": "python",
   "pygments_lexer": "ipython3",
   "version": "3.12.0"
  }
 },
 "nbformat": 4,
 "nbformat_minor": 2
}
