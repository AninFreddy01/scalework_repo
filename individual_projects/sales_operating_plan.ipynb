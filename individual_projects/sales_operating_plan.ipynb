{
 "cells": [
  {
   "cell_type": "markdown",
   "metadata": {},
   "source": [
    "In this project, you are going to simulate a sales and operations planning using the zero-stock level strategy. Write a Python program that asks the user to enter the following data:\n",
    "\n",
    "- An initial stock level for a product\n",
    "\n",
    "- The number of month(s) to plan\n",
    "\n",
    "- The planned sales quantity for each month\n",
    "\n",
    "Based on this data, calculate the required production quantity as follows:\n",
    "\n",
    "- If the sales quantity is smaller than the stock level of the previous month, the production quantity is 0\n",
    "\n",
    "- If the sales quantity is larger than the stock level of the previous month, the production quantity is this difference"
   ]
  },
  {
   "cell_type": "code",
   "execution_count": 20,
   "metadata": {},
   "outputs": [
    {
     "name": "stdout",
     "output_type": "stream",
     "text": [
      "The resulting production quantities are:\n",
      "Production quantity month 1: 0\n",
      "Production quantity month 2: 50\n",
      "Production quantity month 3: 200\n",
      "Production quantity month 4: 400\n",
      "Production quantity month 5: 100\n"
     ]
    }
   ],
   "source": [
    "#get stock level of the product and number of months to plan from the user\n",
    "stock_level = int(input(\"Please enter an initial stock level: \"))\n",
    "number_of_months = int(input(\"Please enter the number of months to plan: \"))\n",
    "\n",
    "\n",
    "print(\"The resulting production quantities are:\")\n",
    "\n",
    "#repeat question based on the number of months\n",
    "for month in range(number_of_months):\n",
    "    sales_quantity = int(input(f\"Please enter the planned sales quantity for month {month+1}: \"))\n",
    "    if sales_quantity < stock_level:\n",
    "        product_quantity = 0\n",
    "        print(f\"Production quantity month {month+1}: {product_quantity}\")\n",
    "        stock_level = stock_level - sales_quantity\n",
    "    elif sales_quantity > stock_level:\n",
    "        product_quantity = sales_quantity - stock_level #quantity to be produced base on stock level\n",
    "        print(f\"Production quantity month {month+1}: {product_quantity}\")\n",
    "        stock_level = stock_level - sales_quantity + product_quantity #update stock level after sales\n",
    "    else:\n",
    "        print(\"Enter a valid number\") #prompt user for numeric input only\n"
   ]
  },
  {
   "cell_type": "code",
   "execution_count": null,
   "metadata": {},
   "outputs": [],
   "source": []
  }
 ],
 "metadata": {
  "kernelspec": {
   "display_name": "Python 3",
   "language": "python",
   "name": "python3"
  },
  "language_info": {
   "codemirror_mode": {
    "name": "ipython",
    "version": 3
   },
   "file_extension": ".py",
   "mimetype": "text/x-python",
   "name": "python",
   "nbconvert_exporter": "python",
   "pygments_lexer": "ipython3",
   "version": "3.12.0"
  }
 },
 "nbformat": 4,
 "nbformat_minor": 2
}
