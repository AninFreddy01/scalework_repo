{
 "cells": [
  {
   "cell_type": "markdown",
   "metadata": {},
   "source": [
    "The IT team needs to comply with the companies' policies on data privacy,  \n",
    "\n",
    "your boss tasks you to write an algorithm to encrypt and decrypt its internal messages using Caesar's Cipher\n",
    "\n",
    "In cryptography, a Caesar cipher, also known as shift cipher, is one of the simplest and most widely known encryption techniques. \n",
    "\n",
    "It is a type of substitution cipher in which each letter in the plaintext is replaced by a letter some fixed number of positions down the alphabet. \n",
    "\n",
    "For example, with a left shift of 3, D would be replaced by A, E would become B, and so on. The method is named after Julius Caesar, who used it in his private correspondence.\n",
    "\n",
    "The transformation can be represented by aligning two alphabets; the cipher alphabet is the plain alphabet rotated left or right by some number of positions. \n",
    "\n",
    "For instance, here is a Caesar cipher using a left rotation of three places, equivalent to a right shift of 23 (the shift parameter is used as the key):\n",
    "\n",
    "Plain:  ABCDEFGHIJKLMNOPQRSTUVWXYZ\n",
    "\n",
    "Cipher: XYZABCDEFGHIJKLMNOPQRSTUVW\n",
    "\n",
    "When encrypting, a person looks up each letter of the message in the “plain” line and writes down the corresponding letter in the “cipher” line."
   ]
  },
  {
   "cell_type": "code",
   "execution_count": 1,
   "metadata": {},
   "outputs": [],
   "source": [
    "def decryption(text, shift):\n",
    "    decrypt_text = \"\"\n",
    "\n",
    "    for i in text.upper():\n",
    "        decrypt_text += chr((ord(i) + shift + 65) % 26 + 65)\n",
    "\n",
    "        if i == \" \":\n",
    "            decrypt_text += i\n",
    "\n",
    "    return decrypt_text"
   ]
  },
  {
   "cell_type": "code",
   "execution_count": 2,
   "metadata": {},
   "outputs": [
    {
     "data": {
      "text/plain": [
       "'THEW QUICKW BROWNW FOXW JUMPSW OVERW THEW LAZYW DOG'"
      ]
     },
     "execution_count": 2,
     "metadata": {},
     "output_type": "execute_result"
    }
   ],
   "source": [
    "text = \"QEB NRFZH YOLTK CLU GRJMP LSBO QEB IXWV ALD\"\n",
    "shift = 3\n",
    "decryption(text,shift)"
   ]
  },
  {
   "cell_type": "code",
   "execution_count": null,
   "metadata": {},
   "outputs": [],
   "source": []
  }
 ],
 "metadata": {
  "kernelspec": {
   "display_name": "Python 3",
   "language": "python",
   "name": "python3"
  },
  "language_info": {
   "codemirror_mode": {
    "name": "ipython",
    "version": 3
   },
   "file_extension": ".py",
   "mimetype": "text/x-python",
   "name": "python",
   "nbconvert_exporter": "python",
   "pygments_lexer": "ipython3",
   "version": "3.12.0"
  }
 },
 "nbformat": 4,
 "nbformat_minor": 2
}
