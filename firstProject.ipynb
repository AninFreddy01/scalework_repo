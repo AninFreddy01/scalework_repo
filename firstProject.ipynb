{
 "cells": [
  {
   "cell_type": "code",
   "execution_count": 1,
   "metadata": {},
   "outputs": [
    {
     "name": "stdout",
     "output_type": "stream",
     "text": [
      "hello world ama dasebere\n"
     ]
    }
   ],
   "source": [
    "first_name = 'ama'\n",
    "surname = 'dasebere'\n",
    "print('hello world', first_name, surname)"
   ]
  },
  {
   "cell_type": "code",
   "execution_count": 7,
   "metadata": {},
   "outputs": [
    {
     "name": "stdout",
     "output_type": "stream",
     "text": [
      "7200\n"
     ]
    }
   ],
   "source": [
    "age = 10\n",
    "years_in_months = age * 12\n",
    "hours_in_years = age * 60 * 12\n",
    "\n",
    "print(hours_in_years, hours)"
   ]
  },
  {
   "cell_type": "code",
   "execution_count": 15,
   "metadata": {},
   "outputs": [
    {
     "name": "stdout",
     "output_type": "stream",
     "text": [
      "hello \n",
      "hello \n",
      "hello \n",
      "hello \n",
      "\n"
     ]
    }
   ],
   "source": [
    "n = \"hello \\n\" * 4\n",
    "print(n)"
   ]
  },
  {
   "cell_type": "code",
   "execution_count": 13,
   "metadata": {},
   "outputs": [
    {
     "name": "stdout",
     "output_type": "stream",
     "text": [
      "python is easy\n"
     ]
    }
   ],
   "source": [
    "say = \"python is easy\"\n",
    "print(say[::])"
   ]
  },
  {
   "cell_type": "code",
   "execution_count": 1,
   "metadata": {},
   "outputs": [
    {
     "name": "stdout",
     "output_type": "stream",
     "text": [
      "GODFRED\n",
      "godfred\n"
     ]
    }
   ],
   "source": [
    "#write a Python program that converts a username entered by a user from uppercase to lowercase. \n",
    "#Begin by creating a variable to store the username in its original uppercase format.\n",
    "\n",
    "username = input(\"Enter your name \")\n",
    "convert_to_upper = username.upper()\n",
    "convert_to_lower = username.lower()\n",
    "print(convert_to_upper)\n",
    "print(convert_to_lower)"
   ]
  },
  {
   "cell_type": "code",
   "execution_count": 2,
   "metadata": {},
   "outputs": [
    {
     "name": "stdout",
     "output_type": "stream",
     "text": [
      "The string contains 57 characters.\n"
     ]
    }
   ],
   "source": [
    "#Write a Python program to count the number of characters in the string below. \n",
    "# Print the final output in the format: *The string contains ___ characters.*\n",
    " \n",
    "# Answer Exercise 2 Here\n",
    "string = \"Lorem ipsum dolor sit amett, consectetur adipiscing elit.\"\n",
    "\n",
    "count_char = len(string)\n",
    "print(f\"The string contains {count_char} characters.\")"
   ]
  },
  {
   "cell_type": "code",
   "execution_count": 3,
   "metadata": {},
   "outputs": [
    {
     "name": "stdout",
     "output_type": "stream",
     "text": [
      "Python\n"
     ]
    }
   ],
   "source": [
    "#Create a Python program to extract and print the substring *\"Python\"* from the given string below.|\n",
    "# Answer Exercise 3 Here\n",
    "string = \"Many programmers enjoy using Python for its simplicity and power.\"\n",
    "\n",
    "print(string[29:35])"
   ]
  },
  {
   "cell_type": "code",
   "execution_count": 16,
   "metadata": {},
   "outputs": [
    {
     "name": "stdout",
     "output_type": "stream",
     "text": [
      "Acceptable Risk\n"
     ]
    }
   ],
   "source": [
    "#1. Create a dictionary representing a library. \n",
    "#Each book in the library should have an ISBN number as its key and \n",
    "#a dictionary representing the book (with keys for 'title', 'author', and 'year') as its value.\n",
    "\n",
    "library = {\n",
    "\n",
    "    '978-0-141-04770-6': {\n",
    "    'title': \"The Help\",\n",
    "    'author': \"Kathryn Stockett\",\n",
    "    'year': 2010 },\n",
    "\n",
    "    '0-425-16661-9': {\n",
    "    'title': \"Toxin\",\n",
    "    'author': \"Robin Cook\",\n",
    "    'year': 2007 }\n",
    "\n",
    "}\n",
    " #print(library['978-0-141-04770-6']['title'])\n",
    "\n",
    "#2. Add a new book to the library dictionary and print out the updated library.\n",
    "library['0-329-05432-1'] = {'title':\"Acceptable Risk\", 'author':\"Robin Cook\", 'year': 2011}\n",
    "print(library['0-329-05432-1']['title'])"
   ]
  },
  {
   "cell_type": "code",
   "execution_count": null,
   "metadata": {},
   "outputs": [],
   "source": []
  }
 ],
 "metadata": {
  "kernelspec": {
   "display_name": "Python 3",
   "language": "python",
   "name": "python3"
  },
  "language_info": {
   "codemirror_mode": {
    "name": "ipython",
    "version": 3
   },
   "file_extension": ".py",
   "mimetype": "text/x-python",
   "name": "python",
   "nbconvert_exporter": "python",
   "pygments_lexer": "ipython3",
   "version": "3.12.0"
  }
 },
 "nbformat": 4,
 "nbformat_minor": 2
}
