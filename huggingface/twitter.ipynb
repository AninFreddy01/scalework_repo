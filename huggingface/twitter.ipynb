{
 "cells": [
  {
   "cell_type": "code",
   "execution_count": 1,
   "id": "9f221bf2",
   "metadata": {},
   "outputs": [],
   "source": [
    "#%pip install -q huggingface_hub\n",
    "#%pip install -q datasets\n",
    "#%pip install -q transformers\n",
    "#%pip install -q accelerate\n",
    "#%pip install -q gradio\n",
    "#%pip install -q scikit-learn"
   ]
  },
  {
   "cell_type": "code",
   "execution_count": 2,
   "id": "76aa3e33",
   "metadata": {},
   "outputs": [],
   "source": [
    "import pandas as pd\n",
    "import numpy as np\n",
    "\n",
    "train = pd.read_csv('data/train.csv')\n",
    "test = pd.read_csv('data/test.csv')\n",
    "sample_submission = pd.read_csv('data/SampleSubmission.csv')"
   ]
  },
  {
   "cell_type": "code",
   "execution_count": 3,
   "id": "77bd11ca",
   "metadata": {},
   "outputs": [
    {
     "data": {
      "application/vnd.microsoft.datawrangler.viewer.v0+json": {
       "columns": [
        {
         "name": "index",
         "rawType": "int64",
         "type": "integer"
        },
        {
         "name": "tweet_id",
         "rawType": "object",
         "type": "string"
        },
        {
         "name": "safe_text",
         "rawType": "object",
         "type": "string"
        },
        {
         "name": "label",
         "rawType": "float64",
         "type": "float"
        },
        {
         "name": "agreement",
         "rawType": "float64",
         "type": "float"
        }
       ],
       "conversionMethod": "pd.DataFrame",
       "ref": "a0aa970c-0cc9-4999-829c-26a986cfd09d",
       "rows": [
        [
         "0",
         "CL1KWCMY",
         "Me &amp; The Big Homie meanboy3000 #MEANBOY #MB #MBS #MMR #STEGMANLIFE @ Stegman St. <url>",
         "0.0",
         "1.0"
        ],
        [
         "1",
         "E3303EME",
         "I'm 100% thinking of devoting my career to proving autism isn't caused by vaccines due to the IDIOTIC posts I've seen about World Autism Day",
         "1.0",
         "1.0"
        ],
        [
         "2",
         "M4IVFSMS",
         "#whatcausesautism VACCINES, DO NOT VACCINATE YOUR CHILD",
         "-1.0",
         "1.0"
        ],
        [
         "3",
         "1DR6ROZ4",
         "I mean if they immunize my kid with something that won't secretly kill him years down the line then I'm all for it, but I don't trust that",
         "-1.0",
         "1.0"
        ],
        [
         "4",
         "J77ENIIE",
         "Thanks to <user> Catch me performing at La Nuit NYC 1134 1st ave. Show starts at 6! #jennifair #mmr… <url>",
         "0.0",
         "1.0"
        ]
       ],
       "shape": {
        "columns": 4,
        "rows": 5
       }
      },
      "text/html": [
       "<div>\n",
       "<style scoped>\n",
       "    .dataframe tbody tr th:only-of-type {\n",
       "        vertical-align: middle;\n",
       "    }\n",
       "\n",
       "    .dataframe tbody tr th {\n",
       "        vertical-align: top;\n",
       "    }\n",
       "\n",
       "    .dataframe thead th {\n",
       "        text-align: right;\n",
       "    }\n",
       "</style>\n",
       "<table border=\"1\" class=\"dataframe\">\n",
       "  <thead>\n",
       "    <tr style=\"text-align: right;\">\n",
       "      <th></th>\n",
       "      <th>tweet_id</th>\n",
       "      <th>safe_text</th>\n",
       "      <th>label</th>\n",
       "      <th>agreement</th>\n",
       "    </tr>\n",
       "  </thead>\n",
       "  <tbody>\n",
       "    <tr>\n",
       "      <th>0</th>\n",
       "      <td>CL1KWCMY</td>\n",
       "      <td>Me &amp;amp; The Big Homie meanboy3000 #MEANBOY #M...</td>\n",
       "      <td>0.0</td>\n",
       "      <td>1.0</td>\n",
       "    </tr>\n",
       "    <tr>\n",
       "      <th>1</th>\n",
       "      <td>E3303EME</td>\n",
       "      <td>I'm 100% thinking of devoting my career to pro...</td>\n",
       "      <td>1.0</td>\n",
       "      <td>1.0</td>\n",
       "    </tr>\n",
       "    <tr>\n",
       "      <th>2</th>\n",
       "      <td>M4IVFSMS</td>\n",
       "      <td>#whatcausesautism VACCINES, DO NOT VACCINATE Y...</td>\n",
       "      <td>-1.0</td>\n",
       "      <td>1.0</td>\n",
       "    </tr>\n",
       "    <tr>\n",
       "      <th>3</th>\n",
       "      <td>1DR6ROZ4</td>\n",
       "      <td>I mean if they immunize my kid with something ...</td>\n",
       "      <td>-1.0</td>\n",
       "      <td>1.0</td>\n",
       "    </tr>\n",
       "    <tr>\n",
       "      <th>4</th>\n",
       "      <td>J77ENIIE</td>\n",
       "      <td>Thanks to &lt;user&gt; Catch me performing at La Nui...</td>\n",
       "      <td>0.0</td>\n",
       "      <td>1.0</td>\n",
       "    </tr>\n",
       "  </tbody>\n",
       "</table>\n",
       "</div>"
      ],
      "text/plain": [
       "   tweet_id                                          safe_text  label  \\\n",
       "0  CL1KWCMY  Me &amp; The Big Homie meanboy3000 #MEANBOY #M...    0.0   \n",
       "1  E3303EME  I'm 100% thinking of devoting my career to pro...    1.0   \n",
       "2  M4IVFSMS  #whatcausesautism VACCINES, DO NOT VACCINATE Y...   -1.0   \n",
       "3  1DR6ROZ4  I mean if they immunize my kid with something ...   -1.0   \n",
       "4  J77ENIIE  Thanks to <user> Catch me performing at La Nui...    0.0   \n",
       "\n",
       "   agreement  \n",
       "0        1.0  \n",
       "1        1.0  \n",
       "2        1.0  \n",
       "3        1.0  \n",
       "4        1.0  "
      ]
     },
     "execution_count": 3,
     "metadata": {},
     "output_type": "execute_result"
    }
   ],
   "source": [
    "train.head()"
   ]
  },
  {
   "cell_type": "code",
   "execution_count": 4,
   "id": "cae65fc7",
   "metadata": {},
   "outputs": [
    {
     "name": "stdout",
     "output_type": "stream",
     "text": [
      "<class 'pandas.core.frame.DataFrame'>\n",
      "RangeIndex: 10001 entries, 0 to 10000\n",
      "Data columns (total 4 columns):\n",
      " #   Column     Non-Null Count  Dtype  \n",
      "---  ------     --------------  -----  \n",
      " 0   tweet_id   10001 non-null  object \n",
      " 1   safe_text  10001 non-null  object \n",
      " 2   label      10000 non-null  float64\n",
      " 3   agreement  9999 non-null   float64\n",
      "dtypes: float64(2), object(2)\n",
      "memory usage: 312.7+ KB\n"
     ]
    }
   ],
   "source": [
    "train.info()"
   ]
  },
  {
   "cell_type": "code",
   "execution_count": 5,
   "id": "08b39c71",
   "metadata": {},
   "outputs": [
    {
     "name": "stdout",
     "output_type": "stream",
     "text": [
      "Number of duplicates in safe_text col:343\n"
     ]
    }
   ],
   "source": [
    "duplicates = train.duplicated(subset=['safe_text'])\n",
    "print(f\"Number of duplicates in safe_text col:{duplicates.sum()}\")"
   ]
  },
  {
   "cell_type": "code",
   "execution_count": 6,
   "id": "80f87ca4",
   "metadata": {},
   "outputs": [
    {
     "name": "stdout",
     "output_type": "stream",
     "text": [
      "<class 'pandas.core.frame.DataFrame'>\n",
      "Index: 9658 entries, 0 to 10000\n",
      "Data columns (total 4 columns):\n",
      " #   Column     Non-Null Count  Dtype  \n",
      "---  ------     --------------  -----  \n",
      " 0   tweet_id   9658 non-null   object \n",
      " 1   safe_text  9658 non-null   object \n",
      " 2   label      9657 non-null   float64\n",
      " 3   agreement  9656 non-null   float64\n",
      "dtypes: float64(2), object(2)\n",
      "memory usage: 377.3+ KB\n"
     ]
    }
   ],
   "source": [
    "#remove duplicates\n",
    "train = train[~duplicates]\n",
    "train.info()"
   ]
  },
  {
   "cell_type": "code",
   "execution_count": 7,
   "id": "2a814480",
   "metadata": {},
   "outputs": [
    {
     "data": {
      "text/plain": [
       "0        Me &amp; The Big Homie meanboy3000 #MEANBOY #M...\n",
       "1        I'm 100% thinking of devoting my career to pro...\n",
       "2        #whatcausesautism VACCINES, DO NOT VACCINATE Y...\n",
       "3        I mean if they immunize my kid with something ...\n",
       "4        Thanks to <user> Catch me performing at La Nui...\n",
       "                               ...                        \n",
       "9996     Living in a time where the sperm I used to was...\n",
       "9997     <user> <user>  In spite of all measles outbrea...\n",
       "9998     Interesting trends in child immunization in Ok...\n",
       "9999     CDC Says Measles Are At Highest Levels In Deca...\n",
       "10000    Pneumonia vaccine: for women w risk of pulmona...\n",
       "Name: safe_text, Length: 9658, dtype: object"
      ]
     },
     "execution_count": 7,
     "metadata": {},
     "output_type": "execute_result"
    }
   ],
   "source": [
    "train['safe_text']"
   ]
  },
  {
   "cell_type": "code",
   "execution_count": 8,
   "id": "96c4c620",
   "metadata": {},
   "outputs": [
    {
     "data": {
      "text/plain": [
       "0        Me &amp; The Big Homie meanboy3000 #MEANBOY #M...\n",
       "1        I'm 100% thinking of devoting my career to pro...\n",
       "2        #whatcausesautism VACCINES, DO NOT VACCINATE Y...\n",
       "3        I mean if they immunize my kid with something ...\n",
       "4        Thanks to <user> Catch me performing at La Nui...\n",
       "                               ...                        \n",
       "9996     Living in a time where the sperm I used to was...\n",
       "9997     <user> <user>  In spite of all measles outbrea...\n",
       "9998     Interesting trends in child immunization in Ok...\n",
       "9999     CDC Says Measles Are At Highest Levels In Deca...\n",
       "10000    Pneumonia vaccine: for women w risk of pulmona...\n",
       "Name: safe_text, Length: 9658, dtype: object"
      ]
     },
     "execution_count": 8,
     "metadata": {},
     "output_type": "execute_result"
    }
   ],
   "source": [
    "train['safe_text']"
   ]
  },
  {
   "cell_type": "code",
   "execution_count": 9,
   "id": "09642fd7",
   "metadata": {},
   "outputs": [],
   "source": [
    "#function to clean the text data\n",
    "#import re\n",
    "#from nltk.corpus import stopwords\n",
    "#import nltk\n",
    "\n",
    "# Ensure the stopwords dataset is downloaded\n",
    "#nltk.download('stopwords')\n",
    "\n",
    "#def clean_text(text):\n",
    "    # Remove unwanted characters and symbols\n",
    "    #text = re.sub(r'[^a-zA-Z0-9\\s]', '', text)\n",
    "    # Remove URLs\n",
    "    #text = re.sub(r'http\\S+|www\\S+|https\\S+', '', text)\n",
    "    # Remove extra spaces\n",
    "    #text = text.replace('\\n', ' ').replace('\\r', ' ')\n",
    "    # Remove leading and trailing spaces\n",
    "    #text = text.strip()\n",
    "    # Convert to lowercase\n",
    "    #text = text.lower()\n",
    "    # Remove special characters \n",
    "    #text = re.sub(r'\\W+', ' ', text)\n",
    "\n",
    "    #return text"
   ]
  },
  {
   "cell_type": "markdown",
   "id": "b628beb1",
   "metadata": {},
   "source": [
    "#### Transformers using RoBERTa"
   ]
  },
  {
   "cell_type": "markdown",
   "id": "b1f527da",
   "metadata": {},
   "source": [
    "##### The RoBERTa tokenizer is a subword tokenizer that uses byte pair encoding (BPE) to handle out-of-vocabulary words.    "
   ]
  },
  {
   "cell_type": "code",
   "execution_count": 11,
   "id": "67fffa37",
   "metadata": {},
   "outputs": [
    {
     "data": {
      "application/vnd.jupyter.widget-view+json": {
       "model_id": "0a4fbbc9d96245fa9d405d7882118deb",
       "version_major": 2,
       "version_minor": 0
      },
      "text/plain": [
       "tokenizer_config.json:   0%|          | 0.00/25.0 [00:00<?, ?B/s]"
      ]
     },
     "metadata": {},
     "output_type": "display_data"
    },
    {
     "name": "stderr",
     "output_type": "stream",
     "text": [
      "c:\\Users\\Owner\\anaconda3\\Lib\\site-packages\\huggingface_hub\\file_download.py:144: UserWarning: `huggingface_hub` cache-system uses symlinks by default to efficiently store duplicated files but your machine does not support them in C:\\Users\\Owner\\.cache\\huggingface\\hub\\models--roberta-base. Caching files will still work but in a degraded version that might require more space on your disk. This warning can be disabled by setting the `HF_HUB_DISABLE_SYMLINKS_WARNING` environment variable. For more details, see https://huggingface.co/docs/huggingface_hub/how-to-cache#limitations.\n",
      "To support symlinks on Windows, you either need to activate Developer Mode or to run Python as an administrator. In order to activate developer mode, see this article: https://docs.microsoft.com/en-us/windows/apps/get-started/enable-your-device-for-development\n",
      "  warnings.warn(message)\n"
     ]
    },
    {
     "data": {
      "application/vnd.jupyter.widget-view+json": {
       "model_id": "298ed8ae8c5546a6a6628bbc7457967b",
       "version_major": 2,
       "version_minor": 0
      },
      "text/plain": [
       "config.json:   0%|          | 0.00/481 [00:00<?, ?B/s]"
      ]
     },
     "metadata": {},
     "output_type": "display_data"
    },
    {
     "data": {
      "application/vnd.jupyter.widget-view+json": {
       "model_id": "55bbe4392bbb4be7905d2ef156738747",
       "version_major": 2,
       "version_minor": 0
      },
      "text/plain": [
       "vocab.json:   0%|          | 0.00/899k [00:00<?, ?B/s]"
      ]
     },
     "metadata": {},
     "output_type": "display_data"
    },
    {
     "data": {
      "application/vnd.jupyter.widget-view+json": {
       "model_id": "cc323527191f4540bb74df5d7a124c6b",
       "version_major": 2,
       "version_minor": 0
      },
      "text/plain": [
       "merges.txt:   0%|          | 0.00/456k [00:00<?, ?B/s]"
      ]
     },
     "metadata": {},
     "output_type": "display_data"
    },
    {
     "data": {
      "application/vnd.jupyter.widget-view+json": {
       "model_id": "d2d1b2a0955f4b8886835af1a7018385",
       "version_major": 2,
       "version_minor": 0
      },
      "text/plain": [
       "tokenizer.json:   0%|          | 0.00/1.36M [00:00<?, ?B/s]"
      ]
     },
     "metadata": {},
     "output_type": "display_data"
    },
    {
     "name": "stderr",
     "output_type": "stream",
     "text": [
      "Xet Storage is enabled for this repo, but the 'hf_xet' package is not installed. Falling back to regular HTTP download. For better performance, install the package with: `pip install huggingface_hub[hf_xet]` or `pip install hf_xet`\n"
     ]
    },
    {
     "data": {
      "application/vnd.jupyter.widget-view+json": {
       "model_id": "db0406dbe9db4b3bbb35bd701388e1b4",
       "version_major": 2,
       "version_minor": 0
      },
      "text/plain": [
       "model.safetensors:   0%|          | 0.00/499M [00:00<?, ?B/s]"
      ]
     },
     "metadata": {},
     "output_type": "display_data"
    },
    {
     "name": "stderr",
     "output_type": "stream",
     "text": [
      "Some weights of RobertaForSequenceClassification were not initialized from the model checkpoint at roberta-base and are newly initialized: ['classifier.dense.bias', 'classifier.dense.weight', 'classifier.out_proj.bias', 'classifier.out_proj.weight']\n",
      "You should probably TRAIN this model on a down-stream task to be able to use it for predictions and inference.\n"
     ]
    }
   ],
   "source": [
    "from transformers import AutoTokenizer, AutoModelForSequenceClassification\n",
    "\n",
    "tokenizer = AutoTokenizer.from_pretrained(\"roberta-base\")\n",
    "model = AutoModelForSequenceClassification.from_pretrained(\"roberta-base\", num_labels=2)"
   ]
  },
  {
   "cell_type": "code",
   "execution_count": null,
   "id": "3a9a1795",
   "metadata": {},
   "outputs": [],
   "source": []
  },
  {
   "cell_type": "code",
   "execution_count": 10,
   "id": "2593d5e5",
   "metadata": {},
   "outputs": [
    {
     "data": {
      "application/vnd.microsoft.datawrangler.viewer.v0+json": {
       "columns": [
        {
         "name": "index",
         "rawType": "int64",
         "type": "integer"
        },
        {
         "name": "tweet_id",
         "rawType": "object",
         "type": "string"
        },
        {
         "name": "safe_text",
         "rawType": "object",
         "type": "string"
        },
        {
         "name": "label",
         "rawType": "float64",
         "type": "float"
        },
        {
         "name": "agreement",
         "rawType": "float64",
         "type": "float"
        }
       ],
       "conversionMethod": "pd.DataFrame",
       "ref": "7c75755b-9cec-476c-a83f-5dcc284e0184",
       "rows": [
        [
         "7344",
         "XTR1EXUG",
         "<user> Let the Science Speak: The Evidence Supporting the Immediate Removal of #Mercury from #Vaccines <url>",
         "-1.0",
         "0.6666666666666666"
        ],
        [
         "9867",
         "63DW3AZ0",
         "<user> #RoommatesIn5Words\nHave you ever had measles?",
         "0.0",
         "1.0"
        ],
        [
         "5632",
         "E4RZNIY5",
         "More mumps cases confirmed on UW campus. Check your records and make sure you've had 2 doses of MMR vaccine. #vaccines",
         "1.0",
         "1.0"
        ],
        [
         "1890",
         "PQ8LGTN6",
         "<user> <user> <user> No to required Immunization but yes to schools  healthcare org etc requiring them. #WakeUpAmerica",
         "0.0",
         "0.6666666666666666"
        ],
        [
         "2158",
         "5X6OQLEQ",
         "RT <user> Kids and Teens Get Free Immunizations For Whooping Cough <url>",
         "0.0",
         "0.6666666666666666"
        ]
       ],
       "shape": {
        "columns": 4,
        "rows": 5
       }
      },
      "text/html": [
       "<div>\n",
       "<style scoped>\n",
       "    .dataframe tbody tr th:only-of-type {\n",
       "        vertical-align: middle;\n",
       "    }\n",
       "\n",
       "    .dataframe tbody tr th {\n",
       "        vertical-align: top;\n",
       "    }\n",
       "\n",
       "    .dataframe thead th {\n",
       "        text-align: right;\n",
       "    }\n",
       "</style>\n",
       "<table border=\"1\" class=\"dataframe\">\n",
       "  <thead>\n",
       "    <tr style=\"text-align: right;\">\n",
       "      <th></th>\n",
       "      <th>tweet_id</th>\n",
       "      <th>safe_text</th>\n",
       "      <th>label</th>\n",
       "      <th>agreement</th>\n",
       "    </tr>\n",
       "  </thead>\n",
       "  <tbody>\n",
       "    <tr>\n",
       "      <th>7344</th>\n",
       "      <td>XTR1EXUG</td>\n",
       "      <td>&lt;user&gt; Let the Science Speak: The Evidence Sup...</td>\n",
       "      <td>-1.0</td>\n",
       "      <td>0.666667</td>\n",
       "    </tr>\n",
       "    <tr>\n",
       "      <th>9867</th>\n",
       "      <td>63DW3AZ0</td>\n",
       "      <td>&lt;user&gt; #RoommatesIn5Words\\nHave you ever had m...</td>\n",
       "      <td>0.0</td>\n",
       "      <td>1.000000</td>\n",
       "    </tr>\n",
       "    <tr>\n",
       "      <th>5632</th>\n",
       "      <td>E4RZNIY5</td>\n",
       "      <td>More mumps cases confirmed on UW campus. Check...</td>\n",
       "      <td>1.0</td>\n",
       "      <td>1.000000</td>\n",
       "    </tr>\n",
       "    <tr>\n",
       "      <th>1890</th>\n",
       "      <td>PQ8LGTN6</td>\n",
       "      <td>&lt;user&gt; &lt;user&gt; &lt;user&gt; No to required Immunizati...</td>\n",
       "      <td>0.0</td>\n",
       "      <td>0.666667</td>\n",
       "    </tr>\n",
       "    <tr>\n",
       "      <th>2158</th>\n",
       "      <td>5X6OQLEQ</td>\n",
       "      <td>RT &lt;user&gt; Kids and Teens Get Free Immunization...</td>\n",
       "      <td>0.0</td>\n",
       "      <td>0.666667</td>\n",
       "    </tr>\n",
       "  </tbody>\n",
       "</table>\n",
       "</div>"
      ],
      "text/plain": [
       "      tweet_id                                          safe_text  label  \\\n",
       "7344  XTR1EXUG  <user> Let the Science Speak: The Evidence Sup...   -1.0   \n",
       "9867  63DW3AZ0  <user> #RoommatesIn5Words\\nHave you ever had m...    0.0   \n",
       "5632  E4RZNIY5  More mumps cases confirmed on UW campus. Check...    1.0   \n",
       "1890  PQ8LGTN6  <user> <user> <user> No to required Immunizati...    0.0   \n",
       "2158  5X6OQLEQ  RT <user> Kids and Teens Get Free Immunization...    0.0   \n",
       "\n",
       "      agreement  \n",
       "7344   0.666667  \n",
       "9867   1.000000  \n",
       "5632   1.000000  \n",
       "1890   0.666667  \n",
       "2158   0.666667  "
      ]
     },
     "execution_count": 10,
     "metadata": {},
     "output_type": "execute_result"
    }
   ],
   "source": [
    "train.sample(5)"
   ]
  },
  {
   "cell_type": "code",
   "execution_count": null,
   "id": "3e1fc800",
   "metadata": {},
   "outputs": [],
   "source": []
  }
 ],
 "metadata": {
  "kernelspec": {
   "display_name": "base",
   "language": "python",
   "name": "python3"
  },
  "language_info": {
   "codemirror_mode": {
    "name": "ipython",
    "version": 3
   },
   "file_extension": ".py",
   "mimetype": "text/x-python",
   "name": "python",
   "nbconvert_exporter": "python",
   "pygments_lexer": "ipython3",
   "version": "3.12.4"
  }
 },
 "nbformat": 4,
 "nbformat_minor": 5
}
