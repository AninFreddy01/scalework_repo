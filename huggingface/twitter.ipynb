{
 "cells": [
  {
   "cell_type": "code",
   "execution_count": 17,
   "id": "9f221bf2",
   "metadata": {},
   "outputs": [],
   "source": [
    "#%pip install -q huggingface_hub\n",
    "#%pip install -q datasets\n",
    "#%pip install -q transformers\n",
    "#%pip install -q accelerate\n",
    "#%pip install -q gradio\n",
    "#%pip install -q scikit-learn"
   ]
  },
  {
   "cell_type": "code",
   "execution_count": 18,
   "id": "76aa3e33",
   "metadata": {},
   "outputs": [],
   "source": [
    "import pandas as pd\n",
    "import numpy as np\n",
    "\n",
    "train = pd.read_csv('data/train.csv')\n",
    "test = pd.read_csv('data/test.csv')\n",
    "sample_submission = pd.read_csv('data/SampleSubmission.csv')"
   ]
  },
  {
   "cell_type": "code",
   "execution_count": 19,
   "id": "77bd11ca",
   "metadata": {},
   "outputs": [
    {
     "data": {
      "application/vnd.microsoft.datawrangler.viewer.v0+json": {
       "columns": [
        {
         "name": "index",
         "rawType": "int64",
         "type": "integer"
        },
        {
         "name": "tweet_id",
         "rawType": "object",
         "type": "string"
        },
        {
         "name": "safe_text",
         "rawType": "object",
         "type": "string"
        },
        {
         "name": "label",
         "rawType": "float64",
         "type": "float"
        },
        {
         "name": "agreement",
         "rawType": "float64",
         "type": "float"
        }
       ],
       "conversionMethod": "pd.DataFrame",
       "ref": "ec7219e8-666d-4c29-9716-5d3ae137eb7b",
       "rows": [
        [
         "0",
         "CL1KWCMY",
         "Me &amp; The Big Homie meanboy3000 #MEANBOY #MB #MBS #MMR #STEGMANLIFE @ Stegman St. <url>",
         "0.0",
         "1.0"
        ],
        [
         "1",
         "E3303EME",
         "I'm 100% thinking of devoting my career to proving autism isn't caused by vaccines due to the IDIOTIC posts I've seen about World Autism Day",
         "1.0",
         "1.0"
        ],
        [
         "2",
         "M4IVFSMS",
         "#whatcausesautism VACCINES, DO NOT VACCINATE YOUR CHILD",
         "-1.0",
         "1.0"
        ],
        [
         "3",
         "1DR6ROZ4",
         "I mean if they immunize my kid with something that won't secretly kill him years down the line then I'm all for it, but I don't trust that",
         "-1.0",
         "1.0"
        ],
        [
         "4",
         "J77ENIIE",
         "Thanks to <user> Catch me performing at La Nuit NYC 1134 1st ave. Show starts at 6! #jennifair #mmr… <url>",
         "0.0",
         "1.0"
        ]
       ],
       "shape": {
        "columns": 4,
        "rows": 5
       }
      },
      "text/html": [
       "<div>\n",
       "<style scoped>\n",
       "    .dataframe tbody tr th:only-of-type {\n",
       "        vertical-align: middle;\n",
       "    }\n",
       "\n",
       "    .dataframe tbody tr th {\n",
       "        vertical-align: top;\n",
       "    }\n",
       "\n",
       "    .dataframe thead th {\n",
       "        text-align: right;\n",
       "    }\n",
       "</style>\n",
       "<table border=\"1\" class=\"dataframe\">\n",
       "  <thead>\n",
       "    <tr style=\"text-align: right;\">\n",
       "      <th></th>\n",
       "      <th>tweet_id</th>\n",
       "      <th>safe_text</th>\n",
       "      <th>label</th>\n",
       "      <th>agreement</th>\n",
       "    </tr>\n",
       "  </thead>\n",
       "  <tbody>\n",
       "    <tr>\n",
       "      <th>0</th>\n",
       "      <td>CL1KWCMY</td>\n",
       "      <td>Me &amp;amp; The Big Homie meanboy3000 #MEANBOY #M...</td>\n",
       "      <td>0.0</td>\n",
       "      <td>1.0</td>\n",
       "    </tr>\n",
       "    <tr>\n",
       "      <th>1</th>\n",
       "      <td>E3303EME</td>\n",
       "      <td>I'm 100% thinking of devoting my career to pro...</td>\n",
       "      <td>1.0</td>\n",
       "      <td>1.0</td>\n",
       "    </tr>\n",
       "    <tr>\n",
       "      <th>2</th>\n",
       "      <td>M4IVFSMS</td>\n",
       "      <td>#whatcausesautism VACCINES, DO NOT VACCINATE Y...</td>\n",
       "      <td>-1.0</td>\n",
       "      <td>1.0</td>\n",
       "    </tr>\n",
       "    <tr>\n",
       "      <th>3</th>\n",
       "      <td>1DR6ROZ4</td>\n",
       "      <td>I mean if they immunize my kid with something ...</td>\n",
       "      <td>-1.0</td>\n",
       "      <td>1.0</td>\n",
       "    </tr>\n",
       "    <tr>\n",
       "      <th>4</th>\n",
       "      <td>J77ENIIE</td>\n",
       "      <td>Thanks to &lt;user&gt; Catch me performing at La Nui...</td>\n",
       "      <td>0.0</td>\n",
       "      <td>1.0</td>\n",
       "    </tr>\n",
       "  </tbody>\n",
       "</table>\n",
       "</div>"
      ],
      "text/plain": [
       "   tweet_id                                          safe_text  label  \\\n",
       "0  CL1KWCMY  Me &amp; The Big Homie meanboy3000 #MEANBOY #M...    0.0   \n",
       "1  E3303EME  I'm 100% thinking of devoting my career to pro...    1.0   \n",
       "2  M4IVFSMS  #whatcausesautism VACCINES, DO NOT VACCINATE Y...   -1.0   \n",
       "3  1DR6ROZ4  I mean if they immunize my kid with something ...   -1.0   \n",
       "4  J77ENIIE  Thanks to <user> Catch me performing at La Nui...    0.0   \n",
       "\n",
       "   agreement  \n",
       "0        1.0  \n",
       "1        1.0  \n",
       "2        1.0  \n",
       "3        1.0  \n",
       "4        1.0  "
      ]
     },
     "execution_count": 19,
     "metadata": {},
     "output_type": "execute_result"
    }
   ],
   "source": [
    "train.head()"
   ]
  },
  {
   "cell_type": "code",
   "execution_count": 20,
   "id": "cae65fc7",
   "metadata": {},
   "outputs": [
    {
     "name": "stdout",
     "output_type": "stream",
     "text": [
      "<class 'pandas.core.frame.DataFrame'>\n",
      "RangeIndex: 10001 entries, 0 to 10000\n",
      "Data columns (total 4 columns):\n",
      " #   Column     Non-Null Count  Dtype  \n",
      "---  ------     --------------  -----  \n",
      " 0   tweet_id   10001 non-null  object \n",
      " 1   safe_text  10001 non-null  object \n",
      " 2   label      10000 non-null  float64\n",
      " 3   agreement  9999 non-null   float64\n",
      "dtypes: float64(2), object(2)\n",
      "memory usage: 312.7+ KB\n"
     ]
    }
   ],
   "source": [
    "train.info()"
   ]
  },
  {
   "cell_type": "code",
   "execution_count": 21,
   "id": "08b39c71",
   "metadata": {},
   "outputs": [
    {
     "name": "stdout",
     "output_type": "stream",
     "text": [
      "Number of duplicates in safe_text col:343\n"
     ]
    }
   ],
   "source": [
    "duplicates = train.duplicated(subset=['safe_text'])\n",
    "print(f\"Number of duplicates in safe_text col:{duplicates.sum()}\")"
   ]
  },
  {
   "cell_type": "code",
   "execution_count": 22,
   "id": "80f87ca4",
   "metadata": {},
   "outputs": [
    {
     "name": "stdout",
     "output_type": "stream",
     "text": [
      "<class 'pandas.core.frame.DataFrame'>\n",
      "Index: 9658 entries, 0 to 10000\n",
      "Data columns (total 4 columns):\n",
      " #   Column     Non-Null Count  Dtype  \n",
      "---  ------     --------------  -----  \n",
      " 0   tweet_id   9658 non-null   object \n",
      " 1   safe_text  9658 non-null   object \n",
      " 2   label      9657 non-null   float64\n",
      " 3   agreement  9656 non-null   float64\n",
      "dtypes: float64(2), object(2)\n",
      "memory usage: 377.3+ KB\n"
     ]
    }
   ],
   "source": [
    "#remove duplicates\n",
    "train = train[~duplicates]\n",
    "train.info()"
   ]
  },
  {
   "cell_type": "code",
   "execution_count": 23,
   "id": "2a814480",
   "metadata": {},
   "outputs": [
    {
     "data": {
      "text/plain": [
       "0        Me &amp; The Big Homie meanboy3000 #MEANBOY #M...\n",
       "1        I'm 100% thinking of devoting my career to pro...\n",
       "2        #whatcausesautism VACCINES, DO NOT VACCINATE Y...\n",
       "3        I mean if they immunize my kid with something ...\n",
       "4        Thanks to <user> Catch me performing at La Nui...\n",
       "                               ...                        \n",
       "9996     Living in a time where the sperm I used to was...\n",
       "9997     <user> <user>  In spite of all measles outbrea...\n",
       "9998     Interesting trends in child immunization in Ok...\n",
       "9999     CDC Says Measles Are At Highest Levels In Deca...\n",
       "10000    Pneumonia vaccine: for women w risk of pulmona...\n",
       "Name: safe_text, Length: 9658, dtype: object"
      ]
     },
     "execution_count": 23,
     "metadata": {},
     "output_type": "execute_result"
    }
   ],
   "source": [
    "train['safe_text']"
   ]
  },
  {
   "cell_type": "code",
   "execution_count": 24,
   "id": "96c4c620",
   "metadata": {},
   "outputs": [
    {
     "data": {
      "text/plain": [
       "0        Me &amp; The Big Homie meanboy3000 #MEANBOY #M...\n",
       "1        I'm 100% thinking of devoting my career to pro...\n",
       "2        #whatcausesautism VACCINES, DO NOT VACCINATE Y...\n",
       "3        I mean if they immunize my kid with something ...\n",
       "4        Thanks to <user> Catch me performing at La Nui...\n",
       "                               ...                        \n",
       "9996     Living in a time where the sperm I used to was...\n",
       "9997     <user> <user>  In spite of all measles outbrea...\n",
       "9998     Interesting trends in child immunization in Ok...\n",
       "9999     CDC Says Measles Are At Highest Levels In Deca...\n",
       "10000    Pneumonia vaccine: for women w risk of pulmona...\n",
       "Name: safe_text, Length: 9658, dtype: object"
      ]
     },
     "execution_count": 24,
     "metadata": {},
     "output_type": "execute_result"
    }
   ],
   "source": [
    "train['safe_text']"
   ]
  },
  {
   "cell_type": "code",
   "execution_count": 25,
   "id": "09642fd7",
   "metadata": {},
   "outputs": [
    {
     "name": "stderr",
     "output_type": "stream",
     "text": [
      "[nltk_data] Error loading stopwords: <urlopen error [Errno 11001]\n",
      "[nltk_data]     getaddrinfo failed>\n"
     ]
    }
   ],
   "source": [
    "#function to clean the text data\n",
    "import re\n",
    "from nltk.corpus import stopwords\n",
    "import nltk\n",
    "\n",
    "# Ensure the stopwords dataset is downloaded\n",
    "nltk.download('stopwords')\n",
    "\n",
    "def clean_text(text):\n",
    "    # Remove unwanted characters and symbols\n",
    "    text = re.sub(r'[^a-zA-Z0-9\\s]', '', text)\n",
    "    # Remove URLs\n",
    "    text = re.sub(r'http\\S+|www\\S+|https\\S+', '', text)\n",
    "    # Remove extra spaces\n",
    "    text = text.replace('\\n', ' ').replace('\\r', ' ')\n",
    "    # Remove leading and trailing spaces\n",
    "    text = text.strip()\n",
    "    # Convert to lowercase\n",
    "    text = text.lower()\n",
    "    # Remove special characters \n",
    "    text = re.sub(r'\\W+', ' ', text)\n",
    "\n",
    "    return text"
   ]
  },
  {
   "cell_type": "code",
   "execution_count": 26,
   "id": "d06d1cfc",
   "metadata": {},
   "outputs": [
    {
     "data": {
      "text/plain": [
       "0        me amp the big homie meanboy3000 meanboy mb mb...\n",
       "1        im 100 thinking of devoting my career to provi...\n",
       "2        whatcausesautism vaccines do not vaccinate you...\n",
       "3        i mean if they immunize my kid with something ...\n",
       "4        thanks to user catch me performing at la nuit ...\n",
       "                               ...                        \n",
       "9996     living in a time where the sperm i used to was...\n",
       "9997     user user in spite of all measles outbreaks ju...\n",
       "9998     interesting trends in child immunization in ok...\n",
       "9999     cdc says measles are at highest levels in deca...\n",
       "10000    pneumonia vaccine for women w risk of pulmonar...\n",
       "Name: safe_text, Length: 9658, dtype: object"
      ]
     },
     "execution_count": 26,
     "metadata": {},
     "output_type": "execute_result"
    }
   ],
   "source": [
    "#call the function to clean the text data``\n",
    "train['safe_text'] = train['safe_text'].apply(clean_text)\n",
    "train['safe_text']"
   ]
  },
  {
   "cell_type": "code",
   "execution_count": 27,
   "id": "8dd04944",
   "metadata": {},
   "outputs": [
    {
     "data": {
      "text/plain": [
       "tweet_id     0\n",
       "safe_text    0\n",
       "label        1\n",
       "agreement    2\n",
       "dtype: int64"
      ]
     },
     "execution_count": 27,
     "metadata": {},
     "output_type": "execute_result"
    }
   ],
   "source": [
    "train.isnull().sum()"
   ]
  },
  {
   "cell_type": "code",
   "execution_count": 28,
   "id": "341f6c7d",
   "metadata": {},
   "outputs": [
    {
     "data": {
      "application/vnd.microsoft.datawrangler.viewer.v0+json": {
       "columns": [
        {
         "name": "index",
         "rawType": "object",
         "type": "string"
        },
        {
         "name": "label",
         "rawType": "float64",
         "type": "float"
        },
        {
         "name": "agreement",
         "rawType": "float64",
         "type": "float"
        }
       ],
       "conversionMethod": "pd.DataFrame",
       "ref": "38664560-f821-414b-bb72-86aeb6abfdba",
       "rows": [
        [
         "count",
         "9657.0",
         "9656.0"
        ],
        [
         "mean",
         "0.3016119567843706",
         "0.8544600938967135"
        ],
        [
         "std",
         "0.6506600236755796",
         "0.18063226150744627"
        ],
        [
         "min",
         "-1.0",
         "0.3333333333333333"
        ],
        [
         "25%",
         "0.0",
         "0.6666666666666666"
        ],
        [
         "50%",
         "0.0",
         "1.0"
        ],
        [
         "75%",
         "1.0",
         "1.0"
        ],
        [
         "max",
         "1.0",
         "1.0"
        ]
       ],
       "shape": {
        "columns": 2,
        "rows": 8
       }
      },
      "text/html": [
       "<div>\n",
       "<style scoped>\n",
       "    .dataframe tbody tr th:only-of-type {\n",
       "        vertical-align: middle;\n",
       "    }\n",
       "\n",
       "    .dataframe tbody tr th {\n",
       "        vertical-align: top;\n",
       "    }\n",
       "\n",
       "    .dataframe thead th {\n",
       "        text-align: right;\n",
       "    }\n",
       "</style>\n",
       "<table border=\"1\" class=\"dataframe\">\n",
       "  <thead>\n",
       "    <tr style=\"text-align: right;\">\n",
       "      <th></th>\n",
       "      <th>label</th>\n",
       "      <th>agreement</th>\n",
       "    </tr>\n",
       "  </thead>\n",
       "  <tbody>\n",
       "    <tr>\n",
       "      <th>count</th>\n",
       "      <td>9657.000000</td>\n",
       "      <td>9656.000000</td>\n",
       "    </tr>\n",
       "    <tr>\n",
       "      <th>mean</th>\n",
       "      <td>0.301612</td>\n",
       "      <td>0.854460</td>\n",
       "    </tr>\n",
       "    <tr>\n",
       "      <th>std</th>\n",
       "      <td>0.650660</td>\n",
       "      <td>0.180632</td>\n",
       "    </tr>\n",
       "    <tr>\n",
       "      <th>min</th>\n",
       "      <td>-1.000000</td>\n",
       "      <td>0.333333</td>\n",
       "    </tr>\n",
       "    <tr>\n",
       "      <th>25%</th>\n",
       "      <td>0.000000</td>\n",
       "      <td>0.666667</td>\n",
       "    </tr>\n",
       "    <tr>\n",
       "      <th>50%</th>\n",
       "      <td>0.000000</td>\n",
       "      <td>1.000000</td>\n",
       "    </tr>\n",
       "    <tr>\n",
       "      <th>75%</th>\n",
       "      <td>1.000000</td>\n",
       "      <td>1.000000</td>\n",
       "    </tr>\n",
       "    <tr>\n",
       "      <th>max</th>\n",
       "      <td>1.000000</td>\n",
       "      <td>1.000000</td>\n",
       "    </tr>\n",
       "  </tbody>\n",
       "</table>\n",
       "</div>"
      ],
      "text/plain": [
       "             label    agreement\n",
       "count  9657.000000  9656.000000\n",
       "mean      0.301612     0.854460\n",
       "std       0.650660     0.180632\n",
       "min      -1.000000     0.333333\n",
       "25%       0.000000     0.666667\n",
       "50%       0.000000     1.000000\n",
       "75%       1.000000     1.000000\n",
       "max       1.000000     1.000000"
      ]
     },
     "execution_count": 28,
     "metadata": {},
     "output_type": "execute_result"
    }
   ],
   "source": [
    "train.describe()"
   ]
  },
  {
   "cell_type": "code",
   "execution_count": 29,
   "id": "b71f0168",
   "metadata": {},
   "outputs": [
    {
     "data": {
      "text/plain": [
       "0.14141671170068723"
      ]
     },
     "execution_count": 29,
     "metadata": {},
     "output_type": "execute_result"
    }
   ],
   "source": [
    "#correlation between label and agreement\n",
    "train['label'].corr(train['agreement'])"
   ]
  },
  {
   "cell_type": "code",
   "execution_count": 30,
   "id": "29f1b2c7",
   "metadata": {},
   "outputs": [
    {
     "data": {
      "text/plain": [
       "array([1.        , 0.66666667, 0.33333333,        nan])"
      ]
     },
     "execution_count": 30,
     "metadata": {},
     "output_type": "execute_result"
    }
   ],
   "source": [
    "train['agreement'].unique()"
   ]
  },
  {
   "cell_type": "markdown",
   "id": "b628beb1",
   "metadata": {},
   "source": [
    "#### Transformation"
   ]
  },
  {
   "cell_type": "code",
   "execution_count": 32,
   "id": "2593d5e5",
   "metadata": {},
   "outputs": [
    {
     "data": {
      "application/vnd.microsoft.datawrangler.viewer.v0+json": {
       "columns": [
        {
         "name": "index",
         "rawType": "int64",
         "type": "integer"
        },
        {
         "name": "tweet_id",
         "rawType": "object",
         "type": "string"
        },
        {
         "name": "safe_text",
         "rawType": "object",
         "type": "string"
        },
        {
         "name": "label",
         "rawType": "float64",
         "type": "float"
        },
        {
         "name": "agreement",
         "rawType": "float64",
         "type": "float"
        }
       ],
       "conversionMethod": "pd.DataFrame",
       "ref": "70d8ffe4-6cab-4710-8f52-a40ca6c654b3",
       "rows": [
        [
         "1136",
         "BHFW704G",
         "simple basic info immunization vaccines technology motivation that is getting out there through sm childmortality sgsglobal user",
         "0.0",
         "0.6666666666666666"
        ],
        [
         "7463",
         "HVMCRWAQ",
         "user ask question parents what would u do if ur child was permanently injured by vaccines b1less nomandates cdcwhistleblower",
         "-1.0",
         "1.0"
        ],
        [
         "2842",
         "NI4B2XS6",
         "these guys came into work today talking about mmr and i was like my friend user works there",
         "0.0",
         "1.0"
        ],
        [
         "8931",
         "Z0OBE6YV",
         "user completely agree that being said this people who wont vaccinate their kids need to be flogged",
         "1.0",
         "1.0"
        ],
        [
         "1156",
         "91WTXZ3U",
         "loudoun health district director provides us an update on the ongoing measles investigation user has our story today",
         "0.0",
         "1.0"
        ],
        [
         "5995",
         "W8XVE7MZ",
         "user user to the parent of the unvaccinated child who exposed my family to measles url via user",
         "-1.0",
         "0.3333333333333333"
        ],
        [
         "479",
         "YPYVJ0OA",
         "amnews hiv vaccine a reality by 2030 bill gates over a million people have died of this disease and bill gates url",
         "1.0",
         "0.6666666666666666"
        ],
        [
         "9549",
         "Z1NS0KXO",
         "measles psssh that shit is played im on that rubella tip",
         "0.0",
         "1.0"
        ],
        [
         "834",
         "KHAKLPEY",
         "user vaccinate your kids mike url",
         "1.0",
         "1.0"
        ],
        [
         "9837",
         "NABL5RM1",
         "malaria my ass that nurse vaccinated me to watch me cry like a baby",
         "0.0",
         "0.6666666666666666"
        ]
       ],
       "shape": {
        "columns": 4,
        "rows": 10
       }
      },
      "text/html": [
       "<div>\n",
       "<style scoped>\n",
       "    .dataframe tbody tr th:only-of-type {\n",
       "        vertical-align: middle;\n",
       "    }\n",
       "\n",
       "    .dataframe tbody tr th {\n",
       "        vertical-align: top;\n",
       "    }\n",
       "\n",
       "    .dataframe thead th {\n",
       "        text-align: right;\n",
       "    }\n",
       "</style>\n",
       "<table border=\"1\" class=\"dataframe\">\n",
       "  <thead>\n",
       "    <tr style=\"text-align: right;\">\n",
       "      <th></th>\n",
       "      <th>tweet_id</th>\n",
       "      <th>safe_text</th>\n",
       "      <th>label</th>\n",
       "      <th>agreement</th>\n",
       "    </tr>\n",
       "  </thead>\n",
       "  <tbody>\n",
       "    <tr>\n",
       "      <th>1136</th>\n",
       "      <td>BHFW704G</td>\n",
       "      <td>simple basic info immunization vaccines techno...</td>\n",
       "      <td>0.0</td>\n",
       "      <td>0.666667</td>\n",
       "    </tr>\n",
       "    <tr>\n",
       "      <th>7463</th>\n",
       "      <td>HVMCRWAQ</td>\n",
       "      <td>user ask question parents what would u do if u...</td>\n",
       "      <td>-1.0</td>\n",
       "      <td>1.000000</td>\n",
       "    </tr>\n",
       "    <tr>\n",
       "      <th>2842</th>\n",
       "      <td>NI4B2XS6</td>\n",
       "      <td>these guys came into work today talking about ...</td>\n",
       "      <td>0.0</td>\n",
       "      <td>1.000000</td>\n",
       "    </tr>\n",
       "    <tr>\n",
       "      <th>8931</th>\n",
       "      <td>Z0OBE6YV</td>\n",
       "      <td>user completely agree that being said this peo...</td>\n",
       "      <td>1.0</td>\n",
       "      <td>1.000000</td>\n",
       "    </tr>\n",
       "    <tr>\n",
       "      <th>1156</th>\n",
       "      <td>91WTXZ3U</td>\n",
       "      <td>loudoun health district director provides us a...</td>\n",
       "      <td>0.0</td>\n",
       "      <td>1.000000</td>\n",
       "    </tr>\n",
       "    <tr>\n",
       "      <th>5995</th>\n",
       "      <td>W8XVE7MZ</td>\n",
       "      <td>user user to the parent of the unvaccinated ch...</td>\n",
       "      <td>-1.0</td>\n",
       "      <td>0.333333</td>\n",
       "    </tr>\n",
       "    <tr>\n",
       "      <th>479</th>\n",
       "      <td>YPYVJ0OA</td>\n",
       "      <td>amnews hiv vaccine a reality by 2030 bill gate...</td>\n",
       "      <td>1.0</td>\n",
       "      <td>0.666667</td>\n",
       "    </tr>\n",
       "    <tr>\n",
       "      <th>9549</th>\n",
       "      <td>Z1NS0KXO</td>\n",
       "      <td>measles psssh that shit is played im on that r...</td>\n",
       "      <td>0.0</td>\n",
       "      <td>1.000000</td>\n",
       "    </tr>\n",
       "    <tr>\n",
       "      <th>834</th>\n",
       "      <td>KHAKLPEY</td>\n",
       "      <td>user vaccinate your kids mike url</td>\n",
       "      <td>1.0</td>\n",
       "      <td>1.000000</td>\n",
       "    </tr>\n",
       "    <tr>\n",
       "      <th>9837</th>\n",
       "      <td>NABL5RM1</td>\n",
       "      <td>malaria my ass that nurse vaccinated me to wat...</td>\n",
       "      <td>0.0</td>\n",
       "      <td>0.666667</td>\n",
       "    </tr>\n",
       "  </tbody>\n",
       "</table>\n",
       "</div>"
      ],
      "text/plain": [
       "      tweet_id                                          safe_text  label  \\\n",
       "1136  BHFW704G  simple basic info immunization vaccines techno...    0.0   \n",
       "7463  HVMCRWAQ  user ask question parents what would u do if u...   -1.0   \n",
       "2842  NI4B2XS6  these guys came into work today talking about ...    0.0   \n",
       "8931  Z0OBE6YV  user completely agree that being said this peo...    1.0   \n",
       "1156  91WTXZ3U  loudoun health district director provides us a...    0.0   \n",
       "5995  W8XVE7MZ  user user to the parent of the unvaccinated ch...   -1.0   \n",
       "479   YPYVJ0OA  amnews hiv vaccine a reality by 2030 bill gate...    1.0   \n",
       "9549  Z1NS0KXO  measles psssh that shit is played im on that r...    0.0   \n",
       "834   KHAKLPEY                  user vaccinate your kids mike url    1.0   \n",
       "9837  NABL5RM1  malaria my ass that nurse vaccinated me to wat...    0.0   \n",
       "\n",
       "      agreement  \n",
       "1136   0.666667  \n",
       "7463   1.000000  \n",
       "2842   1.000000  \n",
       "8931   1.000000  \n",
       "1156   1.000000  \n",
       "5995   0.333333  \n",
       "479    0.666667  \n",
       "9549   1.000000  \n",
       "834    1.000000  \n",
       "9837   0.666667  "
      ]
     },
     "execution_count": 32,
     "metadata": {},
     "output_type": "execute_result"
    }
   ],
   "source": [
    "train.sample(10)"
   ]
  },
  {
   "cell_type": "code",
   "execution_count": null,
   "id": "3e1fc800",
   "metadata": {},
   "outputs": [],
   "source": []
  }
 ],
 "metadata": {
  "kernelspec": {
   "display_name": "base",
   "language": "python",
   "name": "python3"
  },
  "language_info": {
   "codemirror_mode": {
    "name": "ipython",
    "version": 3
   },
   "file_extension": ".py",
   "mimetype": "text/x-python",
   "name": "python",
   "nbconvert_exporter": "python",
   "pygments_lexer": "ipython3",
   "version": "3.12.4"
  }
 },
 "nbformat": 4,
 "nbformat_minor": 5
}
