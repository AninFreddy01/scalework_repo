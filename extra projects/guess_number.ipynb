{
 "cells": [
  {
   "cell_type": "code",
   "execution_count": null,
   "metadata": {},
   "outputs": [],
   "source": [
    "#Program generates a random number between 1 and 15\n",
    "#Allow the player to submit a guess for a number between 1 and 15.\n",
    "#Check user's guess against actual answer. output \"wrong guess try again\", depending on the user's incorrect answer. \n",
    "#If they get the answer correct, show the actual answer to the player and end game."
   ]
  },
  {
   "cell_type": "code",
   "execution_count": 8,
   "metadata": {},
   "outputs": [
    {
     "name": "stdout",
     "output_type": "stream",
     "text": [
      "Guess a lower number\n"
     ]
    }
   ],
   "source": [
    "import random\n",
    "guessed_number = random.randint(1,15)\n",
    "\n",
    "#a need a loop here\n",
    "my_guess = int(input(\"Guess a number between 1 to 15: \"))\n",
    "\n",
    "#condition to check if my guess is lower or higher\n",
    "if my_guess < guessed_number:\n",
    "    print(\"Guess a higher number\")\n",
    "elif my_guess > guessed_number:\n",
    "    print(\"Guess a lower number\")\n",
    "else:\n",
    "    print(f\"You are right, the guessed number is {guessed_number}\")"
   ]
  },
  {
   "cell_type": "code",
   "execution_count": null,
   "metadata": {},
   "outputs": [],
   "source": []
  }
 ],
 "metadata": {
  "kernelspec": {
   "display_name": "Python 3",
   "language": "python",
   "name": "python3"
  },
  "language_info": {
   "codemirror_mode": {
    "name": "ipython",
    "version": 3
   },
   "file_extension": ".py",
   "mimetype": "text/x-python",
   "name": "python",
   "nbconvert_exporter": "python",
   "pygments_lexer": "ipython3",
   "version": "3.12.0"
  }
 },
 "nbformat": 4,
 "nbformat_minor": 2
}
