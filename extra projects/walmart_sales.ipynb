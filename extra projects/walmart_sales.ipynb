{
 "cells": [
  {
   "cell_type": "markdown",
   "metadata": {},
   "source": [
    "This lesson is aimed at learners who want to try their hands on projects that further deepen their understanding of the concepts taught.  Please explore this lesson in your free time.\n",
    "\n",
    "\n",
    "Walmart Sales Data Set\n",
    "About Dataset\n",
    "Walmart Inc. is an American multinational retail corporation that operates a chain of hypermarkets, discount department stores, and grocery stores in the United States, headquartered in Bentonville, Arkansas. They would like some insights about 45 of their stores weekly sales data. \n",
    "\n",
    "\n",
    "\n",
    "Content\n",
    "The file walmart_weekly_sales_data.csv contains 6435 rows and 8 columns. Each row corresponds to a week in sales at Walmart. The columns are:\n",
    "\n",
    "Store - the store number\n",
    "Date - the week of sales\n",
    "Weekly_Sales - sales for the given store\n",
    "Holiday_Flag -  1 shows there was a holiday that week .  0 means there was no  holiday that week\n",
    "Temperature - Temperature on the day of sale\n",
    "Fuel_Price - Cost of fuel in the region\n",
    "CPI – Prevailing consumer price index\n",
    "Unemployment - Prevailing unemployment rate\n",
    "Holiday Events\n",
    "Super Bowl: 12-Feb-10, 11-Feb-11, 10-Feb-12, 8-Feb-13\n",
    "Labour Day: 10-Sep-10, 9-Sep-11, 7-Sep-12, 6-Sep-13\n",
    "Thanksgiving: 26-Nov-10, 25-Nov-11, 23-Nov-12, 29-Nov-13\n",
    "Christmas: 31-Dec-10, 30-Dec-11, 28-Dec-12, 27-Dec-13\n",
    "\n",
    "Considerations\n",
    "Walmart would like some insights into 45 of their stores' weekly sales data. As a data analyst you will have to use a combination of Numpy and Pandas to solve the questions they have\n",
    "\n",
    "Note: When loading your data, parse the Date column as a date object. Use the parse_date parameter. Remember it takes a list, dictionary or boolean, so  create a list variable with the name of your date column.\n"
   ]
  },
  {
   "cell_type": "markdown",
   "metadata": {},
   "source": [
    "Questions\n",
    "1. Which store had the highest sales per week?(Store number)\n",
    "- Was it a holiday week for that store?\n",
    "- In which month was this week?\n",
    "2. How much did they make in sales that week?\n",
    "3. If weekly sales increase by 7%, what would their new sales be? (engineer a new column with an appropriate name)\n",
    "4. Assuming Walmart's labour cost is 28.6% of their weekly sales, product cost is 39% and maintenance is 12.4% how much profit will each store make? (engineer new columns with appropriate name)\n",
    "- Temperatures are in Fahrenheit, convert them to Celsius if you need to, using the formula below and answer the following question. ( optional: engineer a new column with an appropriate name)\n",
    "- Which store had the lowest temperature (cold day)?\n",
    "- Which store had the highest temperature (hot day)?\n",
    "- How do the weekly sales of these stores compare in these temperature:\n",
    "- Can you draw any meaning on how the weather affects Walmart's sales?\n",
    "5. Which store had the highest sales week in 2012?\n",
    "6. When fuel prices were above $3.50 how many stores made above $1,000,000 in weekly sales\n",
    "7. How much did each store make during Christmas week in 2012?\n",
    "8. How many weeks had a holiday in 2011?\n",
    "9. In which week was unemployment the highest in 2012?\n",
    "10. Which year was most profitable for Walmart basing profitability on the assumptions made in question 3?"
   ]
  },
  {
   "cell_type": "code",
   "execution_count": 1,
   "metadata": {},
   "outputs": [],
   "source": [
    "import pandas as pd\n",
    "\n",
    "df = pd.read_csv(\"data/walmart_weekly_sales_data.csv\")"
   ]
  },
  {
   "cell_type": "code",
   "execution_count": 2,
   "metadata": {},
   "outputs": [
    {
     "data": {
      "application/vnd.microsoft.datawrangler.viewer.v0+json": {
       "columns": [
        {
         "name": "index",
         "rawType": "int64",
         "type": "integer"
        },
        {
         "name": "Store",
         "rawType": "int64",
         "type": "integer"
        },
        {
         "name": "Date",
         "rawType": "object",
         "type": "string"
        },
        {
         "name": "Weekly_Sales",
         "rawType": "float64",
         "type": "float"
        },
        {
         "name": "Holiday_Flag",
         "rawType": "int64",
         "type": "integer"
        },
        {
         "name": "Temperature",
         "rawType": "float64",
         "type": "float"
        },
        {
         "name": "Fuel_Price",
         "rawType": "float64",
         "type": "float"
        },
        {
         "name": "CPI",
         "rawType": "float64",
         "type": "float"
        },
        {
         "name": "Unemployment",
         "rawType": "float64",
         "type": "float"
        }
       ],
       "conversionMethod": "pd.DataFrame",
       "ref": "eec5c43d-0d96-4305-a14b-0dbf2764e9b0",
       "rows": [
        [
         "0",
         "1",
         "2010-02-05",
         "1643690.9",
         "0",
         "42.31",
         "2.572",
         "211.0963582",
         "8.106"
        ],
        [
         "1",
         "1",
         "2010-02-12",
         "1641957.44",
         "1",
         "38.51",
         "2.548",
         "211.2421698",
         "8.106"
        ],
        [
         "2",
         "1",
         "2010-02-19",
         "1611968.17",
         "0",
         "39.93",
         "2.514",
         "211.2891429",
         "8.106"
        ],
        [
         "3",
         "1",
         "2010-02-26",
         "1409727.59",
         "0",
         "46.63",
         "2.561",
         "211.3196429",
         "8.106"
        ],
        [
         "4",
         "1",
         "2010-03-05",
         "1554806.68",
         "0",
         "46.5",
         "2.625",
         "211.3501429",
         "8.106"
        ]
       ],
       "shape": {
        "columns": 8,
        "rows": 5
       }
      },
      "text/html": [
       "<div>\n",
       "<style scoped>\n",
       "    .dataframe tbody tr th:only-of-type {\n",
       "        vertical-align: middle;\n",
       "    }\n",
       "\n",
       "    .dataframe tbody tr th {\n",
       "        vertical-align: top;\n",
       "    }\n",
       "\n",
       "    .dataframe thead th {\n",
       "        text-align: right;\n",
       "    }\n",
       "</style>\n",
       "<table border=\"1\" class=\"dataframe\">\n",
       "  <thead>\n",
       "    <tr style=\"text-align: right;\">\n",
       "      <th></th>\n",
       "      <th>Store</th>\n",
       "      <th>Date</th>\n",
       "      <th>Weekly_Sales</th>\n",
       "      <th>Holiday_Flag</th>\n",
       "      <th>Temperature</th>\n",
       "      <th>Fuel_Price</th>\n",
       "      <th>CPI</th>\n",
       "      <th>Unemployment</th>\n",
       "    </tr>\n",
       "  </thead>\n",
       "  <tbody>\n",
       "    <tr>\n",
       "      <th>0</th>\n",
       "      <td>1</td>\n",
       "      <td>2010-02-05</td>\n",
       "      <td>1643690.90</td>\n",
       "      <td>0</td>\n",
       "      <td>42.31</td>\n",
       "      <td>2.572</td>\n",
       "      <td>211.096358</td>\n",
       "      <td>8.106</td>\n",
       "    </tr>\n",
       "    <tr>\n",
       "      <th>1</th>\n",
       "      <td>1</td>\n",
       "      <td>2010-02-12</td>\n",
       "      <td>1641957.44</td>\n",
       "      <td>1</td>\n",
       "      <td>38.51</td>\n",
       "      <td>2.548</td>\n",
       "      <td>211.242170</td>\n",
       "      <td>8.106</td>\n",
       "    </tr>\n",
       "    <tr>\n",
       "      <th>2</th>\n",
       "      <td>1</td>\n",
       "      <td>2010-02-19</td>\n",
       "      <td>1611968.17</td>\n",
       "      <td>0</td>\n",
       "      <td>39.93</td>\n",
       "      <td>2.514</td>\n",
       "      <td>211.289143</td>\n",
       "      <td>8.106</td>\n",
       "    </tr>\n",
       "    <tr>\n",
       "      <th>3</th>\n",
       "      <td>1</td>\n",
       "      <td>2010-02-26</td>\n",
       "      <td>1409727.59</td>\n",
       "      <td>0</td>\n",
       "      <td>46.63</td>\n",
       "      <td>2.561</td>\n",
       "      <td>211.319643</td>\n",
       "      <td>8.106</td>\n",
       "    </tr>\n",
       "    <tr>\n",
       "      <th>4</th>\n",
       "      <td>1</td>\n",
       "      <td>2010-03-05</td>\n",
       "      <td>1554806.68</td>\n",
       "      <td>0</td>\n",
       "      <td>46.50</td>\n",
       "      <td>2.625</td>\n",
       "      <td>211.350143</td>\n",
       "      <td>8.106</td>\n",
       "    </tr>\n",
       "  </tbody>\n",
       "</table>\n",
       "</div>"
      ],
      "text/plain": [
       "   Store        Date  Weekly_Sales  Holiday_Flag  Temperature  Fuel_Price  \\\n",
       "0      1  2010-02-05    1643690.90             0        42.31       2.572   \n",
       "1      1  2010-02-12    1641957.44             1        38.51       2.548   \n",
       "2      1  2010-02-19    1611968.17             0        39.93       2.514   \n",
       "3      1  2010-02-26    1409727.59             0        46.63       2.561   \n",
       "4      1  2010-03-05    1554806.68             0        46.50       2.625   \n",
       "\n",
       "          CPI  Unemployment  \n",
       "0  211.096358         8.106  \n",
       "1  211.242170         8.106  \n",
       "2  211.289143         8.106  \n",
       "3  211.319643         8.106  \n",
       "4  211.350143         8.106  "
      ]
     },
     "execution_count": 2,
     "metadata": {},
     "output_type": "execute_result"
    }
   ],
   "source": [
    "df.head()"
   ]
  },
  {
   "cell_type": "code",
   "execution_count": 3,
   "metadata": {},
   "outputs": [
    {
     "name": "stdout",
     "output_type": "stream",
     "text": [
      "<class 'pandas.core.frame.DataFrame'>\n",
      "RangeIndex: 6435 entries, 0 to 6434\n",
      "Data columns (total 8 columns):\n",
      " #   Column        Non-Null Count  Dtype  \n",
      "---  ------        --------------  -----  \n",
      " 0   Store         6435 non-null   int64  \n",
      " 1   Date          6435 non-null   object \n",
      " 2   Weekly_Sales  6435 non-null   float64\n",
      " 3   Holiday_Flag  6435 non-null   int64  \n",
      " 4   Temperature   6435 non-null   float64\n",
      " 5   Fuel_Price    6435 non-null   float64\n",
      " 6   CPI           6435 non-null   float64\n",
      " 7   Unemployment  6435 non-null   float64\n",
      "dtypes: float64(5), int64(2), object(1)\n",
      "memory usage: 402.3+ KB\n"
     ]
    }
   ],
   "source": [
    "df.info()"
   ]
  },
  {
   "cell_type": "code",
   "execution_count": 4,
   "metadata": {},
   "outputs": [
    {
     "data": {
      "text/plain": [
       "0      2010-02-05\n",
       "1      2010-02-12\n",
       "2      2010-02-19\n",
       "3      2010-02-26\n",
       "4      2010-03-05\n",
       "          ...    \n",
       "6430   2012-09-28\n",
       "6431   2012-10-05\n",
       "6432   2012-10-12\n",
       "6433   2012-10-19\n",
       "6434   2012-10-26\n",
       "Name: Date, Length: 6435, dtype: datetime64[ns]"
      ]
     },
     "execution_count": 4,
     "metadata": {},
     "output_type": "execute_result"
    }
   ],
   "source": [
    "df[\"Date\"]= pd.to_datetime(df[\"Date\"])\n",
    "df[\"Date\"]"
   ]
  },
  {
   "cell_type": "code",
   "execution_count": 5,
   "metadata": {},
   "outputs": [
    {
     "name": "stdout",
     "output_type": "stream",
     "text": [
      "The store with the highest weekly sales is 14\n",
      "It wasn't a holiday week\n",
      "In he month of December\n"
     ]
    }
   ],
   "source": [
    "#Question 1\n",
    "highest_weekly_sales = df[\"Weekly_Sales\"].max()\n",
    "store_highest_weekly_sales = df[(df[\"Weekly_Sales\"] == highest_weekly_sales)][\"Store\"].values[0]\n",
    "print(f\"The store with the highest weekly sales is {store_highest_weekly_sales}\")\n",
    "print(\"It wasn't a holiday week\")\n",
    "print(\"In he month of December\")"
   ]
  },
  {
   "cell_type": "code",
   "execution_count": 6,
   "metadata": {},
   "outputs": [
    {
     "name": "stdout",
     "output_type": "stream",
     "text": [
      "The store made 3818686.45 in sales that week\n"
     ]
    }
   ],
   "source": [
    "#Question 2\n",
    "print(f\"The store made {highest_weekly_sales} in sales that week\")"
   ]
  },
  {
   "cell_type": "code",
   "execution_count": 7,
   "metadata": {},
   "outputs": [],
   "source": [
    "#Question 3\n",
    "df[\"Weekly_Sales_Increase(7%)\"] = round(df[\"Weekly_Sales\"] * 0.07, 2)"
   ]
  },
  {
   "cell_type": "code",
   "execution_count": 8,
   "metadata": {},
   "outputs": [
    {
     "data": {
      "application/vnd.microsoft.datawrangler.viewer.v0+json": {
       "columns": [
        {
         "name": "index",
         "rawType": "int64",
         "type": "integer"
        },
        {
         "name": "Store",
         "rawType": "int64",
         "type": "integer"
        },
        {
         "name": "Date",
         "rawType": "datetime64[ns]",
         "type": "datetime"
        },
        {
         "name": "Weekly_Sales",
         "rawType": "float64",
         "type": "float"
        },
        {
         "name": "Holiday_Flag",
         "rawType": "int64",
         "type": "integer"
        },
        {
         "name": "Temperature",
         "rawType": "float64",
         "type": "float"
        },
        {
         "name": "Fuel_Price",
         "rawType": "float64",
         "type": "float"
        },
        {
         "name": "CPI",
         "rawType": "float64",
         "type": "float"
        },
        {
         "name": "Unemployment",
         "rawType": "float64",
         "type": "float"
        },
        {
         "name": "Weekly_Sales_Increase(7%)",
         "rawType": "float64",
         "type": "float"
        },
        {
         "name": "Labour_Cost",
         "rawType": "float64",
         "type": "float"
        },
        {
         "name": "Product_Cost",
         "rawType": "float64",
         "type": "float"
        },
        {
         "name": "Maintenance",
         "rawType": "float64",
         "type": "float"
        }
       ],
       "conversionMethod": "pd.DataFrame",
       "ref": "e538fdae-8f8b-4497-8de3-05c1b17415c9",
       "rows": [
        [
         "0",
         "1",
         "2010-02-05 00:00:00",
         "1643690.9",
         "0",
         "42.31",
         "2.572",
         "211.0963582",
         "8.106",
         "115058.36",
         "470095.6",
         "641039.45",
         "203817.67"
        ],
        [
         "1",
         "1",
         "2010-02-12 00:00:00",
         "1641957.44",
         "1",
         "38.51",
         "2.548",
         "211.2421698",
         "8.106",
         "114937.02",
         "469599.83",
         "640363.4",
         "203602.72"
        ],
        [
         "2",
         "1",
         "2010-02-19 00:00:00",
         "1611968.17",
         "0",
         "39.93",
         "2.514",
         "211.2891429",
         "8.106",
         "112837.77",
         "461022.9",
         "628667.59",
         "199884.05"
        ],
        [
         "3",
         "1",
         "2010-02-26 00:00:00",
         "1409727.59",
         "0",
         "46.63",
         "2.561",
         "211.3196429",
         "8.106",
         "98680.93",
         "403182.09",
         "549793.76",
         "174806.22"
        ],
        [
         "4",
         "1",
         "2010-03-05 00:00:00",
         "1554806.68",
         "0",
         "46.5",
         "2.625",
         "211.3501429",
         "8.106",
         "108836.47",
         "444674.71",
         "606374.61",
         "192796.03"
        ]
       ],
       "shape": {
        "columns": 12,
        "rows": 5
       }
      },
      "text/html": [
       "<div>\n",
       "<style scoped>\n",
       "    .dataframe tbody tr th:only-of-type {\n",
       "        vertical-align: middle;\n",
       "    }\n",
       "\n",
       "    .dataframe tbody tr th {\n",
       "        vertical-align: top;\n",
       "    }\n",
       "\n",
       "    .dataframe thead th {\n",
       "        text-align: right;\n",
       "    }\n",
       "</style>\n",
       "<table border=\"1\" class=\"dataframe\">\n",
       "  <thead>\n",
       "    <tr style=\"text-align: right;\">\n",
       "      <th></th>\n",
       "      <th>Store</th>\n",
       "      <th>Date</th>\n",
       "      <th>Weekly_Sales</th>\n",
       "      <th>Holiday_Flag</th>\n",
       "      <th>Temperature</th>\n",
       "      <th>Fuel_Price</th>\n",
       "      <th>CPI</th>\n",
       "      <th>Unemployment</th>\n",
       "      <th>Weekly_Sales_Increase(7%)</th>\n",
       "      <th>Labour_Cost</th>\n",
       "      <th>Product_Cost</th>\n",
       "      <th>Maintenance</th>\n",
       "    </tr>\n",
       "  </thead>\n",
       "  <tbody>\n",
       "    <tr>\n",
       "      <th>0</th>\n",
       "      <td>1</td>\n",
       "      <td>2010-02-05</td>\n",
       "      <td>1643690.90</td>\n",
       "      <td>0</td>\n",
       "      <td>42.31</td>\n",
       "      <td>2.572</td>\n",
       "      <td>211.096358</td>\n",
       "      <td>8.106</td>\n",
       "      <td>115058.36</td>\n",
       "      <td>470095.60</td>\n",
       "      <td>641039.45</td>\n",
       "      <td>203817.67</td>\n",
       "    </tr>\n",
       "    <tr>\n",
       "      <th>1</th>\n",
       "      <td>1</td>\n",
       "      <td>2010-02-12</td>\n",
       "      <td>1641957.44</td>\n",
       "      <td>1</td>\n",
       "      <td>38.51</td>\n",
       "      <td>2.548</td>\n",
       "      <td>211.242170</td>\n",
       "      <td>8.106</td>\n",
       "      <td>114937.02</td>\n",
       "      <td>469599.83</td>\n",
       "      <td>640363.40</td>\n",
       "      <td>203602.72</td>\n",
       "    </tr>\n",
       "    <tr>\n",
       "      <th>2</th>\n",
       "      <td>1</td>\n",
       "      <td>2010-02-19</td>\n",
       "      <td>1611968.17</td>\n",
       "      <td>0</td>\n",
       "      <td>39.93</td>\n",
       "      <td>2.514</td>\n",
       "      <td>211.289143</td>\n",
       "      <td>8.106</td>\n",
       "      <td>112837.77</td>\n",
       "      <td>461022.90</td>\n",
       "      <td>628667.59</td>\n",
       "      <td>199884.05</td>\n",
       "    </tr>\n",
       "    <tr>\n",
       "      <th>3</th>\n",
       "      <td>1</td>\n",
       "      <td>2010-02-26</td>\n",
       "      <td>1409727.59</td>\n",
       "      <td>0</td>\n",
       "      <td>46.63</td>\n",
       "      <td>2.561</td>\n",
       "      <td>211.319643</td>\n",
       "      <td>8.106</td>\n",
       "      <td>98680.93</td>\n",
       "      <td>403182.09</td>\n",
       "      <td>549793.76</td>\n",
       "      <td>174806.22</td>\n",
       "    </tr>\n",
       "    <tr>\n",
       "      <th>4</th>\n",
       "      <td>1</td>\n",
       "      <td>2010-03-05</td>\n",
       "      <td>1554806.68</td>\n",
       "      <td>0</td>\n",
       "      <td>46.50</td>\n",
       "      <td>2.625</td>\n",
       "      <td>211.350143</td>\n",
       "      <td>8.106</td>\n",
       "      <td>108836.47</td>\n",
       "      <td>444674.71</td>\n",
       "      <td>606374.61</td>\n",
       "      <td>192796.03</td>\n",
       "    </tr>\n",
       "  </tbody>\n",
       "</table>\n",
       "</div>"
      ],
      "text/plain": [
       "   Store       Date  Weekly_Sales  Holiday_Flag  Temperature  Fuel_Price  \\\n",
       "0      1 2010-02-05    1643690.90             0        42.31       2.572   \n",
       "1      1 2010-02-12    1641957.44             1        38.51       2.548   \n",
       "2      1 2010-02-19    1611968.17             0        39.93       2.514   \n",
       "3      1 2010-02-26    1409727.59             0        46.63       2.561   \n",
       "4      1 2010-03-05    1554806.68             0        46.50       2.625   \n",
       "\n",
       "          CPI  Unemployment  Weekly_Sales_Increase(7%)  Labour_Cost  \\\n",
       "0  211.096358         8.106                  115058.36    470095.60   \n",
       "1  211.242170         8.106                  114937.02    469599.83   \n",
       "2  211.289143         8.106                  112837.77    461022.90   \n",
       "3  211.319643         8.106                   98680.93    403182.09   \n",
       "4  211.350143         8.106                  108836.47    444674.71   \n",
       "\n",
       "   Product_Cost  Maintenance  \n",
       "0     641039.45    203817.67  \n",
       "1     640363.40    203602.72  \n",
       "2     628667.59    199884.05  \n",
       "3     549793.76    174806.22  \n",
       "4     606374.61    192796.03  "
      ]
     },
     "execution_count": 8,
     "metadata": {},
     "output_type": "execute_result"
    }
   ],
   "source": [
    "#Question 4\n",
    "#Assuming Walmart's labour cost is 28.6% of their weekly sales, product cost is 39% and maintenance is 12.4% \n",
    "# how much profit will each store make? (engineer new columns with appropriate name)\n",
    "\n",
    "df[\"Labour_Cost\"] = round(df[\"Weekly_Sales\"] * 0.286, 2)\n",
    "df[\"Product_Cost\"] = round(df[\"Weekly_Sales\"] * 0.39, 2)\n",
    "df[\"Maintenance\"] = round(df[\"Weekly_Sales\"] * 0.124, 2)\n",
    "\n",
    "df.head()"
   ]
  },
  {
   "cell_type": "code",
   "execution_count": 9,
   "metadata": {},
   "outputs": [
    {
     "data": {
      "application/vnd.microsoft.datawrangler.viewer.v0+json": {
       "columns": [
        {
         "name": "index",
         "rawType": "int64",
         "type": "integer"
        },
        {
         "name": "Store",
         "rawType": "int64",
         "type": "integer"
        },
        {
         "name": "Date",
         "rawType": "datetime64[ns]",
         "type": "datetime"
        },
        {
         "name": "Weekly_Sales",
         "rawType": "float64",
         "type": "float"
        },
        {
         "name": "Holiday_Flag",
         "rawType": "int64",
         "type": "integer"
        },
        {
         "name": "Temperature",
         "rawType": "float64",
         "type": "float"
        },
        {
         "name": "Fuel_Price",
         "rawType": "float64",
         "type": "float"
        },
        {
         "name": "CPI",
         "rawType": "float64",
         "type": "float"
        },
        {
         "name": "Unemployment",
         "rawType": "float64",
         "type": "float"
        },
        {
         "name": "Weekly_Sales_Increase(7%)",
         "rawType": "float64",
         "type": "float"
        },
        {
         "name": "Labour_Cost",
         "rawType": "float64",
         "type": "float"
        },
        {
         "name": "Product_Cost",
         "rawType": "float64",
         "type": "float"
        },
        {
         "name": "Maintenance",
         "rawType": "float64",
         "type": "float"
        },
        {
         "name": "Temperature_in_Celcius",
         "rawType": "float64",
         "type": "float"
        }
       ],
       "conversionMethod": "pd.DataFrame",
       "ref": "49115f31-79bc-490e-aae5-bcf2fbd57d1c",
       "rows": [
        [
         "0",
         "1",
         "2010-02-05 00:00:00",
         "1643690.9",
         "0",
         "42.31",
         "2.572",
         "211.0963582",
         "8.106",
         "115058.36",
         "470095.6",
         "641039.45",
         "203817.67",
         "5.73"
        ],
        [
         "1",
         "1",
         "2010-02-12 00:00:00",
         "1641957.44",
         "1",
         "38.51",
         "2.548",
         "211.2421698",
         "8.106",
         "114937.02",
         "469599.83",
         "640363.4",
         "203602.72",
         "3.62"
        ],
        [
         "2",
         "1",
         "2010-02-19 00:00:00",
         "1611968.17",
         "0",
         "39.93",
         "2.514",
         "211.2891429",
         "8.106",
         "112837.77",
         "461022.9",
         "628667.59",
         "199884.05",
         "4.41"
        ],
        [
         "3",
         "1",
         "2010-02-26 00:00:00",
         "1409727.59",
         "0",
         "46.63",
         "2.561",
         "211.3196429",
         "8.106",
         "98680.93",
         "403182.09",
         "549793.76",
         "174806.22",
         "8.13"
        ],
        [
         "4",
         "1",
         "2010-03-05 00:00:00",
         "1554806.68",
         "0",
         "46.5",
         "2.625",
         "211.3501429",
         "8.106",
         "108836.47",
         "444674.71",
         "606374.61",
         "192796.03",
         "8.06"
        ]
       ],
       "shape": {
        "columns": 13,
        "rows": 5
       }
      },
      "text/html": [
       "<div>\n",
       "<style scoped>\n",
       "    .dataframe tbody tr th:only-of-type {\n",
       "        vertical-align: middle;\n",
       "    }\n",
       "\n",
       "    .dataframe tbody tr th {\n",
       "        vertical-align: top;\n",
       "    }\n",
       "\n",
       "    .dataframe thead th {\n",
       "        text-align: right;\n",
       "    }\n",
       "</style>\n",
       "<table border=\"1\" class=\"dataframe\">\n",
       "  <thead>\n",
       "    <tr style=\"text-align: right;\">\n",
       "      <th></th>\n",
       "      <th>Store</th>\n",
       "      <th>Date</th>\n",
       "      <th>Weekly_Sales</th>\n",
       "      <th>Holiday_Flag</th>\n",
       "      <th>Temperature</th>\n",
       "      <th>Fuel_Price</th>\n",
       "      <th>CPI</th>\n",
       "      <th>Unemployment</th>\n",
       "      <th>Weekly_Sales_Increase(7%)</th>\n",
       "      <th>Labour_Cost</th>\n",
       "      <th>Product_Cost</th>\n",
       "      <th>Maintenance</th>\n",
       "      <th>Temperature_in_Celcius</th>\n",
       "    </tr>\n",
       "  </thead>\n",
       "  <tbody>\n",
       "    <tr>\n",
       "      <th>0</th>\n",
       "      <td>1</td>\n",
       "      <td>2010-02-05</td>\n",
       "      <td>1643690.90</td>\n",
       "      <td>0</td>\n",
       "      <td>42.31</td>\n",
       "      <td>2.572</td>\n",
       "      <td>211.096358</td>\n",
       "      <td>8.106</td>\n",
       "      <td>115058.36</td>\n",
       "      <td>470095.60</td>\n",
       "      <td>641039.45</td>\n",
       "      <td>203817.67</td>\n",
       "      <td>5.73</td>\n",
       "    </tr>\n",
       "    <tr>\n",
       "      <th>1</th>\n",
       "      <td>1</td>\n",
       "      <td>2010-02-12</td>\n",
       "      <td>1641957.44</td>\n",
       "      <td>1</td>\n",
       "      <td>38.51</td>\n",
       "      <td>2.548</td>\n",
       "      <td>211.242170</td>\n",
       "      <td>8.106</td>\n",
       "      <td>114937.02</td>\n",
       "      <td>469599.83</td>\n",
       "      <td>640363.40</td>\n",
       "      <td>203602.72</td>\n",
       "      <td>3.62</td>\n",
       "    </tr>\n",
       "    <tr>\n",
       "      <th>2</th>\n",
       "      <td>1</td>\n",
       "      <td>2010-02-19</td>\n",
       "      <td>1611968.17</td>\n",
       "      <td>0</td>\n",
       "      <td>39.93</td>\n",
       "      <td>2.514</td>\n",
       "      <td>211.289143</td>\n",
       "      <td>8.106</td>\n",
       "      <td>112837.77</td>\n",
       "      <td>461022.90</td>\n",
       "      <td>628667.59</td>\n",
       "      <td>199884.05</td>\n",
       "      <td>4.41</td>\n",
       "    </tr>\n",
       "    <tr>\n",
       "      <th>3</th>\n",
       "      <td>1</td>\n",
       "      <td>2010-02-26</td>\n",
       "      <td>1409727.59</td>\n",
       "      <td>0</td>\n",
       "      <td>46.63</td>\n",
       "      <td>2.561</td>\n",
       "      <td>211.319643</td>\n",
       "      <td>8.106</td>\n",
       "      <td>98680.93</td>\n",
       "      <td>403182.09</td>\n",
       "      <td>549793.76</td>\n",
       "      <td>174806.22</td>\n",
       "      <td>8.13</td>\n",
       "    </tr>\n",
       "    <tr>\n",
       "      <th>4</th>\n",
       "      <td>1</td>\n",
       "      <td>2010-03-05</td>\n",
       "      <td>1554806.68</td>\n",
       "      <td>0</td>\n",
       "      <td>46.50</td>\n",
       "      <td>2.625</td>\n",
       "      <td>211.350143</td>\n",
       "      <td>8.106</td>\n",
       "      <td>108836.47</td>\n",
       "      <td>444674.71</td>\n",
       "      <td>606374.61</td>\n",
       "      <td>192796.03</td>\n",
       "      <td>8.06</td>\n",
       "    </tr>\n",
       "  </tbody>\n",
       "</table>\n",
       "</div>"
      ],
      "text/plain": [
       "   Store       Date  Weekly_Sales  Holiday_Flag  Temperature  Fuel_Price  \\\n",
       "0      1 2010-02-05    1643690.90             0        42.31       2.572   \n",
       "1      1 2010-02-12    1641957.44             1        38.51       2.548   \n",
       "2      1 2010-02-19    1611968.17             0        39.93       2.514   \n",
       "3      1 2010-02-26    1409727.59             0        46.63       2.561   \n",
       "4      1 2010-03-05    1554806.68             0        46.50       2.625   \n",
       "\n",
       "          CPI  Unemployment  Weekly_Sales_Increase(7%)  Labour_Cost  \\\n",
       "0  211.096358         8.106                  115058.36    470095.60   \n",
       "1  211.242170         8.106                  114937.02    469599.83   \n",
       "2  211.289143         8.106                  112837.77    461022.90   \n",
       "3  211.319643         8.106                   98680.93    403182.09   \n",
       "4  211.350143         8.106                  108836.47    444674.71   \n",
       "\n",
       "   Product_Cost  Maintenance  Temperature_in_Celcius  \n",
       "0     641039.45    203817.67                    5.73  \n",
       "1     640363.40    203602.72                    3.62  \n",
       "2     628667.59    199884.05                    4.41  \n",
       "3     549793.76    174806.22                    8.13  \n",
       "4     606374.61    192796.03                    8.06  "
      ]
     },
     "execution_count": 9,
     "metadata": {},
     "output_type": "execute_result"
    }
   ],
   "source": [
    "df[\"Temperature_in_Celcius\"] = round((df[\"Temperature\"] - 32) * 0.5556, 2)\n",
    "df.head()"
   ]
  },
  {
   "cell_type": "code",
   "execution_count": 12,
   "metadata": {},
   "outputs": [
    {
     "name": "stdout",
     "output_type": "stream",
     "text": [
      "The store with the lowest temperature -18.92 celcius is store 7\n",
      "The store with the highest temperature 37.86 celcius is store 33\n"
     ]
    }
   ],
   "source": [
    "lowest_temp = df[\"Temperature_in_Celcius\"].min()\n",
    "highest_temp = df[\"Temperature_in_Celcius\"].max()\n",
    "\n",
    "store_with_highest_temp = df[df[\"Temperature_in_Celcius\"] == highest_temp][\"Store\"].values[0]\n",
    "store_with_lowest_temp = df[df[\"Temperature_in_Celcius\"] == lowest_temp][\"Store\"].values[0]\n",
    "\n",
    "print(f\"The store with the lowest temperature {lowest_temp} celcius is store {store_with_lowest_temp}\") \n",
    "print(f\"The store with the highest temperature {highest_temp} celcius is store {store_with_highest_temp}\") "
   ]
  },
  {
   "cell_type": "code",
   "execution_count": 11,
   "metadata": {},
   "outputs": [
    {
     "data": {
      "application/vnd.microsoft.datawrangler.viewer.v0+json": {
       "columns": [
        {
         "name": "index",
         "rawType": "int64",
         "type": "integer"
        },
        {
         "name": "Weekly_Sales",
         "rawType": "float64",
         "type": "float"
        },
        {
         "name": "Temperature_in_Celcius",
         "rawType": "float64",
         "type": "float"
        }
       ],
       "conversionMethod": "pd.DataFrame",
       "ref": "bc350cb8-7414-48ef-ac61-19c4e475590c",
       "rows": [
        [
         "0",
         "1643690.9",
         "5.73"
        ],
        [
         "1",
         "1641957.44",
         "3.62"
        ],
        [
         "2",
         "1611968.17",
         "4.41"
        ],
        [
         "3",
         "1409727.59",
         "8.13"
        ],
        [
         "4",
         "1554806.68",
         "8.06"
        ],
        [
         "5",
         "1439541.59",
         "14.33"
        ],
        [
         "6",
         "1472515.79",
         "12.55"
        ],
        [
         "7",
         "1404429.92",
         "10.81"
        ],
        [
         "8",
         "1594968.28",
         "16.82"
        ],
        [
         "9",
         "1545418.53",
         "18.81"
        ],
        [
         "10",
         "1466058.28",
         "19.07"
        ],
        [
         "11",
         "1391256.12",
         "18.25"
        ],
        [
         "12",
         "1425100.71",
         "19.67"
        ],
        [
         "13",
         "1603955.12",
         "22.53"
        ],
        [
         "14",
         "1494251.5",
         "23.77"
        ],
        [
         "15",
         "1399662.07",
         "24.69"
        ],
        [
         "16",
         "1432069.95",
         "26.91"
        ],
        [
         "17",
         "1615524.71",
         "27.05"
        ],
        [
         "18",
         "1542561.09",
         "26.91"
        ],
        [
         "19",
         "1503284.06",
         "28.95"
        ],
        [
         "20",
         "1422711.6",
         "29.08"
        ],
        [
         "21",
         "1492418.14",
         "27.17"
        ],
        [
         "22",
         "1546074.18",
         "26.94"
        ],
        [
         "23",
         "1448938.92",
         "28.42"
        ],
        [
         "24",
         "1385065.2",
         "28.54"
        ],
        [
         "25",
         "1371986.6",
         "27.69"
        ],
        [
         "26",
         "1605491.78",
         "30.65"
        ],
        [
         "27",
         "1508237.76",
         "30.56"
        ],
        [
         "28",
         "1513080.49",
         "30.36"
        ],
        [
         "29",
         "1449142.92",
         "29.57"
        ],
        [
         "30",
         "1540163.53",
         "27.34"
        ],
        [
         "31",
         "1507460.69",
         "25.94"
        ],
        [
         "32",
         "1430378.67",
         "27.84"
        ],
        [
         "33",
         "1351791.03",
         "27.19"
        ],
        [
         "34",
         "1453329.5",
         "22.16"
        ],
        [
         "35",
         "1508239.93",
         "17.74"
        ],
        [
         "36",
         "1459409.1",
         "19.55"
        ],
        [
         "37",
         "1345454.0",
         "21.04"
        ],
        [
         "38",
         "1384209.22",
         "20.91"
        ],
        [
         "39",
         "1551659.28",
         "14.86"
        ],
        [
         "40",
         "1494479.49",
         "15.34"
        ],
        [
         "41",
         "1483784.18",
         "10.78"
        ],
        [
         "42",
         "1955624.11",
         "18.07"
        ],
        [
         "43",
         "1548033.78",
         "9.6"
        ],
        [
         "44",
         "1682614.26",
         "7.96"
        ],
        [
         "45",
         "1891034.93",
         "9.91"
        ],
        [
         "46",
         "2387950.2",
         "11.3"
        ],
        [
         "47",
         "1367320.01",
         "9.13"
        ],
        [
         "48",
         "1444732.28",
         "9.04"
        ],
        [
         "49",
         "1391013.96",
         "1.89"
        ]
       ],
       "shape": {
        "columns": 2,
        "rows": 6435
       }
      },
      "text/html": [
       "<div>\n",
       "<style scoped>\n",
       "    .dataframe tbody tr th:only-of-type {\n",
       "        vertical-align: middle;\n",
       "    }\n",
       "\n",
       "    .dataframe tbody tr th {\n",
       "        vertical-align: top;\n",
       "    }\n",
       "\n",
       "    .dataframe thead th {\n",
       "        text-align: right;\n",
       "    }\n",
       "</style>\n",
       "<table border=\"1\" class=\"dataframe\">\n",
       "  <thead>\n",
       "    <tr style=\"text-align: right;\">\n",
       "      <th></th>\n",
       "      <th>Weekly_Sales</th>\n",
       "      <th>Temperature_in_Celcius</th>\n",
       "    </tr>\n",
       "  </thead>\n",
       "  <tbody>\n",
       "    <tr>\n",
       "      <th>0</th>\n",
       "      <td>1643690.90</td>\n",
       "      <td>5.73</td>\n",
       "    </tr>\n",
       "    <tr>\n",
       "      <th>1</th>\n",
       "      <td>1641957.44</td>\n",
       "      <td>3.62</td>\n",
       "    </tr>\n",
       "    <tr>\n",
       "      <th>2</th>\n",
       "      <td>1611968.17</td>\n",
       "      <td>4.41</td>\n",
       "    </tr>\n",
       "    <tr>\n",
       "      <th>3</th>\n",
       "      <td>1409727.59</td>\n",
       "      <td>8.13</td>\n",
       "    </tr>\n",
       "    <tr>\n",
       "      <th>4</th>\n",
       "      <td>1554806.68</td>\n",
       "      <td>8.06</td>\n",
       "    </tr>\n",
       "    <tr>\n",
       "      <th>...</th>\n",
       "      <td>...</td>\n",
       "      <td>...</td>\n",
       "    </tr>\n",
       "    <tr>\n",
       "      <th>6430</th>\n",
       "      <td>713173.95</td>\n",
       "      <td>18.27</td>\n",
       "    </tr>\n",
       "    <tr>\n",
       "      <th>6431</th>\n",
       "      <td>733455.07</td>\n",
       "      <td>18.27</td>\n",
       "    </tr>\n",
       "    <tr>\n",
       "      <th>6432</th>\n",
       "      <td>734464.36</td>\n",
       "      <td>12.48</td>\n",
       "    </tr>\n",
       "    <tr>\n",
       "      <th>6433</th>\n",
       "      <td>718125.53</td>\n",
       "      <td>13.60</td>\n",
       "    </tr>\n",
       "    <tr>\n",
       "      <th>6434</th>\n",
       "      <td>760281.43</td>\n",
       "      <td>14.92</td>\n",
       "    </tr>\n",
       "  </tbody>\n",
       "</table>\n",
       "<p>6435 rows × 2 columns</p>\n",
       "</div>"
      ],
      "text/plain": [
       "      Weekly_Sales  Temperature_in_Celcius\n",
       "0       1643690.90                    5.73\n",
       "1       1641957.44                    3.62\n",
       "2       1611968.17                    4.41\n",
       "3       1409727.59                    8.13\n",
       "4       1554806.68                    8.06\n",
       "...            ...                     ...\n",
       "6430     713173.95                   18.27\n",
       "6431     733455.07                   18.27\n",
       "6432     734464.36                   12.48\n",
       "6433     718125.53                   13.60\n",
       "6434     760281.43                   14.92\n",
       "\n",
       "[6435 rows x 2 columns]"
      ]
     },
     "execution_count": 11,
     "metadata": {},
     "output_type": "execute_result"
    }
   ],
   "source": [
    "df[[\"Weekly_Sales\", \"Temperature_in_Celcius\"]]"
   ]
  },
  {
   "cell_type": "code",
   "execution_count": 30,
   "metadata": {},
   "outputs": [
    {
     "data": {
      "text/plain": [
       "<Axes: ylabel='Frequency'>"
      ]
     },
     "execution_count": 30,
     "metadata": {},
     "output_type": "execute_result"
    },
    {
     "data": {
      "image/png": "[encoded data removed]",
      "text/plain": [
       "<Figure size 640x480 with 1 Axes>"
      ]
     },
     "metadata": {},
     "output_type": "display_data"
    }
   ],
   "source": [
    "df[\"Temperature_in_Celcius\"].plot(kind=\"hist\", bins=20, color=\"blue\", alpha=0.7)"
   ]
  },
  {
   "cell_type": "code",
   "execution_count": null,
   "metadata": {},
   "outputs": [],
   "source": []
  },
  {
   "cell_type": "code",
   "execution_count": null,
   "metadata": {},
   "outputs": [
    {
     "name": "stdout",
     "output_type": "stream",
     "text": [
      "      Temperature_in_Celcius  Weekly_Sales\n",
      "4599                   37.86     280937.84\n",
      "     Temperature_in_Celcius  Weekly_Sales\n",
      "910                  -18.92     558027.77\n"
     ]
    }
   ],
   "source": [
    "# How do the weekly sales of these stores compare in these temperatures:\n",
    "print(df[df[\"Temperature_in_Celcius\"] == highest_temp][[\"Temperature_in_Celcius\", \"Weekly_Sales\"]])\n",
    "print(df[df[\"Temperature_in_Celcius\"] == lowest_temp][[\"Temperature_in_Celcius\", \"Weekly_Sales\"]])"
   ]
  },
  {
   "cell_type": "markdown",
   "metadata": {},
   "source": [
    "- Can you draw any meaning on how the weather affects Walmart's sales\n",
    "Most sales during the cold weather"
   ]
  },
  {
   "cell_type": "code",
   "execution_count": null,
   "metadata": {},
   "outputs": [
    {
     "name": "stdout",
     "output_type": "stream",
     "text": [
      "The store with the highest sales in 2012 is 20 with sales of 2565259.92\n"
     ]
    }
   ],
   "source": [
    "#5. Which store had the highest sales week in 2012?\n",
    "\n",
    "#Getthe year 2012 from the date column\n",
    "df[\"Year\"] = df[\"Date\"].dt.year \n",
    "\n",
    "#Get the maximum sales for 2012 \n",
    "df_2012 = df[df[\"Year\"] == 2012]\n",
    "highest_sales_2012 = df_2012[\"Weekly_Sales\"].max()\n",
    "store_highest_sales_2012 = df_2012[df_2012[\"Weekly_Sales\"] == highest_sales_2012][\"Store\"].values[0]\n",
    "print(f\"The store with the highest sales in 2012 is {store_highest_sales_2012} with sales of {highest_sales_2012}\")"
   ]
  },
  {
   "cell_type": "code",
   "execution_count": null,
   "metadata": {},
   "outputs": [
    {
     "name": "stdout",
     "output_type": "stream",
     "text": [
      "The number of stores with fuel prices above $3.50 and weekly sales above $1,000,000 is 27\n"
     ]
    }
   ],
   "source": [
    "#6. When fuel prices were above $3.50 how many stores made above $1,000,000 in weekly sales\n",
    "\n",
    "#Get the stores with fuel prices above $3.50\n",
    "df_fuel_above_3_50 = df[df[\"Fuel_Price\"] > 3.50]\n",
    "#Get the stores with weekly sales above $1,000,000\n",
    "df_sales_above_1_million = df_fuel_above_3_50[df_fuel_above_3_50[\"Weekly_Sales\"] > 1000000]\n",
    "#Get the number of stores\n",
    "number_of_stores = df_sales_above_1_million[\"Store\"].nunique()\n",
    "print(f\"The number of stores with fuel prices above $3.50 and weekly sales above $1,000,000 is {number_of_stores}\")"
   ]
  },
  {
   "cell_type": "code",
   "execution_count": 42,
   "metadata": {},
   "outputs": [],
   "source": [
    "#7. How much did each store make during Christmas week in 2012?\n",
    "\n",
    "#Get the Christmas week in 2012\n",
    "df_christmas_week_2012 = df[(df[\"Date\"] >= \"2012-12-24\") & (df[\"Date\"] <= \"2012-12-31\")]\n",
    "#Get the weekly sales for each store\n",
    "df_christmas_week_2012_sales = df_christmas_week_2012.groupby(\"Store\")[\"Weekly_Sales\"].sum().reset_index()\n",
    "#Sort the stores by weekly sales\n",
    "df_christmas_week_2012_sales = df_christmas_week_2012_sales.sort_values(by=\"Weekly_Sales\", ascending=False)\n",
    "\n",
    "for i in range(len(df_christmas_week_2012_sales)):\n",
    "    print(f\"Store {df_christmas_week_2012_sales.iloc[i]['Store']} made {df_christmas_week_2012_sales.iloc[i]['Weekly_Sales']} during Christmas week in 2012\")"
   ]
  },
  {
   "cell_type": "code",
   "execution_count": 47,
   "metadata": {},
   "outputs": [
    {
     "name": "stdout",
     "output_type": "stream",
     "text": [
      "The number of weeks with a holiday in 2011 is 4\n"
     ]
    }
   ],
   "source": [
    "#8. How many weeks had a holiday in 2011?\n",
    "\n",
    "#Get the weeks with a holiday in 2011\n",
    "df_holiday_weeks_2011 = df[(df[\"Date\"].dt.year == 2011) & (df[\"Holiday_Flag\"] == 1)]\n",
    "#Get the number of weeks with a holiday \n",
    "df_holiday_weeks_2011_count = df_holiday_weeks_2011[\"Date\"].nunique()\n",
    "print(f\"The number of weeks with a holiday in 2011 is {df_holiday_weeks_2011_count}\")"
   ]
  },
  {
   "cell_type": "code",
   "execution_count": 51,
   "metadata": {},
   "outputs": [
    {
     "name": "stdout",
     "output_type": "stream",
     "text": [
      "The week with the highest unemployment rate in 2012 was 2012-01-06T00:00:00.000000000 with a rate of 12.187\n"
     ]
    }
   ],
   "source": [
    "#9. In which week was unemployment the highest in 2012?\n",
    "\n",
    "#Get the unemployment rate for 2012\n",
    "df_unemployment_2012 = df[df[\"Date\"].dt.year == 2012]\n",
    "#Get the maximum unemployment rate\n",
    "highest_unemployment_rate = df_unemployment_2012[\"Unemployment\"].max()\n",
    "#Get the week with the highest unemployment rate\n",
    "df_highest_unemployment_rate = df_unemployment_2012[df_unemployment_2012[\"Unemployment\"] == highest_unemployment_rate]\n",
    "#Get the date of the week with the highest unemployment rate\n",
    "highest_unemployment_week = df_highest_unemployment_rate[\"Date\"].values[0]\n",
    "print(f\"The week with the highest unemployment rate in 2012 was {highest_unemployment_week} with a rate of {highest_unemployment_rate}\")"
   ]
  },
  {
   "cell_type": "code",
   "execution_count": 53,
   "metadata": {},
   "outputs": [
    {
     "data": {
      "text/plain": [
       "array([2010, 2011, 2012])"
      ]
     },
     "execution_count": 53,
     "metadata": {},
     "output_type": "execute_result"
    }
   ],
   "source": [
    "df[\"Year\"].unique()"
   ]
  },
  {
   "cell_type": "code",
   "execution_count": 54,
   "metadata": {},
   "outputs": [
    {
     "name": "stdout",
     "output_type": "stream",
     "text": [
      "The most profitable year for Walmart is 2011.0 with a profit of 489640001.77\n"
     ]
    }
   ],
   "source": [
    "#Which year was most profitable for Walmart basing profitability on the assumptions made in question 3?\n",
    "\n",
    "#Get the profit for each store\n",
    "df[\"Profit\"] = df[\"Weekly_Sales\"] - df[\"Labour_Cost\"] - df[\"Product_Cost\"] - df[\"Maintenance\"]\n",
    "#Get the profit for each year\n",
    "df_profit_by_year = df.groupby(\"Year\")[\"Profit\"].sum().reset_index()\n",
    "#Sort the years by profit\n",
    "df_profit_by_year = df_profit_by_year.sort_values(by=\"Profit\", ascending=False)\n",
    "#Get the most profitable year\n",
    "most_profitable_year = df_profit_by_year.iloc[0][\"Year\"]\n",
    "most_profitable_year_profit = df_profit_by_year.iloc[0][\"Profit\"]\n",
    "print(f\"The most profitable year for Walmart is {most_profitable_year} with a profit of {most_profitable_year_profit}\")"
   ]
  },
  {
   "cell_type": "code",
   "execution_count": null,
   "metadata": {},
   "outputs": [],
   "source": []
  }
 ],
 "metadata": {
  "kernelspec": {
   "display_name": "Python 3",
   "language": "python",
   "name": "python3"
  },
  "language_info": {
   "codemirror_mode": {
    "name": "ipython",
    "version": 3
   },
   "file_extension": ".py",
   "mimetype": "text/x-python",
   "name": "python",
   "nbconvert_exporter": "python",
   "pygments_lexer": "ipython3",
   "version": "3.12.0"
  }
 },
 "nbformat": 4,
 "nbformat_minor": 2
}
