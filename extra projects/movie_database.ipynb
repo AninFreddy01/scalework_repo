{
 "cells": [
  {
   "cell_type": "markdown",
   "metadata": {},
   "source": [
    "Write a program that allows users to search through movie_db using different search criteria. The program should prompt the user to enter a search term, and then search through the movie database to find movies that match the search term. The user should be able to search by title, year, director, stars, and genre.\n",
    "\n",
    "Once the user has entered a search term, the program should display a list of all the movies that match the search term, along with their details (year, director, stars, genre, and rating)"
   ]
  },
  {
   "cell_type": "code",
   "execution_count": 1,
   "metadata": {},
   "outputs": [],
   "source": [
    "movie_db = {\n",
    "\"The Shawshank Redemption\": {\n",
    "\"year\": 1994,\n",
    "\"director\": \"Frank Darabont\",\n",
    "\"stars\": [\"Tim Robbins\", \"Morgan Freeman\", \"Bob Gunton\"],\n",
    "\"genre\": [\"Drama\"],\n",
    "\"rating\": 9.3\n",
    "},\n",
    "\"The Godfather\": {\n",
    "\"year\": 1972,\n",
    "\"director\": \"Francis Ford Coppola\",\n",
    "\"stars\": [\"Marlon Brando\", \"Al Pacino\", \"James Caan\"],\n",
    "\"genre\": [\"Crime\", \"Drama\"],\n",
    "\"rating\": 9.2\n",
    "},\n",
    "\"The Godfather: Part II\": {\n",
    "\"year\": 1974,\n",
    "\"director\": \"Francis Ford Coppola\",\n",
    "\"stars\": [\"Al Pacino\", \"Robert De Niro\", \"Robert Duvall\"],\n",
    "\"genre\": [\"Crime\", \"Drama\"],\n",
    "\"rating\": 9.0\n",
    "},\n",
    "\"The Dark Knight\": {\n",
    "\"year\": 2008,\n",
    "\"director\": \"Christopher Nolan\",\n",
    "\"stars\": [\"Christian Bale\", \"Heath Ledger\", \"Aaron Eckhart\"],\n",
    "\"genre\": [\"Action\", \"Crime\", \"Drama\"],\n",
    "\"rating\": 9.0\n",
    "},\n",
    "\"12 Angry Men\": {\n",
    "\"year\": 1957,\n",
    "\"director\": \"Sidney Lumet\",\n",
    "\"stars\": [\"Henry Fonda\", \"Lee J. Cobb\", \"Martin Balsam\"],\n",
    "\"genre\": [\"Drama\"],\n",
    "\"rating\": 8.9\n",
    "},\n",
    "\"Schindler's List\": {\n",
    "\"year\": 1993,\n",
    "\"director\": \"Steven Spielberg\",\n",
    "\"stars\": [\"Liam Neeson\", \"Ralph Fiennes\", \"Ben Kingsley\"],\n",
    "\"genre\": [\"Biography\", \"Drama\", \"History\"],\n",
    "\"rating\": 8.9\n",
    "},\n",
    "\"The Lord of the Rings: The Return of the King\": {\n",
    "\"year\": 2003,\n",
    "\"director\": \"Peter Jackson\",\n",
    "\"stars\": [\"Elijah Wood\", \"Viggo Mortensen\", \"Ian McKellen\"],\n",
    "\"genre\": [\"Action\", \"Adventure\", \"Drama\"],\n",
    "\"rating\": 8.9\n",
    "},\n",
    "\"Pulp Fiction\": {\n",
    "\"year\": 1994,\n",
    "\"director\": \"Quentin Tarantino\",\n",
    "\"stars\": [\"John Travolta\", \"Uma Thurman\", \"Samuel L. Jackson\"],\n",
    "\"genre\": [\"Crime\", \"Drama\"],\n",
    "\"rating\": 8.9\n",
    "},\n",
    "\"The Lord of the Rings: The Fellowship of the Ring\": {\n",
    "\"year\": 2001,\n",
    "\"director\": \"Peter Jackson\",\n",
    "\"stars\": [\"Elijah Wood\", \"Ian McKellen\", \"Orlando Bloom\"],\n",
    "\"genre\": [\"Action\", \"Adventure\", \"Drama\"],\n",
    "\"rating\": 8.8\n",
    "},\n",
    "\"Forrest Gump\": {\n",
    "\"year\": 1994,\n",
    "\"director\": \"Robert Zemeckis\",\n",
    "\"stars\": [\"Tom Hanks\", \"Robin Wright\", \"Gary Sinise\"],\n",
    "\"genre\": [\"Drama\", \"Romance\"],\n",
    "\"rating\": 8.8\n",
    "},\n",
    "\"Inception\": {\n",
    "\"year\": 2010,\n",
    "\"director\": \"Christopher Nolan\",\n",
    "\"stars\": [\"Leonardo DiCaprio\", \"Joseph Gordon-Levitt\", \"Ellen Page\"],   \n",
    "\n",
    "\"genre\": [\"Action\", \"Adventure\", \"Sci-Fi\"],   \n",
    "\n",
    " \"rating\": 8.8}\n",
    "\n",
    "}"
   ]
  },
  {
   "cell_type": "code",
   "execution_count": 16,
   "metadata": {},
   "outputs": [
    {
     "name": "stdout",
     "output_type": "stream",
     "text": [
      "dict_values([2010, 'Christopher Nolan', ['Leonardo DiCaprio', 'Joseph Gordon-Levitt', 'Ellen Page'], ['Action', 'Adventure', 'Sci-Fi'], 8.8])\n"
     ]
    }
   ],
   "source": [
    "\n",
    "#get user input for search term and criteria\n",
    "search_term = input(\"Enter a search term: \").title() #format the search term to title case\n",
    "search_criteria = input(\"Enter a search criteria (year, director, stars, genre, rating: \").lower() #format the criteria to lower case\n",
    "\n",
    "if search_term in movie_db.keys() and search_criteria in movie_db[search_term].keys():\n",
    "    print(movie_db[search_term][search_criteria])\n",
    "else:\n",
    "    print(\"No movies found matching search criteria\")\n"
   ]
  },
  {
   "cell_type": "code",
   "execution_count": null,
   "metadata": {},
   "outputs": [],
   "source": []
  }
 ],
 "metadata": {
  "kernelspec": {
   "display_name": "Python 3",
   "language": "python",
   "name": "python3"
  },
  "language_info": {
   "codemirror_mode": {
    "name": "ipython",
    "version": 3
   },
   "file_extension": ".py",
   "mimetype": "text/x-python",
   "name": "python",
   "nbconvert_exporter": "python",
   "pygments_lexer": "ipython3",
   "version": "3.12.0"
  }
 },
 "nbformat": 4,
 "nbformat_minor": 2
}
